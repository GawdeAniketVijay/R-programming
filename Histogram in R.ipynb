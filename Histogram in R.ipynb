{
 "cells": [
  {
   "cell_type": "markdown",
   "id": "6dc70dbc",
   "metadata": {},
   "source": [
    "### Write a R program to draw a histogram with the following information:\n",
    "    10 15 10 10 10 15 20 20 20 20 20 25 25"
   ]
  },
  {
   "cell_type": "code",
   "execution_count": 1,
   "id": "ff554e96",
   "metadata": {},
   "outputs": [
    {
     "data": {
      "text/html": [
       "<ol class=list-inline>\n",
       "\t<li>10</li>\n",
       "\t<li>15</li>\n",
       "\t<li>10</li>\n",
       "\t<li>10</li>\n",
       "\t<li>10</li>\n",
       "\t<li>15</li>\n",
       "\t<li>20</li>\n",
       "\t<li>20</li>\n",
       "\t<li>20</li>\n",
       "\t<li>20</li>\n",
       "\t<li>20</li>\n",
       "\t<li>25</li>\n",
       "\t<li>25</li>\n",
       "</ol>\n"
      ],
      "text/latex": [
       "\\begin{enumerate*}\n",
       "\\item 10\n",
       "\\item 15\n",
       "\\item 10\n",
       "\\item 10\n",
       "\\item 10\n",
       "\\item 15\n",
       "\\item 20\n",
       "\\item 20\n",
       "\\item 20\n",
       "\\item 20\n",
       "\\item 20\n",
       "\\item 25\n",
       "\\item 25\n",
       "\\end{enumerate*}\n"
      ],
      "text/markdown": [
       "1. 10\n",
       "2. 15\n",
       "3. 10\n",
       "4. 10\n",
       "5. 10\n",
       "6. 15\n",
       "7. 20\n",
       "8. 20\n",
       "9. 20\n",
       "10. 20\n",
       "11. 20\n",
       "12. 25\n",
       "13. 25\n",
       "\n",
       "\n"
      ],
      "text/plain": [
       " [1] 10 15 10 10 10 15 20 20 20 20 20 25 25"
      ]
     },
     "metadata": {},
     "output_type": "display_data"
    }
   ],
   "source": [
    "ages <- c(10,15,10,10,10,15,20,20,20,20,20,25,25)\n",
    "ages"
   ]
  },
  {
   "cell_type": "code",
   "execution_count": 2,
   "id": "d8445ed0",
   "metadata": {},
   "outputs": [
    {
     "data": {
      "text/html": [
       "<table>\n",
       "<thead><tr><th scope=col>ages</th></tr></thead>\n",
       "<tbody>\n",
       "\t<tr><td>10</td></tr>\n",
       "\t<tr><td>15</td></tr>\n",
       "\t<tr><td>10</td></tr>\n",
       "\t<tr><td>10</td></tr>\n",
       "\t<tr><td>10</td></tr>\n",
       "\t<tr><td>15</td></tr>\n",
       "\t<tr><td>20</td></tr>\n",
       "\t<tr><td>20</td></tr>\n",
       "\t<tr><td>20</td></tr>\n",
       "\t<tr><td>20</td></tr>\n",
       "\t<tr><td>20</td></tr>\n",
       "\t<tr><td>25</td></tr>\n",
       "\t<tr><td>25</td></tr>\n",
       "</tbody>\n",
       "</table>\n"
      ],
      "text/latex": [
       "\\begin{tabular}{r|l}\n",
       " ages\\\\\n",
       "\\hline\n",
       "\t 10\\\\\n",
       "\t 15\\\\\n",
       "\t 10\\\\\n",
       "\t 10\\\\\n",
       "\t 10\\\\\n",
       "\t 15\\\\\n",
       "\t 20\\\\\n",
       "\t 20\\\\\n",
       "\t 20\\\\\n",
       "\t 20\\\\\n",
       "\t 20\\\\\n",
       "\t 25\\\\\n",
       "\t 25\\\\\n",
       "\\end{tabular}\n"
      ],
      "text/markdown": [
       "\n",
       "| ages |\n",
       "|---|\n",
       "| 10 |\n",
       "| 15 |\n",
       "| 10 |\n",
       "| 10 |\n",
       "| 10 |\n",
       "| 15 |\n",
       "| 20 |\n",
       "| 20 |\n",
       "| 20 |\n",
       "| 20 |\n",
       "| 20 |\n",
       "| 25 |\n",
       "| 25 |\n",
       "\n"
      ],
      "text/plain": [
       "   ages\n",
       "1  10  \n",
       "2  15  \n",
       "3  10  \n",
       "4  10  \n",
       "5  10  \n",
       "6  15  \n",
       "7  20  \n",
       "8  20  \n",
       "9  20  \n",
       "10 20  \n",
       "11 20  \n",
       "12 25  \n",
       "13 25  "
      ]
     },
     "metadata": {},
     "output_type": "display_data"
    }
   ],
   "source": [
    "df<-data.frame(ages)\n",
    "df"
   ]
  },
  {
   "cell_type": "code",
   "execution_count": 6,
   "id": "fab5d0b3",
   "metadata": {},
   "outputs": [],
   "source": [
    "library(ggplot2)"
   ]
  },
  {
   "cell_type": "code",
   "execution_count": 7,
   "id": "5a020580",
   "metadata": {},
   "outputs": [
    {
     "name": "stderr",
     "output_type": "stream",
     "text": [
      "`stat_bin()` using `bins = 30`. Pick better value with `binwidth`.\n"
     ]
    },
    {
     "data": {
      "image/png": "[encoded data removed]",
      "text/plain": [
       "plot without title"
      ]
     },
     "metadata": {},
     "output_type": "display_data"
    }
   ],
   "source": [
    "ggplot(data=df,aes(x=ages))+geom_histogram()"
   ]
  },
  {
   "cell_type": "code",
   "execution_count": null,
   "id": "69f8ac6f",
   "metadata": {},
   "outputs": [],
   "source": []
  }
 ],
 "metadata": {
  "kernelspec": {
   "display_name": "R",
   "language": "R",
   "name": "ir"
  },
  "language_info": {
   "codemirror_mode": "r",
   "file_extension": ".r",
   "mimetype": "text/x-r-source",
   "name": "R",
   "pygments_lexer": "r",
   "version": "3.6.1"
  }
 },
 "nbformat": 4,
 "nbformat_minor": 5
}
