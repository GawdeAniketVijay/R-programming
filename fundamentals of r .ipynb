{
 "cells": [
  {
   "cell_type": "markdown",
   "id": "45988ab2",
   "metadata": {},
   "source": [
    "###  Write a program to swap two variables in R. For instance x,y = 10,20 , exchange the values of x and y using a temporary variable."
   ]
  },
  {
   "cell_type": "code",
   "execution_count": 26,
   "id": "982a24cf",
   "metadata": {},
   "outputs": [
    {
     "name": "stdout",
     "output_type": "stream",
     "text": [
      "x : 20\n",
      "y :  10"
     ]
    }
   ],
   "source": [
    "x <- 10\n",
    "y <- 20\n",
    "temp <- x\n",
    "x <- y\n",
    "y <- temp\n",
    "cat(\"x :\",x)\n",
    "cat(\"\\ny : \",y)"
   ]
  },
  {
   "cell_type": "markdown",
   "id": "dc624efd",
   "metadata": {},
   "source": [
    "### Write a program that displays your full name in R"
   ]
  },
  {
   "cell_type": "code",
   "execution_count": 33,
   "id": "c5e6a129",
   "metadata": {},
   "outputs": [
    {
     "name": "stdout",
     "output_type": "stream",
     "text": [
      "Enter your first name : Rahul\n",
      "Enter your second name : Patil\n",
      "Rahul Patil  is my full name."
     ]
    }
   ],
   "source": [
    "firstname <- readline(\"Enter your first name : \")\n",
    "lastname <- readline(\"Enter your second name : \")\n",
    "cat(firstname, lastname , \" is my full name.\")"
   ]
  },
  {
   "cell_type": "markdown",
   "id": "96fcc240",
   "metadata": {},
   "source": [
    "### Accept user's name and birth year. Print user's name and age.\n",
    "Hint - age = 2021 - birth year"
   ]
  },
  {
   "cell_type": "code",
   "execution_count": 13,
   "id": "3045b374",
   "metadata": {},
   "outputs": [
    {
     "name": "stdout",
     "output_type": "stream",
     "text": [
      "Enter the name : Chetan\n",
      "Enter your birth year : 1998\n",
      "Name:  Chetan , Birth: 1998\n",
      "Age :  24"
     ]
    }
   ],
   "source": [
    "name <-readline(\"Enter the name : \")\n",
    "Birth <- as.integer(readline(\"Enter your birth year : \"))\n",
    "cat(\"Name: \", name,\",\",\"Birth:\",Birth)\n",
    "age <- 2022 - Birth\n",
    "cat('\\nAge : ',age)"
   ]
  },
  {
   "cell_type": "markdown",
   "id": "2ca66286",
   "metadata": {},
   "source": [
    "### Accept input from user -> score in 5 subjects like math, physics, history, english and chemistry. calculate total score and percentage."
   ]
  },
  {
   "cell_type": "code",
   "execution_count": 19,
   "id": "c3ef4abb",
   "metadata": {},
   "outputs": [
    {
     "name": "stdout",
     "output_type": "stream",
     "text": [
      "Enter the marks for mathematics : 65\n",
      "Enter the marks for Physics : 50\n",
      "Enter the marks for history : 67\n",
      "Enter the marks for English : 89\n",
      "Enter the marks for chemistry : 70\n",
      "341\n",
      "Percentage :  72.6"
     ]
    }
   ],
   "source": [
    "math <-as.integer(readline(\"Enter the marks for mathematics : \"))\n",
    "Phy <-as.integer(readline(\"Enter the marks for Physics : \"))\n",
    "Hist <-as.integer(readline(\"Enter the marks for history : \"))\n",
    "Eng <- as.integer(readline(\"Enter the marks for English : \"))\n",
    "Chem <-as.integer(readline(\"Enter the marks for chemistry : \"))\n",
    "total_score <- math + Phy + Hist + Eng + Chem\n",
    "cat(total_score)\n",
    "percentage <- (total/500)*100\n",
    "cat(\"\\nPercentage : \", percentage)"
   ]
  },
  {
   "cell_type": "code",
   "execution_count": null,
   "id": "75666267",
   "metadata": {},
   "outputs": [],
   "source": []
  }
 ],
 "metadata": {
  "kernelspec": {
   "display_name": "R",
   "language": "R",
   "name": "ir"
  },
  "language_info": {
   "codemirror_mode": "r",
   "file_extension": ".r",
   "mimetype": "text/x-r-source",
   "name": "R",
   "pygments_lexer": "r",
   "version": "3.6.1"
  }
 },
 "nbformat": 4,
 "nbformat_minor": 5
}
