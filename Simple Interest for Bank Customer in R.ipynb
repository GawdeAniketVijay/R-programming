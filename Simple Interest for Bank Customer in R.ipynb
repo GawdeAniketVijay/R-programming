{
 "cells": [
  {
   "cell_type": "markdown",
   "id": "df1554dc",
   "metadata": {},
   "source": [
    "### #Write a Program to Calculate the Simple Interest for Bank Customer for Fixed Deposit\n",
    "\n",
    "#a. If customer is Female and Senior Citizen 8% rate\n",
    "\n",
    "#b. If customer is Female and Non-Senior Citizen 6% rate\n",
    "\n",
    "#c. If customer is Male and Senior Citizen 7% rate\n",
    "\n",
    "#d. If customer is Male and Non-Senior Citizen 5% rate"
   ]
  },
  {
   "cell_type": "code",
   "execution_count": 1,
   "id": "04d7fbb2",
   "metadata": {},
   "outputs": [
    {
     "name": "stdout",
     "output_type": "stream",
     "text": [
      "Enter your age:-25\n",
      "Enter your gender:-m\n",
      "Enter your principal amount:-1500\n",
      "Enter the time for investment:-100\n",
      "simple interest for fixed deposite:- Rs 750000\n",
      "Thank You!"
     ]
    }
   ],
   "source": [
    "age = as.integer(readline('Enter your age:-'))\n",
    "gender = readline('Enter your gender:-')\n",
    "pa = as.integer(readline('Enter your principal amount:-'))\n",
    "ti = as.integer(readline('Enter the time for investment:-'))\n",
    "if (age>=60 & gender=='f'){\n",
    "    RI=8\n",
    "}else if( age<60 & gender=='f'){\n",
    "    RI=6\n",
    "}else if (age>=60 & gender=='m'){\n",
    "    RI=7\n",
    "}else {\n",
    "    RI=5}\n",
    "SI = (pa*ti*RI)\n",
    "cat('simple interest for fixed deposite:-','Rs',SI)\n",
    "cat('\\nThank You!')"
   ]
  },
  {
   "cell_type": "code",
   "execution_count": null,
   "id": "27fc2c24",
   "metadata": {},
   "outputs": [],
   "source": []
  }
 ],
 "metadata": {
  "kernelspec": {
   "display_name": "R",
   "language": "R",
   "name": "ir"
  },
  "language_info": {
   "codemirror_mode": "r",
   "file_extension": ".r",
   "mimetype": "text/x-r-source",
   "name": "R",
   "pygments_lexer": "r",
   "version": "3.6.1"
  }
 },
 "nbformat": 4,
 "nbformat_minor": 5
}
