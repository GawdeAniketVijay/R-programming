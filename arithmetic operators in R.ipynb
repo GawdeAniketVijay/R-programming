{
 "cells": [
  {
   "cell_type": "markdown",
   "id": "3c6e8a4a",
   "metadata": {},
   "source": [
    "### #WAP which takes an arithmetic operators  & 2 numbers, as an and do the calculation based on the input operator"
   ]
  },
  {
   "cell_type": "code",
   "execution_count": 3,
   "id": "294b8082",
   "metadata": {},
   "outputs": [
    {
     "name": "stdout",
     "output_type": "stream",
     "text": [
      "Enter a number a :12\n",
      "Enter a number b :45\n",
      "Enter your choice :-2\n",
      "Continue.......y/n :-n\n",
      "\n",
      " 1. Sum\n",
      " 2. Subtract \n",
      " 3. Multiply \n",
      " 4. divideSubtract of 2 nos. : -33"
     ]
    }
   ],
   "source": [
    "repeat\n",
    "{\n",
    "  a=as.integer(readline('Enter a number a :'))\n",
    "  b=as.integer(readline('Enter a number b :'))\n",
    "  cat('\\n 1. Sum\\n 2. Subtract \\n 3. Multiply \\n 4. divide')\n",
    "  ch=as.integer(readline('Enter your choice :-'))\n",
    "  switch(ch,\n",
    "         cat('Sum of 2 nos. :',(a+b)),\n",
    "         cat('Subtract of 2 nos. :',(a-b)),\n",
    "         cat('Multiply of 2 nos. :',(a*b)),\n",
    "         cat('divide of 2 nos. :',(a/b)),\n",
    "         cat('Invalid choice')\n",
    "  )\n",
    "  ans=readline('Continue.......y/n :-')\n",
    "  ans=tolower(ans)\n",
    "  if(ans=='n')\n",
    "  {\n",
    "    break\n",
    "  }\n",
    "}"
   ]
  },
  {
   "cell_type": "code",
   "execution_count": null,
   "id": "90024ba1",
   "metadata": {},
   "outputs": [],
   "source": []
  }
 ],
 "metadata": {
  "kernelspec": {
   "display_name": "R",
   "language": "R",
   "name": "ir"
  },
  "language_info": {
   "codemirror_mode": "r",
   "file_extension": ".r",
   "mimetype": "text/x-r-source",
   "name": "R",
   "pygments_lexer": "r",
   "version": "3.6.1"
  }
 },
 "nbformat": 4,
 "nbformat_minor": 5
}
