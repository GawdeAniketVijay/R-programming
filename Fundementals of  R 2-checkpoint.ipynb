{
 "cells": [
  {
   "cell_type": "markdown",
   "id": "67a13869",
   "metadata": {},
   "source": [
    "### 1) Write a program to calculate factorial of user entered number "
   ]
  },
  {
   "cell_type": "code",
   "execution_count": 1,
   "id": "38a57f34",
   "metadata": {},
   "outputs": [
    {
     "name": "stdout",
     "output_type": "stream",
     "text": [
      "Enter number:-5\n",
      "Factorial 120"
     ]
    }
   ],
   "source": [
    "factorial=function(n)\n",
    "{\n",
    "  if(n==0)\n",
    "  {\n",
    "    return(1)\n",
    "  }else\n",
    "  {\n",
    "    return(n*factorial(n-1))\n",
    "  }\n",
    "}\n",
    "n=as.integer(readline('Enter number:-'))\n",
    "ans=factorial(n)\n",
    "cat('Factorial',ans)"
   ]
  },
  {
   "cell_type": "markdown",
   "id": "307f5ce0",
   "metadata": {},
   "source": [
    "### write a program to display multiplication table for given number "
   ]
  },
  {
   "cell_type": "code",
   "execution_count": 6,
   "id": "8f2475db",
   "metadata": {},
   "outputs": [
    {
     "name": "stdout",
     "output_type": "stream",
     "text": [
      "Enter a number: 7\n",
      "[1] \"7 x 1 = 7\"\n",
      "[1] \"7 x 2 = 14\"\n",
      "[1] \"7 x 3 = 21\"\n",
      "[1] \"7 x 4 = 28\"\n",
      "[1] \"7 x 5 = 35\"\n",
      "[1] \"7 x 6 = 42\"\n",
      "[1] \"7 x 7 = 49\"\n",
      "[1] \"7 x 8 = 56\"\n",
      "[1] \"7 x 9 = 63\"\n",
      "[1] \"7 x 10 = 70\"\n"
     ]
    }
   ],
   "source": [
    "num = as.integer(readline(prompt = \"Enter a number: \"))\n",
    "# use for loop to iterate 10 times\n",
    "for(i in 1:10) {\n",
    "print(paste(num,'x', i, '=', num*i))\n",
    "}"
   ]
  },
  {
   "cell_type": "markdown",
   "id": "d07575d0",
   "metadata": {},
   "source": [
    "### 3) Write a program to do sum of user entered 10 number"
   ]
  },
  {
   "cell_type": "code",
   "execution_count": 3,
   "id": "7c5454c3",
   "metadata": {},
   "outputs": [
    {
     "name": "stdout",
     "output_type": "stream",
     "text": [
      " [1] 10 11 12 13 14 15 16 17 18 19 20\n",
      "[1] 165\n"
     ]
    }
   ],
   "source": [
    "vector <- 10:20\n",
    "print(vector)\n",
    "print(sum(vector))"
   ]
  },
  {
   "cell_type": "markdown",
   "id": "32fd457a",
   "metadata": {},
   "source": [
    "### 4) Write a program to reverse user entered number  \n",
    "\n",
    "      n= 123 \n",
    "\n",
    "      rev=321 "
   ]
  },
  {
   "cell_type": "code",
   "execution_count": 4,
   "id": "ab1af9c4",
   "metadata": {},
   "outputs": [
    {
     "name": "stdout",
     "output_type": "stream",
     "text": [
      "Enter a number :153\n",
      "[1] \"Reverse number is : 351\"\n"
     ]
    }
   ],
   "source": [
    "n = as.integer(readline(prompt = \"Enter a number :\"))\n",
    "rev = 0\n",
    " \n",
    "while (n > 0) {\n",
    "    r = n %% 10\n",
    "    rev = rev * 10 + r\n",
    "    n = n %/% 10\n",
    "}\n",
    " \n",
    "print(paste(\"Reverse number is :\", rev))"
   ]
  },
  {
   "cell_type": "markdown",
   "id": "93477e33",
   "metadata": {},
   "source": [
    "### 5) write a program to print fibonacci serise \n",
    "\n",
    "     0,1,1,2,3,5,8 till user entered number "
   ]
  },
  {
   "cell_type": "code",
   "execution_count": 5,
   "id": "3174eb8f",
   "metadata": {},
   "outputs": [
    {
     "name": "stdout",
     "output_type": "stream",
     "text": [
      "How many terms? 5\n",
      "[1] \"Fibonacci sequence:\"\n",
      "[1] 0\n",
      "[1] 1\n",
      "[1] 1\n",
      "[1] 2\n",
      "[1] 3\n"
     ]
    }
   ],
   "source": [
    "nterms = as.integer(readline(prompt=\"How many terms? \"))\n",
    "# first two terms\n",
    "n1 = 0\n",
    "n2 = 1\n",
    "count = 2\n",
    "# check if the number of terms is valid\n",
    "if(nterms <= 0) {\n",
    "print(\"Plese enter a positive integer\")\n",
    "} else {\n",
    "if(nterms == 1) {\n",
    "print(\"Fibonacci sequence:\")\n",
    "print(n1)\n",
    "} else {\n",
    "print(\"Fibonacci sequence:\")\n",
    "print(n1)\n",
    "print(n2)\n",
    "while(count < nterms) {\n",
    "nth = n1 + n2\n",
    "print(nth)\n",
    "# update values\n",
    "n1 = n2\n",
    "n2 = nth\n",
    "count = count + 1\n",
    "}\n",
    "}\n",
    "}"
   ]
  },
  {
   "cell_type": "code",
   "execution_count": null,
   "id": "b119fc8f",
   "metadata": {},
   "outputs": [],
   "source": []
  }
 ],
 "metadata": {
  "kernelspec": {
   "display_name": "R",
   "language": "R",
   "name": "ir"
  },
  "language_info": {
   "codemirror_mode": "r",
   "file_extension": ".r",
   "mimetype": "text/x-r-source",
   "name": "R",
   "pygments_lexer": "r",
   "version": "3.6.1"
  }
 },
 "nbformat": 4,
 "nbformat_minor": 5
}
