{
 "cells": [
  {
   "cell_type": "markdown",
   "id": "9e3d251e",
   "metadata": {},
   "source": [
    "###  dplyr\n",
    "#### R allows us to perform data wrangling and data analysis. R provides the dplyr library for this purpose. This library facilitates several functions for the data frame in R."
   ]
  },
  {
   "cell_type": "code",
   "execution_count": 1,
   "id": "4744a51d",
   "metadata": {},
   "outputs": [],
   "source": [
    "# Dplyr Library : inbuilt library of r programming , it is very powerful library for data manipulation\n",
    "# Dplyr library is similar to pandas library in python\n",
    "\n",
    "# Many feature available in dplyr package :\n",
    "# 1.  Selecting specific columns :  select()\n",
    "# 2.  Applying filter : filter ()\n",
    "# 3.  Sorting data : arrange()\n",
    "# 4. Adding new columns  and deleting old columns: mutate()    select( df , - col )\n",
    "# 5. Rename the existing columns : rename()\n",
    "# 6. Aggreation function apply"
   ]
  },
  {
   "cell_type": "code",
   "execution_count": 2,
   "id": "25878324",
   "metadata": {},
   "outputs": [
    {
     "name": "stderr",
     "output_type": "stream",
     "text": [
      "Warning message:\n",
      "\"unable to access index for repository https://cran.r-project.org/src/contrib:\n",
      "  cannot open URL 'https://cran.r-project.org/src/contrib/PACKAGES'\"Warning message:\n",
      "\"package 'dplyr' is not available (for R version 3.6.1)\"Warning message:\n",
      "\"unable to access index for repository https://cran.r-project.org/bin/windows/contrib/3.6:\n",
      "  cannot open URL 'https://cran.r-project.org/bin/windows/contrib/3.6/PACKAGES'\""
     ]
    }
   ],
   "source": [
    "# First time install dplyr library  package  ,  R : open source : free of cost \n",
    "install.packages(\"dplyr\")"
   ]
  },
  {
   "cell_type": "code",
   "execution_count": 3,
   "id": "f8deea2b",
   "metadata": {},
   "outputs": [
    {
     "name": "stderr",
     "output_type": "stream",
     "text": [
      "Warning message:\n",
      "\"package 'dplyr' was built under R version 3.6.3\"\n",
      "Attaching package: 'dplyr'\n",
      "\n",
      "The following objects are masked from 'package:stats':\n",
      "\n",
      "    filter, lag\n",
      "\n",
      "The following objects are masked from 'package:base':\n",
      "\n",
      "    intersect, setdiff, setequal, union\n",
      "\n"
     ]
    }
   ],
   "source": [
    "# Call the dplyr library \n",
    " library(dplyr)"
   ]
  },
  {
   "cell_type": "code",
   "execution_count": 4,
   "id": "8e52095b",
   "metadata": {},
   "outputs": [
    {
     "name": "stdout",
     "output_type": "stream",
     "text": [
      "  X1 X2 X3\n",
      "1  1  1  F\n",
      "2  2  3  B\n",
      "3  3  5  C\n",
      "4  4  6  E\n",
      "5  5  9  A\n",
      "6  6  7  D\n"
     ]
    }
   ],
   "source": [
    "# First create a DATAFRAME\n",
    "data=data.frame(X1=1:6,X2=c(1,3,5,6,9,7),X3=c(\"F\",\"B\",\"C\",\"E\",\"A\",\"D\"))\n",
    "print(data)"
   ]
  },
  {
   "cell_type": "code",
   "execution_count": 5,
   "id": "ae262596",
   "metadata": {},
   "outputs": [
    {
     "data": {
      "text/html": [
       "<table>\n",
       "<thead><tr><th scope=col>X1</th><th scope=col>X3</th></tr></thead>\n",
       "<tbody>\n",
       "\t<tr><td>1</td><td>F</td></tr>\n",
       "\t<tr><td>2</td><td>B</td></tr>\n",
       "\t<tr><td>3</td><td>C</td></tr>\n",
       "\t<tr><td>4</td><td>E</td></tr>\n",
       "\t<tr><td>5</td><td>A</td></tr>\n",
       "\t<tr><td>6</td><td>D</td></tr>\n",
       "</tbody>\n",
       "</table>\n"
      ],
      "text/latex": [
       "\\begin{tabular}{r|ll}\n",
       " X1 & X3\\\\\n",
       "\\hline\n",
       "\t 1 & F\\\\\n",
       "\t 2 & B\\\\\n",
       "\t 3 & C\\\\\n",
       "\t 4 & E\\\\\n",
       "\t 5 & A\\\\\n",
       "\t 6 & D\\\\\n",
       "\\end{tabular}\n"
      ],
      "text/markdown": [
       "\n",
       "| X1 | X3 |\n",
       "|---|---|\n",
       "| 1 | F |\n",
       "| 2 | B |\n",
       "| 3 | C |\n",
       "| 4 | E |\n",
       "| 5 | A |\n",
       "| 6 | D |\n",
       "\n"
      ],
      "text/plain": [
       "  X1 X3\n",
       "1 1  F \n",
       "2 2  B \n",
       "3 3  C \n",
       "4 4  E \n",
       "5 5  A \n",
       "6 6  D "
      ]
     },
     "metadata": {},
     "output_type": "display_data"
    }
   ],
   "source": [
    "# Select () inbuilt function : to show particular column from dataframe\n",
    "# for e.g. to show all rows for X1 and X3 columns\n",
    "select(data,X1,X3)"
   ]
  },
  {
   "cell_type": "code",
   "execution_count": 6,
   "id": "78e7cd9c",
   "metadata": {},
   "outputs": [
    {
     "data": {
      "text/html": [
       "<table>\n",
       "<thead><tr><th scope=col>X1</th><th scope=col>X2</th><th scope=col>X3</th></tr></thead>\n",
       "<tbody>\n",
       "\t<tr><td>2</td><td>3</td><td>B</td></tr>\n",
       "</tbody>\n",
       "</table>\n"
      ],
      "text/latex": [
       "\\begin{tabular}{r|lll}\n",
       " X1 & X2 & X3\\\\\n",
       "\\hline\n",
       "\t 2 & 3 & B\\\\\n",
       "\\end{tabular}\n"
      ],
      "text/markdown": [
       "\n",
       "| X1 | X2 | X3 |\n",
       "|---|---|---|\n",
       "| 2 | 3 | B |\n",
       "\n"
      ],
      "text/plain": [
       "  X1 X2 X3\n",
       "1 2  3  B "
      ]
     },
     "metadata": {},
     "output_type": "display_data"
    }
   ],
   "source": [
    "# To show particular row means particular records then use inbuilt method \n",
    "# Filter()\n",
    "# To show those records whose X2 = 3\n",
    "filter(data,X2==3)   # Syntax : filter(dataframe,condition)"
   ]
  },
  {
   "cell_type": "code",
   "execution_count": 7,
   "id": "bec8d048",
   "metadata": {},
   "outputs": [],
   "source": [
    "#First create a vector for Empid,Empname,Salary and date of joining \n",
    "Empid=101:110\n",
    "Empname=c('Anu','Rohan','Yogesh','Seema','Deepa','Pankaj','Kamal','Leela',\n",
    "         'Ram','Mohan')\n",
    "Salary=c(45000,54000,65000,34000,76000,87000,47900,56980,43980,47800)\n",
    "DOJ=as.Date(c(\"2014-03-23\",\"2012-09-16\",\"2014-03-23\",\"2018-01-19\",\"2021-05-04\",\n",
    "             \"2020-07-26\",\"2019-04-04\",\"2018-05-28\",\"2020-12-08\",\"2021-02-15\"))"
   ]
  },
  {
   "cell_type": "code",
   "execution_count": 8,
   "id": "05ee8299",
   "metadata": {},
   "outputs": [
    {
     "name": "stdout",
     "output_type": "stream",
     "text": [
      "   Empid Empname Salary        DOJ\n",
      "1    101     Anu  45000 2014-03-23\n",
      "2    102   Rohan  54000 2012-09-16\n",
      "3    103  Yogesh  65000 2014-03-23\n",
      "4    104   Seema  34000 2018-01-19\n",
      "5    105   Deepa  76000 2021-05-04\n",
      "6    106  Pankaj  87000 2020-07-26\n",
      "7    107   Kamal  47900 2019-04-04\n",
      "8    108   Leela  56980 2018-05-28\n",
      "9    109     Ram  43980 2020-12-08\n",
      "10   110   Mohan  47800 2021-02-15\n"
     ]
    }
   ],
   "source": [
    "#Create a DataFrame with the help of vector \n",
    "Employee=data.frame(Empid,Empname,Salary,DOJ)\n",
    "print(Employee)"
   ]
  },
  {
   "cell_type": "code",
   "execution_count": 9,
   "id": "bc8afdaf",
   "metadata": {},
   "outputs": [
    {
     "data": {
      "text/html": [
       "<table>\n",
       "<thead><tr><th scope=col>Empid</th><th scope=col>Empname</th><th scope=col>Salary</th><th scope=col>DOJ</th></tr></thead>\n",
       "<tbody>\n",
       "\t<tr><td>101       </td><td>Anu       </td><td>45000     </td><td>2014-03-23</td></tr>\n",
       "\t<tr><td>102       </td><td>Rohan     </td><td>54000     </td><td>2012-09-16</td></tr>\n",
       "\t<tr><td>103       </td><td>Yogesh    </td><td>65000     </td><td>2014-03-23</td></tr>\n",
       "\t<tr><td>105       </td><td>Deepa     </td><td>76000     </td><td>2021-05-04</td></tr>\n",
       "\t<tr><td>106       </td><td>Pankaj    </td><td>87000     </td><td>2020-07-26</td></tr>\n",
       "\t<tr><td>107       </td><td>Kamal     </td><td>47900     </td><td>2019-04-04</td></tr>\n",
       "\t<tr><td>108       </td><td>Leela     </td><td>56980     </td><td>2018-05-28</td></tr>\n",
       "\t<tr><td>109       </td><td>Ram       </td><td>43980     </td><td>2020-12-08</td></tr>\n",
       "\t<tr><td>110       </td><td>Mohan     </td><td>47800     </td><td>2021-02-15</td></tr>\n",
       "</tbody>\n",
       "</table>\n"
      ],
      "text/latex": [
       "\\begin{tabular}{r|llll}\n",
       " Empid & Empname & Salary & DOJ\\\\\n",
       "\\hline\n",
       "\t 101        & Anu        & 45000      & 2014-03-23\\\\\n",
       "\t 102        & Rohan      & 54000      & 2012-09-16\\\\\n",
       "\t 103        & Yogesh     & 65000      & 2014-03-23\\\\\n",
       "\t 105        & Deepa      & 76000      & 2021-05-04\\\\\n",
       "\t 106        & Pankaj     & 87000      & 2020-07-26\\\\\n",
       "\t 107        & Kamal      & 47900      & 2019-04-04\\\\\n",
       "\t 108        & Leela      & 56980      & 2018-05-28\\\\\n",
       "\t 109        & Ram        & 43980      & 2020-12-08\\\\\n",
       "\t 110        & Mohan      & 47800      & 2021-02-15\\\\\n",
       "\\end{tabular}\n"
      ],
      "text/markdown": [
       "\n",
       "| Empid | Empname | Salary | DOJ |\n",
       "|---|---|---|---|\n",
       "| 101        | Anu        | 45000      | 2014-03-23 |\n",
       "| 102        | Rohan      | 54000      | 2012-09-16 |\n",
       "| 103        | Yogesh     | 65000      | 2014-03-23 |\n",
       "| 105        | Deepa      | 76000      | 2021-05-04 |\n",
       "| 106        | Pankaj     | 87000      | 2020-07-26 |\n",
       "| 107        | Kamal      | 47900      | 2019-04-04 |\n",
       "| 108        | Leela      | 56980      | 2018-05-28 |\n",
       "| 109        | Ram        | 43980      | 2020-12-08 |\n",
       "| 110        | Mohan      | 47800      | 2021-02-15 |\n",
       "\n"
      ],
      "text/plain": [
       "  Empid Empname Salary DOJ       \n",
       "1 101   Anu     45000  2014-03-23\n",
       "2 102   Rohan   54000  2012-09-16\n",
       "3 103   Yogesh  65000  2014-03-23\n",
       "4 105   Deepa   76000  2021-05-04\n",
       "5 106   Pankaj  87000  2020-07-26\n",
       "6 107   Kamal   47900  2019-04-04\n",
       "7 108   Leela   56980  2018-05-28\n",
       "8 109   Ram     43980  2020-12-08\n",
       "9 110   Mohan   47800  2021-02-15"
      ]
     },
     "metadata": {},
     "output_type": "display_data"
    }
   ],
   "source": [
    "# To show those records of employees whose salary is greater than 40000\n",
    "filter(Employee,Salary>40000)"
   ]
  },
  {
   "cell_type": "code",
   "execution_count": 10,
   "id": "b02688e6",
   "metadata": {},
   "outputs": [
    {
     "data": {
      "text/html": [
       "<table>\n",
       "<thead><tr><th scope=col>Empname</th><th scope=col>Salary</th></tr></thead>\n",
       "<tbody>\n",
       "\t<tr><td>Anu   </td><td>45000 </td></tr>\n",
       "\t<tr><td>Rohan </td><td>54000 </td></tr>\n",
       "\t<tr><td>Yogesh</td><td>65000 </td></tr>\n",
       "\t<tr><td>Seema </td><td>34000 </td></tr>\n",
       "\t<tr><td>Deepa </td><td>76000 </td></tr>\n",
       "\t<tr><td>Pankaj</td><td>87000 </td></tr>\n",
       "\t<tr><td>Kamal </td><td>47900 </td></tr>\n",
       "\t<tr><td>Leela </td><td>56980 </td></tr>\n",
       "\t<tr><td>Ram   </td><td>43980 </td></tr>\n",
       "\t<tr><td>Mohan </td><td>47800 </td></tr>\n",
       "</tbody>\n",
       "</table>\n"
      ],
      "text/latex": [
       "\\begin{tabular}{r|ll}\n",
       " Empname & Salary\\\\\n",
       "\\hline\n",
       "\t Anu    & 45000 \\\\\n",
       "\t Rohan  & 54000 \\\\\n",
       "\t Yogesh & 65000 \\\\\n",
       "\t Seema  & 34000 \\\\\n",
       "\t Deepa  & 76000 \\\\\n",
       "\t Pankaj & 87000 \\\\\n",
       "\t Kamal  & 47900 \\\\\n",
       "\t Leela  & 56980 \\\\\n",
       "\t Ram    & 43980 \\\\\n",
       "\t Mohan  & 47800 \\\\\n",
       "\\end{tabular}\n"
      ],
      "text/markdown": [
       "\n",
       "| Empname | Salary |\n",
       "|---|---|\n",
       "| Anu    | 45000  |\n",
       "| Rohan  | 54000  |\n",
       "| Yogesh | 65000  |\n",
       "| Seema  | 34000  |\n",
       "| Deepa  | 76000  |\n",
       "| Pankaj | 87000  |\n",
       "| Kamal  | 47900  |\n",
       "| Leela  | 56980  |\n",
       "| Ram    | 43980  |\n",
       "| Mohan  | 47800  |\n",
       "\n"
      ],
      "text/plain": [
       "   Empname Salary\n",
       "1  Anu     45000 \n",
       "2  Rohan   54000 \n",
       "3  Yogesh  65000 \n",
       "4  Seema   34000 \n",
       "5  Deepa   76000 \n",
       "6  Pankaj  87000 \n",
       "7  Kamal   47900 \n",
       "8  Leela   56980 \n",
       "9  Ram     43980 \n",
       "10 Mohan   47800 "
      ]
     },
     "metadata": {},
     "output_type": "display_data"
    }
   ],
   "source": [
    "# To Show Employee and Salary of all employee\n",
    "select(Employee,Empname,Salary)"
   ]
  },
  {
   "cell_type": "code",
   "execution_count": 11,
   "id": "0fe6ca0a",
   "metadata": {},
   "outputs": [],
   "source": [
    "# To show Empname and Salary of those Employee whose salary > 40000 \n",
    "# First apply filter() and save new dataframe\n",
    "new_df = filter(Employee,Salary>40000)"
   ]
  },
  {
   "cell_type": "code",
   "execution_count": 12,
   "id": "ada4a5e7",
   "metadata": {},
   "outputs": [
    {
     "data": {
      "text/html": [
       "<table>\n",
       "<thead><tr><th scope=col>Empname</th><th scope=col>Salary</th></tr></thead>\n",
       "<tbody>\n",
       "\t<tr><td>Anu   </td><td>45000 </td></tr>\n",
       "\t<tr><td>Rohan </td><td>54000 </td></tr>\n",
       "\t<tr><td>Yogesh</td><td>65000 </td></tr>\n",
       "\t<tr><td>Deepa </td><td>76000 </td></tr>\n",
       "\t<tr><td>Pankaj</td><td>87000 </td></tr>\n",
       "\t<tr><td>Kamal </td><td>47900 </td></tr>\n",
       "\t<tr><td>Leela </td><td>56980 </td></tr>\n",
       "\t<tr><td>Ram   </td><td>43980 </td></tr>\n",
       "\t<tr><td>Mohan </td><td>47800 </td></tr>\n",
       "</tbody>\n",
       "</table>\n"
      ],
      "text/latex": [
       "\\begin{tabular}{r|ll}\n",
       " Empname & Salary\\\\\n",
       "\\hline\n",
       "\t Anu    & 45000 \\\\\n",
       "\t Rohan  & 54000 \\\\\n",
       "\t Yogesh & 65000 \\\\\n",
       "\t Deepa  & 76000 \\\\\n",
       "\t Pankaj & 87000 \\\\\n",
       "\t Kamal  & 47900 \\\\\n",
       "\t Leela  & 56980 \\\\\n",
       "\t Ram    & 43980 \\\\\n",
       "\t Mohan  & 47800 \\\\\n",
       "\\end{tabular}\n"
      ],
      "text/markdown": [
       "\n",
       "| Empname | Salary |\n",
       "|---|---|\n",
       "| Anu    | 45000  |\n",
       "| Rohan  | 54000  |\n",
       "| Yogesh | 65000  |\n",
       "| Deepa  | 76000  |\n",
       "| Pankaj | 87000  |\n",
       "| Kamal  | 47900  |\n",
       "| Leela  | 56980  |\n",
       "| Ram    | 43980  |\n",
       "| Mohan  | 47800  |\n",
       "\n"
      ],
      "text/plain": [
       "  Empname Salary\n",
       "1 Anu     45000 \n",
       "2 Rohan   54000 \n",
       "3 Yogesh  65000 \n",
       "4 Deepa   76000 \n",
       "5 Pankaj  87000 \n",
       "6 Kamal   47900 \n",
       "7 Leela   56980 \n",
       "8 Ram     43980 \n",
       "9 Mohan   47800 "
      ]
     },
     "metadata": {},
     "output_type": "display_data"
    }
   ],
   "source": [
    "select(new_df,Empname,Salary)"
   ]
  },
  {
   "cell_type": "code",
   "execution_count": 13,
   "id": "a5b050c0",
   "metadata": {},
   "outputs": [
    {
     "data": {
      "text/html": [
       "<table>\n",
       "<thead><tr><th scope=col>Empname</th><th scope=col>Salary</th></tr></thead>\n",
       "<tbody>\n",
       "\t<tr><td>Anu   </td><td>45000 </td></tr>\n",
       "\t<tr><td>Rohan </td><td>54000 </td></tr>\n",
       "\t<tr><td>Yogesh</td><td>65000 </td></tr>\n",
       "\t<tr><td>Deepa </td><td>76000 </td></tr>\n",
       "\t<tr><td>Pankaj</td><td>87000 </td></tr>\n",
       "\t<tr><td>Kamal </td><td>47900 </td></tr>\n",
       "\t<tr><td>Leela </td><td>56980 </td></tr>\n",
       "\t<tr><td>Ram   </td><td>43980 </td></tr>\n",
       "\t<tr><td>Mohan </td><td>47800 </td></tr>\n",
       "</tbody>\n",
       "</table>\n"
      ],
      "text/latex": [
       "\\begin{tabular}{r|ll}\n",
       " Empname & Salary\\\\\n",
       "\\hline\n",
       "\t Anu    & 45000 \\\\\n",
       "\t Rohan  & 54000 \\\\\n",
       "\t Yogesh & 65000 \\\\\n",
       "\t Deepa  & 76000 \\\\\n",
       "\t Pankaj & 87000 \\\\\n",
       "\t Kamal  & 47900 \\\\\n",
       "\t Leela  & 56980 \\\\\n",
       "\t Ram    & 43980 \\\\\n",
       "\t Mohan  & 47800 \\\\\n",
       "\\end{tabular}\n"
      ],
      "text/markdown": [
       "\n",
       "| Empname | Salary |\n",
       "|---|---|\n",
       "| Anu    | 45000  |\n",
       "| Rohan  | 54000  |\n",
       "| Yogesh | 65000  |\n",
       "| Deepa  | 76000  |\n",
       "| Pankaj | 87000  |\n",
       "| Kamal  | 47900  |\n",
       "| Leela  | 56980  |\n",
       "| Ram    | 43980  |\n",
       "| Mohan  | 47800  |\n",
       "\n"
      ],
      "text/plain": [
       "  Empname Salary\n",
       "1 Anu     45000 \n",
       "2 Rohan   54000 \n",
       "3 Yogesh  65000 \n",
       "4 Deepa   76000 \n",
       "5 Pankaj  87000 \n",
       "6 Kamal   47900 \n",
       "7 Leela   56980 \n",
       "8 Ram     43980 \n",
       "9 Mohan   47800 "
      ]
     },
     "metadata": {},
     "output_type": "display_data"
    }
   ],
   "source": [
    "# pipe operator : to join more than one dplyr command fire one query \n",
    "# Use inbuilt command >>>  % > %\n",
    "Employee%>%select(Empname,Salary)%>%filter(Salary>40000)"
   ]
  },
  {
   "cell_type": "code",
   "execution_count": 14,
   "id": "756e769f",
   "metadata": {},
   "outputs": [
    {
     "data": {
      "text/html": [
       "<table>\n",
       "<thead><tr><th scope=col>Empid</th><th scope=col>Empname</th><th scope=col>Salary</th><th scope=col>DOJ</th><th scope=col>PF</th></tr></thead>\n",
       "<tbody>\n",
       "\t<tr><td>101       </td><td>Anu       </td><td>45000     </td><td>2014-03-23</td><td>3375.0    </td></tr>\n",
       "\t<tr><td>102       </td><td>Rohan     </td><td>54000     </td><td>2012-09-16</td><td>4050.0    </td></tr>\n",
       "\t<tr><td>103       </td><td>Yogesh    </td><td>65000     </td><td>2014-03-23</td><td>4875.0    </td></tr>\n",
       "\t<tr><td>104       </td><td>Seema     </td><td>34000     </td><td>2018-01-19</td><td>2550.0    </td></tr>\n",
       "\t<tr><td>105       </td><td>Deepa     </td><td>76000     </td><td>2021-05-04</td><td>5700.0    </td></tr>\n",
       "\t<tr><td>106       </td><td>Pankaj    </td><td>87000     </td><td>2020-07-26</td><td>6525.0    </td></tr>\n",
       "\t<tr><td>107       </td><td>Kamal     </td><td>47900     </td><td>2019-04-04</td><td>3592.5    </td></tr>\n",
       "\t<tr><td>108       </td><td>Leela     </td><td>56980     </td><td>2018-05-28</td><td>4273.5    </td></tr>\n",
       "\t<tr><td>109       </td><td>Ram       </td><td>43980     </td><td>2020-12-08</td><td>3298.5    </td></tr>\n",
       "\t<tr><td>110       </td><td>Mohan     </td><td>47800     </td><td>2021-02-15</td><td>3585.0    </td></tr>\n",
       "</tbody>\n",
       "</table>\n"
      ],
      "text/latex": [
       "\\begin{tabular}{r|lllll}\n",
       " Empid & Empname & Salary & DOJ & PF\\\\\n",
       "\\hline\n",
       "\t 101        & Anu        & 45000      & 2014-03-23 & 3375.0    \\\\\n",
       "\t 102        & Rohan      & 54000      & 2012-09-16 & 4050.0    \\\\\n",
       "\t 103        & Yogesh     & 65000      & 2014-03-23 & 4875.0    \\\\\n",
       "\t 104        & Seema      & 34000      & 2018-01-19 & 2550.0    \\\\\n",
       "\t 105        & Deepa      & 76000      & 2021-05-04 & 5700.0    \\\\\n",
       "\t 106        & Pankaj     & 87000      & 2020-07-26 & 6525.0    \\\\\n",
       "\t 107        & Kamal      & 47900      & 2019-04-04 & 3592.5    \\\\\n",
       "\t 108        & Leela      & 56980      & 2018-05-28 & 4273.5    \\\\\n",
       "\t 109        & Ram        & 43980      & 2020-12-08 & 3298.5    \\\\\n",
       "\t 110        & Mohan      & 47800      & 2021-02-15 & 3585.0    \\\\\n",
       "\\end{tabular}\n"
      ],
      "text/markdown": [
       "\n",
       "| Empid | Empname | Salary | DOJ | PF |\n",
       "|---|---|---|---|---|\n",
       "| 101        | Anu        | 45000      | 2014-03-23 | 3375.0     |\n",
       "| 102        | Rohan      | 54000      | 2012-09-16 | 4050.0     |\n",
       "| 103        | Yogesh     | 65000      | 2014-03-23 | 4875.0     |\n",
       "| 104        | Seema      | 34000      | 2018-01-19 | 2550.0     |\n",
       "| 105        | Deepa      | 76000      | 2021-05-04 | 5700.0     |\n",
       "| 106        | Pankaj     | 87000      | 2020-07-26 | 6525.0     |\n",
       "| 107        | Kamal      | 47900      | 2019-04-04 | 3592.5     |\n",
       "| 108        | Leela      | 56980      | 2018-05-28 | 4273.5     |\n",
       "| 109        | Ram        | 43980      | 2020-12-08 | 3298.5     |\n",
       "| 110        | Mohan      | 47800      | 2021-02-15 | 3585.0     |\n",
       "\n"
      ],
      "text/plain": [
       "   Empid Empname Salary DOJ        PF    \n",
       "1  101   Anu     45000  2014-03-23 3375.0\n",
       "2  102   Rohan   54000  2012-09-16 4050.0\n",
       "3  103   Yogesh  65000  2014-03-23 4875.0\n",
       "4  104   Seema   34000  2018-01-19 2550.0\n",
       "5  105   Deepa   76000  2021-05-04 5700.0\n",
       "6  106   Pankaj  87000  2020-07-26 6525.0\n",
       "7  107   Kamal   47900  2019-04-04 3592.5\n",
       "8  108   Leela   56980  2018-05-28 4273.5\n",
       "9  109   Ram     43980  2020-12-08 3298.5\n",
       "10 110   Mohan   47800  2021-02-15 3585.0"
      ]
     },
     "metadata": {},
     "output_type": "display_data"
    }
   ],
   "source": [
    "# 3. mutate()  : To add new column in existing dataframe\n",
    "# Add new column PF which hold data 7.5 % of Existing column salary\n",
    "Emp = mutate(Employee,PF=Salary*7.5/100)\n",
    "# mutate(Dataframe,New_column=computation on existing col)\n",
    "Emp"
   ]
  },
  {
   "cell_type": "code",
   "execution_count": 15,
   "id": "3ad5cd8c",
   "metadata": {},
   "outputs": [
    {
     "data": {
      "text/html": [
       "<table>\n",
       "<thead><tr><th scope=col>Empid</th><th scope=col>Empname</th><th scope=col>Salary</th><th scope=col>DOJ</th><th scope=col>PF</th><th scope=col>Gross_Salary</th></tr></thead>\n",
       "<tbody>\n",
       "\t<tr><td>101       </td><td>Anu       </td><td>45000     </td><td>2014-03-23</td><td>3375.0    </td><td>151875000 </td></tr>\n",
       "\t<tr><td>102       </td><td>Rohan     </td><td>54000     </td><td>2012-09-16</td><td>4050.0    </td><td>218700000 </td></tr>\n",
       "\t<tr><td>103       </td><td>Yogesh    </td><td>65000     </td><td>2014-03-23</td><td>4875.0    </td><td>316875000 </td></tr>\n",
       "\t<tr><td>104       </td><td>Seema     </td><td>34000     </td><td>2018-01-19</td><td>2550.0    </td><td> 86700000 </td></tr>\n",
       "\t<tr><td>105       </td><td>Deepa     </td><td>76000     </td><td>2021-05-04</td><td>5700.0    </td><td>433200000 </td></tr>\n",
       "\t<tr><td>106       </td><td>Pankaj    </td><td>87000     </td><td>2020-07-26</td><td>6525.0    </td><td>567675000 </td></tr>\n",
       "\t<tr><td>107       </td><td>Kamal     </td><td>47900     </td><td>2019-04-04</td><td>3592.5    </td><td>172080750 </td></tr>\n",
       "\t<tr><td>108       </td><td>Leela     </td><td>56980     </td><td>2018-05-28</td><td>4273.5    </td><td>243504030 </td></tr>\n",
       "\t<tr><td>109       </td><td>Ram       </td><td>43980     </td><td>2020-12-08</td><td>3298.5    </td><td>145068030 </td></tr>\n",
       "\t<tr><td>110       </td><td>Mohan     </td><td>47800     </td><td>2021-02-15</td><td>3585.0    </td><td>171363000 </td></tr>\n",
       "</tbody>\n",
       "</table>\n"
      ],
      "text/latex": [
       "\\begin{tabular}{r|llllll}\n",
       " Empid & Empname & Salary & DOJ & PF & Gross\\_Salary\\\\\n",
       "\\hline\n",
       "\t 101        & Anu        & 45000      & 2014-03-23 & 3375.0     & 151875000 \\\\\n",
       "\t 102        & Rohan      & 54000      & 2012-09-16 & 4050.0     & 218700000 \\\\\n",
       "\t 103        & Yogesh     & 65000      & 2014-03-23 & 4875.0     & 316875000 \\\\\n",
       "\t 104        & Seema      & 34000      & 2018-01-19 & 2550.0     &  86700000 \\\\\n",
       "\t 105        & Deepa      & 76000      & 2021-05-04 & 5700.0     & 433200000 \\\\\n",
       "\t 106        & Pankaj     & 87000      & 2020-07-26 & 6525.0     & 567675000 \\\\\n",
       "\t 107        & Kamal      & 47900      & 2019-04-04 & 3592.5     & 172080750 \\\\\n",
       "\t 108        & Leela      & 56980      & 2018-05-28 & 4273.5     & 243504030 \\\\\n",
       "\t 109        & Ram        & 43980      & 2020-12-08 & 3298.5     & 145068030 \\\\\n",
       "\t 110        & Mohan      & 47800      & 2021-02-15 & 3585.0     & 171363000 \\\\\n",
       "\\end{tabular}\n"
      ],
      "text/markdown": [
       "\n",
       "| Empid | Empname | Salary | DOJ | PF | Gross_Salary |\n",
       "|---|---|---|---|---|---|\n",
       "| 101        | Anu        | 45000      | 2014-03-23 | 3375.0     | 151875000  |\n",
       "| 102        | Rohan      | 54000      | 2012-09-16 | 4050.0     | 218700000  |\n",
       "| 103        | Yogesh     | 65000      | 2014-03-23 | 4875.0     | 316875000  |\n",
       "| 104        | Seema      | 34000      | 2018-01-19 | 2550.0     |  86700000  |\n",
       "| 105        | Deepa      | 76000      | 2021-05-04 | 5700.0     | 433200000  |\n",
       "| 106        | Pankaj     | 87000      | 2020-07-26 | 6525.0     | 567675000  |\n",
       "| 107        | Kamal      | 47900      | 2019-04-04 | 3592.5     | 172080750  |\n",
       "| 108        | Leela      | 56980      | 2018-05-28 | 4273.5     | 243504030  |\n",
       "| 109        | Ram        | 43980      | 2020-12-08 | 3298.5     | 145068030  |\n",
       "| 110        | Mohan      | 47800      | 2021-02-15 | 3585.0     | 171363000  |\n",
       "\n"
      ],
      "text/plain": [
       "   Empid Empname Salary DOJ        PF     Gross_Salary\n",
       "1  101   Anu     45000  2014-03-23 3375.0 151875000   \n",
       "2  102   Rohan   54000  2012-09-16 4050.0 218700000   \n",
       "3  103   Yogesh  65000  2014-03-23 4875.0 316875000   \n",
       "4  104   Seema   34000  2018-01-19 2550.0  86700000   \n",
       "5  105   Deepa   76000  2021-05-04 5700.0 433200000   \n",
       "6  106   Pankaj  87000  2020-07-26 6525.0 567675000   \n",
       "7  107   Kamal   47900  2019-04-04 3592.5 172080750   \n",
       "8  108   Leela   56980  2018-05-28 4273.5 243504030   \n",
       "9  109   Ram     43980  2020-12-08 3298.5 145068030   \n",
       "10 110   Mohan   47800  2021-02-15 3585.0 171363000   "
      ]
     },
     "metadata": {},
     "output_type": "display_data"
    }
   ],
   "source": [
    "Emp1=mutate(Emp,Gross_Salary = Salary*PF)\n",
    "Emp1"
   ]
  },
  {
   "cell_type": "code",
   "execution_count": 16,
   "id": "24526fb0",
   "metadata": {},
   "outputs": [
    {
     "data": {
      "text/html": [
       "<table>\n",
       "<thead><tr><th scope=col>Empid</th><th scope=col>Empname</th><th scope=col>Salary</th><th scope=col>DOJ</th><th scope=col>PF</th><th scope=col>GP</th></tr></thead>\n",
       "<tbody>\n",
       "\t<tr><td>101       </td><td>Anu       </td><td>45000     </td><td>2014-03-23</td><td>3375.0    </td><td>151875000 </td></tr>\n",
       "\t<tr><td>102       </td><td>Rohan     </td><td>54000     </td><td>2012-09-16</td><td>4050.0    </td><td>218700000 </td></tr>\n",
       "\t<tr><td>103       </td><td>Yogesh    </td><td>65000     </td><td>2014-03-23</td><td>4875.0    </td><td>316875000 </td></tr>\n",
       "\t<tr><td>104       </td><td>Seema     </td><td>34000     </td><td>2018-01-19</td><td>2550.0    </td><td> 86700000 </td></tr>\n",
       "\t<tr><td>105       </td><td>Deepa     </td><td>76000     </td><td>2021-05-04</td><td>5700.0    </td><td>433200000 </td></tr>\n",
       "\t<tr><td>106       </td><td>Pankaj    </td><td>87000     </td><td>2020-07-26</td><td>6525.0    </td><td>567675000 </td></tr>\n",
       "\t<tr><td>107       </td><td>Kamal     </td><td>47900     </td><td>2019-04-04</td><td>3592.5    </td><td>172080750 </td></tr>\n",
       "\t<tr><td>108       </td><td>Leela     </td><td>56980     </td><td>2018-05-28</td><td>4273.5    </td><td>243504030 </td></tr>\n",
       "\t<tr><td>109       </td><td>Ram       </td><td>43980     </td><td>2020-12-08</td><td>3298.5    </td><td>145068030 </td></tr>\n",
       "\t<tr><td>110       </td><td>Mohan     </td><td>47800     </td><td>2021-02-15</td><td>3585.0    </td><td>171363000 </td></tr>\n",
       "</tbody>\n",
       "</table>\n"
      ],
      "text/latex": [
       "\\begin{tabular}{r|llllll}\n",
       " Empid & Empname & Salary & DOJ & PF & GP\\\\\n",
       "\\hline\n",
       "\t 101        & Anu        & 45000      & 2014-03-23 & 3375.0     & 151875000 \\\\\n",
       "\t 102        & Rohan      & 54000      & 2012-09-16 & 4050.0     & 218700000 \\\\\n",
       "\t 103        & Yogesh     & 65000      & 2014-03-23 & 4875.0     & 316875000 \\\\\n",
       "\t 104        & Seema      & 34000      & 2018-01-19 & 2550.0     &  86700000 \\\\\n",
       "\t 105        & Deepa      & 76000      & 2021-05-04 & 5700.0     & 433200000 \\\\\n",
       "\t 106        & Pankaj     & 87000      & 2020-07-26 & 6525.0     & 567675000 \\\\\n",
       "\t 107        & Kamal      & 47900      & 2019-04-04 & 3592.5     & 172080750 \\\\\n",
       "\t 108        & Leela      & 56980      & 2018-05-28 & 4273.5     & 243504030 \\\\\n",
       "\t 109        & Ram        & 43980      & 2020-12-08 & 3298.5     & 145068030 \\\\\n",
       "\t 110        & Mohan      & 47800      & 2021-02-15 & 3585.0     & 171363000 \\\\\n",
       "\\end{tabular}\n"
      ],
      "text/markdown": [
       "\n",
       "| Empid | Empname | Salary | DOJ | PF | GP |\n",
       "|---|---|---|---|---|---|\n",
       "| 101        | Anu        | 45000      | 2014-03-23 | 3375.0     | 151875000  |\n",
       "| 102        | Rohan      | 54000      | 2012-09-16 | 4050.0     | 218700000  |\n",
       "| 103        | Yogesh     | 65000      | 2014-03-23 | 4875.0     | 316875000  |\n",
       "| 104        | Seema      | 34000      | 2018-01-19 | 2550.0     |  86700000  |\n",
       "| 105        | Deepa      | 76000      | 2021-05-04 | 5700.0     | 433200000  |\n",
       "| 106        | Pankaj     | 87000      | 2020-07-26 | 6525.0     | 567675000  |\n",
       "| 107        | Kamal      | 47900      | 2019-04-04 | 3592.5     | 172080750  |\n",
       "| 108        | Leela      | 56980      | 2018-05-28 | 4273.5     | 243504030  |\n",
       "| 109        | Ram        | 43980      | 2020-12-08 | 3298.5     | 145068030  |\n",
       "| 110        | Mohan      | 47800      | 2021-02-15 | 3585.0     | 171363000  |\n",
       "\n"
      ],
      "text/plain": [
       "   Empid Empname Salary DOJ        PF     GP       \n",
       "1  101   Anu     45000  2014-03-23 3375.0 151875000\n",
       "2  102   Rohan   54000  2012-09-16 4050.0 218700000\n",
       "3  103   Yogesh  65000  2014-03-23 4875.0 316875000\n",
       "4  104   Seema   34000  2018-01-19 2550.0  86700000\n",
       "5  105   Deepa   76000  2021-05-04 5700.0 433200000\n",
       "6  106   Pankaj  87000  2020-07-26 6525.0 567675000\n",
       "7  107   Kamal   47900  2019-04-04 3592.5 172080750\n",
       "8  108   Leela   56980  2018-05-28 4273.5 243504030\n",
       "9  109   Ram     43980  2020-12-08 3298.5 145068030\n",
       "10 110   Mohan   47800  2021-02-15 3585.0 171363000"
      ]
     },
     "metadata": {},
     "output_type": "display_data"
    }
   ],
   "source": [
    "# Change the column name , use inbuilt function rename()\n",
    "# Suppose we want to change the column Gross_Salary to GP\n",
    "Emp1 = rename(Emp1,GP=Gross_Salary)\n",
    "# rename(dataframe,new_column_name = old_column_name)\n",
    "Emp1"
   ]
  },
  {
   "cell_type": "code",
   "execution_count": 17,
   "id": "331c0c17",
   "metadata": {},
   "outputs": [
    {
     "data": {
      "text/html": [
       "<table>\n",
       "<thead><tr><th scope=col>Empid</th><th scope=col>Empname</th><th scope=col>Salary</th><th scope=col>DOJ</th></tr></thead>\n",
       "<tbody>\n",
       "\t<tr><td>106       </td><td>Pankaj    </td><td>87000     </td><td>2020-07-26</td></tr>\n",
       "\t<tr><td>105       </td><td>Deepa     </td><td>76000     </td><td>2021-05-04</td></tr>\n",
       "\t<tr><td>103       </td><td>Yogesh    </td><td>65000     </td><td>2014-03-23</td></tr>\n",
       "\t<tr><td>108       </td><td>Leela     </td><td>56980     </td><td>2018-05-28</td></tr>\n",
       "\t<tr><td>102       </td><td>Rohan     </td><td>54000     </td><td>2012-09-16</td></tr>\n",
       "\t<tr><td>107       </td><td>Kamal     </td><td>47900     </td><td>2019-04-04</td></tr>\n",
       "\t<tr><td>110       </td><td>Mohan     </td><td>47800     </td><td>2021-02-15</td></tr>\n",
       "\t<tr><td>101       </td><td>Anu       </td><td>45000     </td><td>2014-03-23</td></tr>\n",
       "\t<tr><td>109       </td><td>Ram       </td><td>43980     </td><td>2020-12-08</td></tr>\n",
       "\t<tr><td>104       </td><td>Seema     </td><td>34000     </td><td>2018-01-19</td></tr>\n",
       "</tbody>\n",
       "</table>\n"
      ],
      "text/latex": [
       "\\begin{tabular}{r|llll}\n",
       " Empid & Empname & Salary & DOJ\\\\\n",
       "\\hline\n",
       "\t 106        & Pankaj     & 87000      & 2020-07-26\\\\\n",
       "\t 105        & Deepa      & 76000      & 2021-05-04\\\\\n",
       "\t 103        & Yogesh     & 65000      & 2014-03-23\\\\\n",
       "\t 108        & Leela      & 56980      & 2018-05-28\\\\\n",
       "\t 102        & Rohan      & 54000      & 2012-09-16\\\\\n",
       "\t 107        & Kamal      & 47900      & 2019-04-04\\\\\n",
       "\t 110        & Mohan      & 47800      & 2021-02-15\\\\\n",
       "\t 101        & Anu        & 45000      & 2014-03-23\\\\\n",
       "\t 109        & Ram        & 43980      & 2020-12-08\\\\\n",
       "\t 104        & Seema      & 34000      & 2018-01-19\\\\\n",
       "\\end{tabular}\n"
      ],
      "text/markdown": [
       "\n",
       "| Empid | Empname | Salary | DOJ |\n",
       "|---|---|---|---|\n",
       "| 106        | Pankaj     | 87000      | 2020-07-26 |\n",
       "| 105        | Deepa      | 76000      | 2021-05-04 |\n",
       "| 103        | Yogesh     | 65000      | 2014-03-23 |\n",
       "| 108        | Leela      | 56980      | 2018-05-28 |\n",
       "| 102        | Rohan      | 54000      | 2012-09-16 |\n",
       "| 107        | Kamal      | 47900      | 2019-04-04 |\n",
       "| 110        | Mohan      | 47800      | 2021-02-15 |\n",
       "| 101        | Anu        | 45000      | 2014-03-23 |\n",
       "| 109        | Ram        | 43980      | 2020-12-08 |\n",
       "| 104        | Seema      | 34000      | 2018-01-19 |\n",
       "\n"
      ],
      "text/plain": [
       "   Empid Empname Salary DOJ       \n",
       "1  106   Pankaj  87000  2020-07-26\n",
       "2  105   Deepa   76000  2021-05-04\n",
       "3  103   Yogesh  65000  2014-03-23\n",
       "4  108   Leela   56980  2018-05-28\n",
       "5  102   Rohan   54000  2012-09-16\n",
       "6  107   Kamal   47900  2019-04-04\n",
       "7  110   Mohan   47800  2021-02-15\n",
       "8  101   Anu     45000  2014-03-23\n",
       "9  109   Ram     43980  2020-12-08\n",
       "10 104   Seema   34000  2018-01-19"
      ]
     },
     "metadata": {},
     "output_type": "display_data"
    }
   ],
   "source": [
    "# arrange()  : To arrange record in ascending or descending order \n",
    "# According to particular column\n",
    "# arrange(Dataframe name, colname)   # By default ascending order\n",
    "# But descending order then use arrange(Dataframe name, desc(colname))\n",
    "# desc means descending order\n",
    "\n",
    "# Suppose we want to arrange Employee's record in descending  order to salary temproary \n",
    "arrange(Employee,desc(Salary))"
   ]
  },
  {
   "cell_type": "code",
   "execution_count": 18,
   "id": "6d29c9b1",
   "metadata": {},
   "outputs": [
    {
     "data": {
      "text/html": [
       "<table>\n",
       "<thead><tr><th scope=col>Empid</th><th scope=col>Empname</th><th scope=col>Salary</th><th scope=col>DOJ</th></tr></thead>\n",
       "<tbody>\n",
       "\t<tr><td>104       </td><td>Seema     </td><td>34000     </td><td>2018-01-19</td></tr>\n",
       "\t<tr><td>109       </td><td>Ram       </td><td>43980     </td><td>2020-12-08</td></tr>\n",
       "\t<tr><td>101       </td><td>Anu       </td><td>45000     </td><td>2014-03-23</td></tr>\n",
       "\t<tr><td>110       </td><td>Mohan     </td><td>47800     </td><td>2021-02-15</td></tr>\n",
       "\t<tr><td>107       </td><td>Kamal     </td><td>47900     </td><td>2019-04-04</td></tr>\n",
       "\t<tr><td>102       </td><td>Rohan     </td><td>54000     </td><td>2012-09-16</td></tr>\n",
       "\t<tr><td>108       </td><td>Leela     </td><td>56980     </td><td>2018-05-28</td></tr>\n",
       "\t<tr><td>103       </td><td>Yogesh    </td><td>65000     </td><td>2014-03-23</td></tr>\n",
       "\t<tr><td>105       </td><td>Deepa     </td><td>76000     </td><td>2021-05-04</td></tr>\n",
       "\t<tr><td>106       </td><td>Pankaj    </td><td>87000     </td><td>2020-07-26</td></tr>\n",
       "</tbody>\n",
       "</table>\n"
      ],
      "text/latex": [
       "\\begin{tabular}{r|llll}\n",
       " Empid & Empname & Salary & DOJ\\\\\n",
       "\\hline\n",
       "\t 104        & Seema      & 34000      & 2018-01-19\\\\\n",
       "\t 109        & Ram        & 43980      & 2020-12-08\\\\\n",
       "\t 101        & Anu        & 45000      & 2014-03-23\\\\\n",
       "\t 110        & Mohan      & 47800      & 2021-02-15\\\\\n",
       "\t 107        & Kamal      & 47900      & 2019-04-04\\\\\n",
       "\t 102        & Rohan      & 54000      & 2012-09-16\\\\\n",
       "\t 108        & Leela      & 56980      & 2018-05-28\\\\\n",
       "\t 103        & Yogesh     & 65000      & 2014-03-23\\\\\n",
       "\t 105        & Deepa      & 76000      & 2021-05-04\\\\\n",
       "\t 106        & Pankaj     & 87000      & 2020-07-26\\\\\n",
       "\\end{tabular}\n"
      ],
      "text/markdown": [
       "\n",
       "| Empid | Empname | Salary | DOJ |\n",
       "|---|---|---|---|\n",
       "| 104        | Seema      | 34000      | 2018-01-19 |\n",
       "| 109        | Ram        | 43980      | 2020-12-08 |\n",
       "| 101        | Anu        | 45000      | 2014-03-23 |\n",
       "| 110        | Mohan      | 47800      | 2021-02-15 |\n",
       "| 107        | Kamal      | 47900      | 2019-04-04 |\n",
       "| 102        | Rohan      | 54000      | 2012-09-16 |\n",
       "| 108        | Leela      | 56980      | 2018-05-28 |\n",
       "| 103        | Yogesh     | 65000      | 2014-03-23 |\n",
       "| 105        | Deepa      | 76000      | 2021-05-04 |\n",
       "| 106        | Pankaj     | 87000      | 2020-07-26 |\n",
       "\n"
      ],
      "text/plain": [
       "   Empid Empname Salary DOJ       \n",
       "1  104   Seema   34000  2018-01-19\n",
       "2  109   Ram     43980  2020-12-08\n",
       "3  101   Anu     45000  2014-03-23\n",
       "4  110   Mohan   47800  2021-02-15\n",
       "5  107   Kamal   47900  2019-04-04\n",
       "6  102   Rohan   54000  2012-09-16\n",
       "7  108   Leela   56980  2018-05-28\n",
       "8  103   Yogesh  65000  2014-03-23\n",
       "9  105   Deepa   76000  2021-05-04\n",
       "10 106   Pankaj  87000  2020-07-26"
      ]
     },
     "metadata": {},
     "output_type": "display_data"
    }
   ],
   "source": [
    "# Ascending Order\n",
    "arrange(Employee,Salary)"
   ]
  },
  {
   "cell_type": "code",
   "execution_count": 19,
   "id": "d866b1cf",
   "metadata": {},
   "outputs": [
    {
     "data": {
      "text/html": [
       "<table>\n",
       "<thead><tr><th scope=col>Empid</th><th scope=col>Empname</th><th scope=col>Salary</th><th scope=col>DOJ</th><th scope=col>PF</th><th scope=col>GP</th></tr></thead>\n",
       "<tbody>\n",
       "\t<tr><td>101       </td><td>Anu       </td><td>45000     </td><td>2014-03-23</td><td>3375.0    </td><td>151875000 </td></tr>\n",
       "\t<tr><td>102       </td><td>Rohan     </td><td>54000     </td><td>2012-09-16</td><td>4050.0    </td><td>218700000 </td></tr>\n",
       "\t<tr><td>103       </td><td>Yogesh    </td><td>65000     </td><td>2014-03-23</td><td>4875.0    </td><td>316875000 </td></tr>\n",
       "\t<tr><td>104       </td><td>Seema     </td><td>34000     </td><td>2018-01-19</td><td>2550.0    </td><td> 86700000 </td></tr>\n",
       "\t<tr><td>105       </td><td>Deepa     </td><td>76000     </td><td>2021-05-04</td><td>5700.0    </td><td>433200000 </td></tr>\n",
       "\t<tr><td>106       </td><td>Pankaj    </td><td>87000     </td><td>2020-07-26</td><td>6525.0    </td><td>567675000 </td></tr>\n",
       "\t<tr><td>107       </td><td>Kamal     </td><td>47900     </td><td>2019-04-04</td><td>3592.5    </td><td>172080750 </td></tr>\n",
       "\t<tr><td>108       </td><td>Leela     </td><td>56980     </td><td>2018-05-28</td><td>4273.5    </td><td>243504030 </td></tr>\n",
       "\t<tr><td>109       </td><td>Ram       </td><td>43980     </td><td>2020-12-08</td><td>3298.5    </td><td>145068030 </td></tr>\n",
       "\t<tr><td>110       </td><td>Mohan     </td><td>47800     </td><td>2021-02-15</td><td>3585.0    </td><td>171363000 </td></tr>\n",
       "</tbody>\n",
       "</table>\n"
      ],
      "text/latex": [
       "\\begin{tabular}{r|llllll}\n",
       " Empid & Empname & Salary & DOJ & PF & GP\\\\\n",
       "\\hline\n",
       "\t 101        & Anu        & 45000      & 2014-03-23 & 3375.0     & 151875000 \\\\\n",
       "\t 102        & Rohan      & 54000      & 2012-09-16 & 4050.0     & 218700000 \\\\\n",
       "\t 103        & Yogesh     & 65000      & 2014-03-23 & 4875.0     & 316875000 \\\\\n",
       "\t 104        & Seema      & 34000      & 2018-01-19 & 2550.0     &  86700000 \\\\\n",
       "\t 105        & Deepa      & 76000      & 2021-05-04 & 5700.0     & 433200000 \\\\\n",
       "\t 106        & Pankaj     & 87000      & 2020-07-26 & 6525.0     & 567675000 \\\\\n",
       "\t 107        & Kamal      & 47900      & 2019-04-04 & 3592.5     & 172080750 \\\\\n",
       "\t 108        & Leela      & 56980      & 2018-05-28 & 4273.5     & 243504030 \\\\\n",
       "\t 109        & Ram        & 43980      & 2020-12-08 & 3298.5     & 145068030 \\\\\n",
       "\t 110        & Mohan      & 47800      & 2021-02-15 & 3585.0     & 171363000 \\\\\n",
       "\\end{tabular}\n"
      ],
      "text/markdown": [
       "\n",
       "| Empid | Empname | Salary | DOJ | PF | GP |\n",
       "|---|---|---|---|---|---|\n",
       "| 101        | Anu        | 45000      | 2014-03-23 | 3375.0     | 151875000  |\n",
       "| 102        | Rohan      | 54000      | 2012-09-16 | 4050.0     | 218700000  |\n",
       "| 103        | Yogesh     | 65000      | 2014-03-23 | 4875.0     | 316875000  |\n",
       "| 104        | Seema      | 34000      | 2018-01-19 | 2550.0     |  86700000  |\n",
       "| 105        | Deepa      | 76000      | 2021-05-04 | 5700.0     | 433200000  |\n",
       "| 106        | Pankaj     | 87000      | 2020-07-26 | 6525.0     | 567675000  |\n",
       "| 107        | Kamal      | 47900      | 2019-04-04 | 3592.5     | 172080750  |\n",
       "| 108        | Leela      | 56980      | 2018-05-28 | 4273.5     | 243504030  |\n",
       "| 109        | Ram        | 43980      | 2020-12-08 | 3298.5     | 145068030  |\n",
       "| 110        | Mohan      | 47800      | 2021-02-15 | 3585.0     | 171363000  |\n",
       "\n"
      ],
      "text/plain": [
       "   Empid Empname Salary DOJ        PF     GP       \n",
       "1  101   Anu     45000  2014-03-23 3375.0 151875000\n",
       "2  102   Rohan   54000  2012-09-16 4050.0 218700000\n",
       "3  103   Yogesh  65000  2014-03-23 4875.0 316875000\n",
       "4  104   Seema   34000  2018-01-19 2550.0  86700000\n",
       "5  105   Deepa   76000  2021-05-04 5700.0 433200000\n",
       "6  106   Pankaj  87000  2020-07-26 6525.0 567675000\n",
       "7  107   Kamal   47900  2019-04-04 3592.5 172080750\n",
       "8  108   Leela   56980  2018-05-28 4273.5 243504030\n",
       "9  109   Ram     43980  2020-12-08 3298.5 145068030\n",
       "10 110   Mohan   47800  2021-02-15 3585.0 171363000"
      ]
     },
     "metadata": {},
     "output_type": "display_data"
    }
   ],
   "source": [
    "Emp1"
   ]
  },
  {
   "cell_type": "code",
   "execution_count": 20,
   "id": "32f49e14",
   "metadata": {},
   "outputs": [
    {
     "data": {
      "text/html": [
       "<table>\n",
       "<thead><tr><th scope=col>Empid</th><th scope=col>Empname</th><th scope=col>Salary</th><th scope=col>DOJ</th><th scope=col>PF</th></tr></thead>\n",
       "<tbody>\n",
       "\t<tr><td>101       </td><td>Anu       </td><td>45000     </td><td>2014-03-23</td><td>3375.0    </td></tr>\n",
       "\t<tr><td>102       </td><td>Rohan     </td><td>54000     </td><td>2012-09-16</td><td>4050.0    </td></tr>\n",
       "\t<tr><td>103       </td><td>Yogesh    </td><td>65000     </td><td>2014-03-23</td><td>4875.0    </td></tr>\n",
       "\t<tr><td>104       </td><td>Seema     </td><td>34000     </td><td>2018-01-19</td><td>2550.0    </td></tr>\n",
       "\t<tr><td>105       </td><td>Deepa     </td><td>76000     </td><td>2021-05-04</td><td>5700.0    </td></tr>\n",
       "\t<tr><td>106       </td><td>Pankaj    </td><td>87000     </td><td>2020-07-26</td><td>6525.0    </td></tr>\n",
       "\t<tr><td>107       </td><td>Kamal     </td><td>47900     </td><td>2019-04-04</td><td>3592.5    </td></tr>\n",
       "\t<tr><td>108       </td><td>Leela     </td><td>56980     </td><td>2018-05-28</td><td>4273.5    </td></tr>\n",
       "\t<tr><td>109       </td><td>Ram       </td><td>43980     </td><td>2020-12-08</td><td>3298.5    </td></tr>\n",
       "\t<tr><td>110       </td><td>Mohan     </td><td>47800     </td><td>2021-02-15</td><td>3585.0    </td></tr>\n",
       "</tbody>\n",
       "</table>\n"
      ],
      "text/latex": [
       "\\begin{tabular}{r|lllll}\n",
       " Empid & Empname & Salary & DOJ & PF\\\\\n",
       "\\hline\n",
       "\t 101        & Anu        & 45000      & 2014-03-23 & 3375.0    \\\\\n",
       "\t 102        & Rohan      & 54000      & 2012-09-16 & 4050.0    \\\\\n",
       "\t 103        & Yogesh     & 65000      & 2014-03-23 & 4875.0    \\\\\n",
       "\t 104        & Seema      & 34000      & 2018-01-19 & 2550.0    \\\\\n",
       "\t 105        & Deepa      & 76000      & 2021-05-04 & 5700.0    \\\\\n",
       "\t 106        & Pankaj     & 87000      & 2020-07-26 & 6525.0    \\\\\n",
       "\t 107        & Kamal      & 47900      & 2019-04-04 & 3592.5    \\\\\n",
       "\t 108        & Leela      & 56980      & 2018-05-28 & 4273.5    \\\\\n",
       "\t 109        & Ram        & 43980      & 2020-12-08 & 3298.5    \\\\\n",
       "\t 110        & Mohan      & 47800      & 2021-02-15 & 3585.0    \\\\\n",
       "\\end{tabular}\n"
      ],
      "text/markdown": [
       "\n",
       "| Empid | Empname | Salary | DOJ | PF |\n",
       "|---|---|---|---|---|\n",
       "| 101        | Anu        | 45000      | 2014-03-23 | 3375.0     |\n",
       "| 102        | Rohan      | 54000      | 2012-09-16 | 4050.0     |\n",
       "| 103        | Yogesh     | 65000      | 2014-03-23 | 4875.0     |\n",
       "| 104        | Seema      | 34000      | 2018-01-19 | 2550.0     |\n",
       "| 105        | Deepa      | 76000      | 2021-05-04 | 5700.0     |\n",
       "| 106        | Pankaj     | 87000      | 2020-07-26 | 6525.0     |\n",
       "| 107        | Kamal      | 47900      | 2019-04-04 | 3592.5     |\n",
       "| 108        | Leela      | 56980      | 2018-05-28 | 4273.5     |\n",
       "| 109        | Ram        | 43980      | 2020-12-08 | 3298.5     |\n",
       "| 110        | Mohan      | 47800      | 2021-02-15 | 3585.0     |\n",
       "\n"
      ],
      "text/plain": [
       "   Empid Empname Salary DOJ        PF    \n",
       "1  101   Anu     45000  2014-03-23 3375.0\n",
       "2  102   Rohan   54000  2012-09-16 4050.0\n",
       "3  103   Yogesh  65000  2014-03-23 4875.0\n",
       "4  104   Seema   34000  2018-01-19 2550.0\n",
       "5  105   Deepa   76000  2021-05-04 5700.0\n",
       "6  106   Pankaj  87000  2020-07-26 6525.0\n",
       "7  107   Kamal   47900  2019-04-04 3592.5\n",
       "8  108   Leela   56980  2018-05-28 4273.5\n",
       "9  109   Ram     43980  2020-12-08 3298.5\n",
       "10 110   Mohan   47800  2021-02-15 3585.0"
      ]
     },
     "metadata": {},
     "output_type": "display_data"
    }
   ],
   "source": [
    "# To remove column GP from existing dataframe Emp1 permanent\n",
    "Emp1 = select(Emp1,-GP)   #Here minus sigm means excluding thiose column\n",
    "Emp1"
   ]
  },
  {
   "cell_type": "code",
   "execution_count": 21,
   "id": "e90c7fed",
   "metadata": {},
   "outputs": [
    {
     "data": {
      "text/html": [
       "<table>\n",
       "<thead><tr><th scope=col>mean_sal</th></tr></thead>\n",
       "<tbody>\n",
       "\t<tr><td>55766</td></tr>\n",
       "</tbody>\n",
       "</table>\n"
      ],
      "text/latex": [
       "\\begin{tabular}{r|l}\n",
       " mean\\_sal\\\\\n",
       "\\hline\n",
       "\t 55766\\\\\n",
       "\\end{tabular}\n"
      ],
      "text/markdown": [
       "\n",
       "| mean_sal |\n",
       "|---|\n",
       "| 55766 |\n",
       "\n"
      ],
      "text/plain": [
       "  mean_sal\n",
       "1 55766   "
      ]
     },
     "metadata": {},
     "output_type": "display_data"
    }
   ],
   "source": [
    "# Special function in dplyr library\n",
    "# Summarise ()  function : to perfrom mathematical and statistical operation on numerical column in existing dataset.\n",
    "# For example : we are calculating mean for the column salary \n",
    "summarise(Employee,mean_sal = mean(Salary))\n",
    "# summarise (dataframe_name, new_column_name = mean(existing_numerical_column))"
   ]
  },
  {
   "cell_type": "code",
   "execution_count": 22,
   "id": "e20b2130",
   "metadata": {},
   "outputs": [
    {
     "data": {
      "text/html": [
       "<table>\n",
       "<thead><tr><th scope=col>sum_sal</th></tr></thead>\n",
       "<tbody>\n",
       "\t<tr><td>557660</td></tr>\n",
       "</tbody>\n",
       "</table>\n"
      ],
      "text/latex": [
       "\\begin{tabular}{r|l}\n",
       " sum\\_sal\\\\\n",
       "\\hline\n",
       "\t 557660\\\\\n",
       "\\end{tabular}\n"
      ],
      "text/markdown": [
       "\n",
       "| sum_sal |\n",
       "|---|\n",
       "| 557660 |\n",
       "\n"
      ],
      "text/plain": [
       "  sum_sal\n",
       "1 557660 "
      ]
     },
     "metadata": {},
     "output_type": "display_data"
    }
   ],
   "source": [
    "# Total\n",
    "summarise(Employee,sum_sal = sum(Salary))"
   ]
  },
  {
   "cell_type": "code",
   "execution_count": 23,
   "id": "99f0caa6",
   "metadata": {},
   "outputs": [
    {
     "data": {
      "text/html": [
       "<table>\n",
       "<thead><tr><th scope=col>max_sal</th></tr></thead>\n",
       "<tbody>\n",
       "\t<tr><td>87000</td></tr>\n",
       "</tbody>\n",
       "</table>\n"
      ],
      "text/latex": [
       "\\begin{tabular}{r|l}\n",
       " max\\_sal\\\\\n",
       "\\hline\n",
       "\t 87000\\\\\n",
       "\\end{tabular}\n"
      ],
      "text/markdown": [
       "\n",
       "| max_sal |\n",
       "|---|\n",
       "| 87000 |\n",
       "\n"
      ],
      "text/plain": [
       "  max_sal\n",
       "1 87000  "
      ]
     },
     "metadata": {},
     "output_type": "display_data"
    }
   ],
   "source": [
    "summarise(Employee,max_sal = max(Salary))"
   ]
  },
  {
   "cell_type": "code",
   "execution_count": 24,
   "id": "7ce4f7b6",
   "metadata": {},
   "outputs": [
    {
     "data": {
      "text/html": [
       "<table>\n",
       "<thead><tr><th scope=col>min_sal</th></tr></thead>\n",
       "<tbody>\n",
       "\t<tr><td>34000</td></tr>\n",
       "</tbody>\n",
       "</table>\n"
      ],
      "text/latex": [
       "\\begin{tabular}{r|l}\n",
       " min\\_sal\\\\\n",
       "\\hline\n",
       "\t 34000\\\\\n",
       "\\end{tabular}\n"
      ],
      "text/markdown": [
       "\n",
       "| min_sal |\n",
       "|---|\n",
       "| 34000 |\n",
       "\n"
      ],
      "text/plain": [
       "  min_sal\n",
       "1 34000  "
      ]
     },
     "metadata": {},
     "output_type": "display_data"
    }
   ],
   "source": [
    "summarise(Employee,min_sal = min(Salary))"
   ]
  },
  {
   "cell_type": "code",
   "execution_count": 25,
   "id": "d20f6a76",
   "metadata": {},
   "outputs": [
    {
     "name": "stderr",
     "output_type": "stream",
     "text": [
      "Warning message:\n",
      "\"`funs()` was deprecated in dplyr 0.8.0.\n",
      "Please use a list of either functions or lambdas: \n",
      "\n",
      "  # Simple named list: \n",
      "  list(mean = mean, median = median)\n",
      "\n",
      "  # Auto named with `tibble::lst()`: \n",
      "  tibble::lst(mean, median)\n",
      "\n",
      "  # Using lambdas\n",
      "  list(~ mean(., trim = .2), ~ median(., na.rm = TRUE))\n",
      "This warning is displayed once every 8 hours.\n",
      "Call `lifecycle::last_lifecycle_warnings()` to see where this warning was generated.\""
     ]
    },
    {
     "data": {
      "text/html": [
       "<table>\n",
       "<thead><tr><th scope=col>Empid_n</th><th scope=col>Salary_n</th><th scope=col>PF_n</th><th scope=col>Empid_mean</th><th scope=col>Salary_mean</th><th scope=col>PF_mean</th><th scope=col>Empid_median</th><th scope=col>Salary_median</th><th scope=col>PF_median</th></tr></thead>\n",
       "<tbody>\n",
       "\t<tr><td>10     </td><td>10     </td><td>10     </td><td>105.5  </td><td>55766  </td><td>4182.45</td><td>105.5  </td><td>50950  </td><td>3821.25</td></tr>\n",
       "</tbody>\n",
       "</table>\n"
      ],
      "text/latex": [
       "\\begin{tabular}{r|lllllllll}\n",
       " Empid\\_n & Salary\\_n & PF\\_n & Empid\\_mean & Salary\\_mean & PF\\_mean & Empid\\_median & Salary\\_median & PF\\_median\\\\\n",
       "\\hline\n",
       "\t 10      & 10      & 10      & 105.5   & 55766   & 4182.45 & 105.5   & 50950   & 3821.25\\\\\n",
       "\\end{tabular}\n"
      ],
      "text/markdown": [
       "\n",
       "| Empid_n | Salary_n | PF_n | Empid_mean | Salary_mean | PF_mean | Empid_median | Salary_median | PF_median |\n",
       "|---|---|---|---|---|---|---|---|---|\n",
       "| 10      | 10      | 10      | 105.5   | 55766   | 4182.45 | 105.5   | 50950   | 3821.25 |\n",
       "\n"
      ],
      "text/plain": [
       "  Empid_n Salary_n PF_n Empid_mean Salary_mean PF_mean Empid_median\n",
       "1 10      10       10   105.5      55766       4182.45 105.5       \n",
       "  Salary_median PF_median\n",
       "1 50950         3821.25  "
      ]
     },
     "metadata": {},
     "output_type": "display_data"
    }
   ],
   "source": [
    "# Apply mathematical operations on Numerical column\n",
    "# Use inbuilt method summarise_if()\n",
    "summarise_if(Emp1,is.numeric,funs(n(),mean,median))\n",
    "# Here n() : No. of records "
   ]
  },
  {
   "cell_type": "code",
   "execution_count": 26,
   "id": "856ba1c4",
   "metadata": {},
   "outputs": [
    {
     "data": {
      "text/html": [
       "'C:/Users/Aniket Gawde/Desktop/r'"
      ],
      "text/latex": [
       "'C:/Users/Aniket Gawde/Desktop/r'"
      ],
      "text/markdown": [
       "'C:/Users/Aniket Gawde/Desktop/r'"
      ],
      "text/plain": [
       "[1] \"C:/Users/Aniket Gawde/Desktop/r\""
      ]
     },
     "metadata": {},
     "output_type": "display_data"
    }
   ],
   "source": [
    "# Work on real database (csv file means comma separated value) : automobile_data.csv\n",
    "# To show current working directory , use getwd()\n",
    "getwd()"
   ]
  },
  {
   "cell_type": "code",
   "execution_count": 27,
   "id": "4de8c373",
   "metadata": {},
   "outputs": [
    {
     "data": {
      "text/html": [
       "<table>\n",
       "<thead><tr><th scope=col>symboling</th><th scope=col>normalized.losses</th><th scope=col>make</th><th scope=col>fuel.type</th><th scope=col>body.style</th><th scope=col>drive.wheels</th><th scope=col>engine.location</th><th scope=col>width</th><th scope=col>height</th><th scope=col>engine.type</th><th scope=col>engine.size</th><th scope=col>horsepower</th><th scope=col>city.mpg</th><th scope=col>highway.mpg</th><th scope=col>price</th></tr></thead>\n",
       "<tbody>\n",
       "\t<tr><td>3          </td><td>?          </td><td>alfa-romero</td><td>gas        </td><td>convertible</td><td>rwd        </td><td>front      </td><td>64.1       </td><td>48.8       </td><td>dohc       </td><td>130        </td><td>111        </td><td>21         </td><td>27         </td><td>13495      </td></tr>\n",
       "\t<tr><td>3          </td><td>?          </td><td>alfa-romero</td><td>gas        </td><td>convertible</td><td>rwd        </td><td>front      </td><td>64.1       </td><td>48.8       </td><td>dohc       </td><td>130        </td><td>111        </td><td>21         </td><td>27         </td><td>16500      </td></tr>\n",
       "\t<tr><td>1          </td><td>?          </td><td>alfa-romero</td><td>gas        </td><td>hatchback  </td><td>rwd        </td><td>front      </td><td>65.5       </td><td>52.4       </td><td>ohcv       </td><td>152        </td><td>154        </td><td>19         </td><td>26         </td><td>16500      </td></tr>\n",
       "\t<tr><td>2          </td><td>164        </td><td>audi       </td><td>gas        </td><td>sedan      </td><td>fwd        </td><td>front      </td><td>66.2       </td><td>54.3       </td><td>ohc        </td><td>109        </td><td>102        </td><td>24         </td><td>30         </td><td>13950      </td></tr>\n",
       "\t<tr><td>2          </td><td>164        </td><td>audi       </td><td>gas        </td><td>sedan      </td><td>4wd        </td><td>front      </td><td>66.4       </td><td>54.3       </td><td>ohc        </td><td>136        </td><td>115        </td><td>18         </td><td>22         </td><td>17450      </td></tr>\n",
       "\t<tr><td>2          </td><td>?          </td><td>audi       </td><td>gas        </td><td>sedan      </td><td>fwd        </td><td>front      </td><td>66.3       </td><td>53.1       </td><td>ohc        </td><td>136        </td><td>110        </td><td>19         </td><td>25         </td><td>15250      </td></tr>\n",
       "</tbody>\n",
       "</table>\n"
      ],
      "text/latex": [
       "\\begin{tabular}{r|lllllllllllllll}\n",
       " symboling & normalized.losses & make & fuel.type & body.style & drive.wheels & engine.location & width & height & engine.type & engine.size & horsepower & city.mpg & highway.mpg & price\\\\\n",
       "\\hline\n",
       "\t 3           & ?           & alfa-romero & gas         & convertible & rwd         & front       & 64.1        & 48.8        & dohc        & 130         & 111         & 21          & 27          & 13495      \\\\\n",
       "\t 3           & ?           & alfa-romero & gas         & convertible & rwd         & front       & 64.1        & 48.8        & dohc        & 130         & 111         & 21          & 27          & 16500      \\\\\n",
       "\t 1           & ?           & alfa-romero & gas         & hatchback   & rwd         & front       & 65.5        & 52.4        & ohcv        & 152         & 154         & 19          & 26          & 16500      \\\\\n",
       "\t 2           & 164         & audi        & gas         & sedan       & fwd         & front       & 66.2        & 54.3        & ohc         & 109         & 102         & 24          & 30          & 13950      \\\\\n",
       "\t 2           & 164         & audi        & gas         & sedan       & 4wd         & front       & 66.4        & 54.3        & ohc         & 136         & 115         & 18          & 22          & 17450      \\\\\n",
       "\t 2           & ?           & audi        & gas         & sedan       & fwd         & front       & 66.3        & 53.1        & ohc         & 136         & 110         & 19          & 25          & 15250      \\\\\n",
       "\\end{tabular}\n"
      ],
      "text/markdown": [
       "\n",
       "| symboling | normalized.losses | make | fuel.type | body.style | drive.wheels | engine.location | width | height | engine.type | engine.size | horsepower | city.mpg | highway.mpg | price |\n",
       "|---|---|---|---|---|---|---|---|---|---|---|---|---|---|---|\n",
       "| 3           | ?           | alfa-romero | gas         | convertible | rwd         | front       | 64.1        | 48.8        | dohc        | 130         | 111         | 21          | 27          | 13495       |\n",
       "| 3           | ?           | alfa-romero | gas         | convertible | rwd         | front       | 64.1        | 48.8        | dohc        | 130         | 111         | 21          | 27          | 16500       |\n",
       "| 1           | ?           | alfa-romero | gas         | hatchback   | rwd         | front       | 65.5        | 52.4        | ohcv        | 152         | 154         | 19          | 26          | 16500       |\n",
       "| 2           | 164         | audi        | gas         | sedan       | fwd         | front       | 66.2        | 54.3        | ohc         | 109         | 102         | 24          | 30          | 13950       |\n",
       "| 2           | 164         | audi        | gas         | sedan       | 4wd         | front       | 66.4        | 54.3        | ohc         | 136         | 115         | 18          | 22          | 17450       |\n",
       "| 2           | ?           | audi        | gas         | sedan       | fwd         | front       | 66.3        | 53.1        | ohc         | 136         | 110         | 19          | 25          | 15250       |\n",
       "\n"
      ],
      "text/plain": [
       "  symboling normalized.losses make        fuel.type body.style  drive.wheels\n",
       "1 3         ?                 alfa-romero gas       convertible rwd         \n",
       "2 3         ?                 alfa-romero gas       convertible rwd         \n",
       "3 1         ?                 alfa-romero gas       hatchback   rwd         \n",
       "4 2         164               audi        gas       sedan       fwd         \n",
       "5 2         164               audi        gas       sedan       4wd         \n",
       "6 2         ?                 audi        gas       sedan       fwd         \n",
       "  engine.location width height engine.type engine.size horsepower city.mpg\n",
       "1 front           64.1  48.8   dohc        130         111        21      \n",
       "2 front           64.1  48.8   dohc        130         111        21      \n",
       "3 front           65.5  52.4   ohcv        152         154        19      \n",
       "4 front           66.2  54.3   ohc         109         102        24      \n",
       "5 front           66.4  54.3   ohc         136         115        18      \n",
       "6 front           66.3  53.1   ohc         136         110        19      \n",
       "  highway.mpg price\n",
       "1 27          13495\n",
       "2 27          16500\n",
       "3 26          16500\n",
       "4 30          13950\n",
       "5 22          17450\n",
       "6 25          15250"
      ]
     },
     "metadata": {},
     "output_type": "display_data"
    }
   ],
   "source": [
    "# First load csv file with the help of R programming ,  use inbuilt command read.csv()\n",
    "car = read.csv(\"Automobile_data.csv\")\n",
    "# To show first 6 records \n",
    "head(car)"
   ]
  },
  {
   "cell_type": "code",
   "execution_count": 28,
   "id": "40a75fac",
   "metadata": {},
   "outputs": [
    {
     "data": {
      "text/html": [
       "205"
      ],
      "text/latex": [
       "205"
      ],
      "text/markdown": [
       "205"
      ],
      "text/plain": [
       "[1] 205"
      ]
     },
     "metadata": {},
     "output_type": "display_data"
    }
   ],
   "source": [
    "# How many rows \n",
    "nrow(car)"
   ]
  },
  {
   "cell_type": "code",
   "execution_count": 29,
   "id": "341ababd",
   "metadata": {},
   "outputs": [
    {
     "data": {
      "text/html": [
       "15"
      ],
      "text/latex": [
       "15"
      ],
      "text/markdown": [
       "15"
      ],
      "text/plain": [
       "[1] 15"
      ]
     },
     "metadata": {},
     "output_type": "display_data"
    }
   ],
   "source": [
    "# How many column \n",
    "ncol(car)"
   ]
  },
  {
   "cell_type": "code",
   "execution_count": 30,
   "id": "99531d6e",
   "metadata": {},
   "outputs": [
    {
     "data": {
      "text/html": [
       "<table>\n",
       "<thead><tr><th scope=col>engine.location</th><th scope=col>engine.type</th><th scope=col>engine.size</th></tr></thead>\n",
       "<tbody>\n",
       "\t<tr><td>front</td><td>dohc </td><td>130  </td></tr>\n",
       "\t<tr><td>front</td><td>dohc </td><td>130  </td></tr>\n",
       "\t<tr><td>front</td><td>ohcv </td><td>152  </td></tr>\n",
       "\t<tr><td>front</td><td>ohc  </td><td>109  </td></tr>\n",
       "\t<tr><td>front</td><td>ohc  </td><td>136  </td></tr>\n",
       "\t<tr><td>front</td><td>ohc  </td><td>136  </td></tr>\n",
       "\t<tr><td>front</td><td>ohc  </td><td>136  </td></tr>\n",
       "\t<tr><td>front</td><td>ohc  </td><td>136  </td></tr>\n",
       "\t<tr><td>front</td><td>ohc  </td><td>131  </td></tr>\n",
       "\t<tr><td>front</td><td>ohc  </td><td>131  </td></tr>\n",
       "\t<tr><td>front</td><td>ohc  </td><td>108  </td></tr>\n",
       "\t<tr><td>front</td><td>ohc  </td><td>108  </td></tr>\n",
       "\t<tr><td>front</td><td>ohc  </td><td>164  </td></tr>\n",
       "\t<tr><td>front</td><td>ohc  </td><td>164  </td></tr>\n",
       "\t<tr><td>front</td><td>ohc  </td><td>164  </td></tr>\n",
       "\t<tr><td>front</td><td>ohc  </td><td>209  </td></tr>\n",
       "\t<tr><td>front</td><td>ohc  </td><td>209  </td></tr>\n",
       "\t<tr><td>front</td><td>ohc  </td><td>209  </td></tr>\n",
       "\t<tr><td>front</td><td>l    </td><td> 61  </td></tr>\n",
       "\t<tr><td>front</td><td>ohc  </td><td> 90  </td></tr>\n",
       "\t<tr><td>front</td><td>ohc  </td><td> 90  </td></tr>\n",
       "\t<tr><td>front</td><td>ohc  </td><td> 90  </td></tr>\n",
       "\t<tr><td>front</td><td>ohc  </td><td> 90  </td></tr>\n",
       "\t<tr><td>front</td><td>ohc  </td><td> 98  </td></tr>\n",
       "\t<tr><td>front</td><td>ohc  </td><td> 90  </td></tr>\n",
       "\t<tr><td>front</td><td>ohc  </td><td> 90  </td></tr>\n",
       "\t<tr><td>front</td><td>ohc  </td><td> 90  </td></tr>\n",
       "\t<tr><td>front</td><td>ohc  </td><td> 98  </td></tr>\n",
       "\t<tr><td>front</td><td>ohc  </td><td>122  </td></tr>\n",
       "\t<tr><td>front</td><td>ohc  </td><td>156  </td></tr>\n",
       "\t<tr><td>...</td><td>...</td><td>...</td></tr>\n",
       "\t<tr><td>front</td><td>ohc  </td><td>122  </td></tr>\n",
       "\t<tr><td>front</td><td>ohc  </td><td>122  </td></tr>\n",
       "\t<tr><td>front</td><td>ohc  </td><td>122  </td></tr>\n",
       "\t<tr><td>front</td><td>dohc </td><td>171  </td></tr>\n",
       "\t<tr><td>front</td><td>dohc </td><td>171  </td></tr>\n",
       "\t<tr><td>front</td><td>dohc </td><td>171  </td></tr>\n",
       "\t<tr><td>front</td><td>dohc </td><td>161  </td></tr>\n",
       "\t<tr><td>front</td><td>ohc  </td><td> 97  </td></tr>\n",
       "\t<tr><td>front</td><td>ohc  </td><td>109  </td></tr>\n",
       "\t<tr><td>front</td><td>ohc  </td><td> 97  </td></tr>\n",
       "\t<tr><td>front</td><td>ohc  </td><td>109  </td></tr>\n",
       "\t<tr><td>front</td><td>ohc  </td><td>109  </td></tr>\n",
       "\t<tr><td>front</td><td>ohc  </td><td> 97  </td></tr>\n",
       "\t<tr><td>front</td><td>ohc  </td><td>109  </td></tr>\n",
       "\t<tr><td>front</td><td>ohc  </td><td>109  </td></tr>\n",
       "\t<tr><td>front</td><td>ohc  </td><td>109  </td></tr>\n",
       "\t<tr><td>front</td><td>ohc  </td><td>136  </td></tr>\n",
       "\t<tr><td>front</td><td>ohc  </td><td> 97  </td></tr>\n",
       "\t<tr><td>front</td><td>ohc  </td><td>109  </td></tr>\n",
       "\t<tr><td>front</td><td>ohc  </td><td>141  </td></tr>\n",
       "\t<tr><td>front</td><td>ohc  </td><td>141  </td></tr>\n",
       "\t<tr><td>front</td><td>ohc  </td><td>141  </td></tr>\n",
       "\t<tr><td>front</td><td>ohc  </td><td>141  </td></tr>\n",
       "\t<tr><td>front</td><td>ohc  </td><td>130  </td></tr>\n",
       "\t<tr><td>front</td><td>ohc  </td><td>130  </td></tr>\n",
       "\t<tr><td>front</td><td>ohc  </td><td>141  </td></tr>\n",
       "\t<tr><td>front</td><td>ohc  </td><td>141  </td></tr>\n",
       "\t<tr><td>front</td><td>ohcv </td><td>173  </td></tr>\n",
       "\t<tr><td>front</td><td>ohc  </td><td>145  </td></tr>\n",
       "\t<tr><td>front</td><td>ohc  </td><td>141  </td></tr>\n",
       "</tbody>\n",
       "</table>\n"
      ],
      "text/latex": [
       "\\begin{tabular}{r|lll}\n",
       " engine.location & engine.type & engine.size\\\\\n",
       "\\hline\n",
       "\t front & dohc  & 130  \\\\\n",
       "\t front & dohc  & 130  \\\\\n",
       "\t front & ohcv  & 152  \\\\\n",
       "\t front & ohc   & 109  \\\\\n",
       "\t front & ohc   & 136  \\\\\n",
       "\t front & ohc   & 136  \\\\\n",
       "\t front & ohc   & 136  \\\\\n",
       "\t front & ohc   & 136  \\\\\n",
       "\t front & ohc   & 131  \\\\\n",
       "\t front & ohc   & 131  \\\\\n",
       "\t front & ohc   & 108  \\\\\n",
       "\t front & ohc   & 108  \\\\\n",
       "\t front & ohc   & 164  \\\\\n",
       "\t front & ohc   & 164  \\\\\n",
       "\t front & ohc   & 164  \\\\\n",
       "\t front & ohc   & 209  \\\\\n",
       "\t front & ohc   & 209  \\\\\n",
       "\t front & ohc   & 209  \\\\\n",
       "\t front & l     &  61  \\\\\n",
       "\t front & ohc   &  90  \\\\\n",
       "\t front & ohc   &  90  \\\\\n",
       "\t front & ohc   &  90  \\\\\n",
       "\t front & ohc   &  90  \\\\\n",
       "\t front & ohc   &  98  \\\\\n",
       "\t front & ohc   &  90  \\\\\n",
       "\t front & ohc   &  90  \\\\\n",
       "\t front & ohc   &  90  \\\\\n",
       "\t front & ohc   &  98  \\\\\n",
       "\t front & ohc   & 122  \\\\\n",
       "\t front & ohc   & 156  \\\\\n",
       "\t ... & ... & ...\\\\\n",
       "\t front & ohc   & 122  \\\\\n",
       "\t front & ohc   & 122  \\\\\n",
       "\t front & ohc   & 122  \\\\\n",
       "\t front & dohc  & 171  \\\\\n",
       "\t front & dohc  & 171  \\\\\n",
       "\t front & dohc  & 171  \\\\\n",
       "\t front & dohc  & 161  \\\\\n",
       "\t front & ohc   &  97  \\\\\n",
       "\t front & ohc   & 109  \\\\\n",
       "\t front & ohc   &  97  \\\\\n",
       "\t front & ohc   & 109  \\\\\n",
       "\t front & ohc   & 109  \\\\\n",
       "\t front & ohc   &  97  \\\\\n",
       "\t front & ohc   & 109  \\\\\n",
       "\t front & ohc   & 109  \\\\\n",
       "\t front & ohc   & 109  \\\\\n",
       "\t front & ohc   & 136  \\\\\n",
       "\t front & ohc   &  97  \\\\\n",
       "\t front & ohc   & 109  \\\\\n",
       "\t front & ohc   & 141  \\\\\n",
       "\t front & ohc   & 141  \\\\\n",
       "\t front & ohc   & 141  \\\\\n",
       "\t front & ohc   & 141  \\\\\n",
       "\t front & ohc   & 130  \\\\\n",
       "\t front & ohc   & 130  \\\\\n",
       "\t front & ohc   & 141  \\\\\n",
       "\t front & ohc   & 141  \\\\\n",
       "\t front & ohcv  & 173  \\\\\n",
       "\t front & ohc   & 145  \\\\\n",
       "\t front & ohc   & 141  \\\\\n",
       "\\end{tabular}\n"
      ],
      "text/markdown": [
       "\n",
       "| engine.location | engine.type | engine.size |\n",
       "|---|---|---|\n",
       "| front | dohc  | 130   |\n",
       "| front | dohc  | 130   |\n",
       "| front | ohcv  | 152   |\n",
       "| front | ohc   | 109   |\n",
       "| front | ohc   | 136   |\n",
       "| front | ohc   | 136   |\n",
       "| front | ohc   | 136   |\n",
       "| front | ohc   | 136   |\n",
       "| front | ohc   | 131   |\n",
       "| front | ohc   | 131   |\n",
       "| front | ohc   | 108   |\n",
       "| front | ohc   | 108   |\n",
       "| front | ohc   | 164   |\n",
       "| front | ohc   | 164   |\n",
       "| front | ohc   | 164   |\n",
       "| front | ohc   | 209   |\n",
       "| front | ohc   | 209   |\n",
       "| front | ohc   | 209   |\n",
       "| front | l     |  61   |\n",
       "| front | ohc   |  90   |\n",
       "| front | ohc   |  90   |\n",
       "| front | ohc   |  90   |\n",
       "| front | ohc   |  90   |\n",
       "| front | ohc   |  98   |\n",
       "| front | ohc   |  90   |\n",
       "| front | ohc   |  90   |\n",
       "| front | ohc   |  90   |\n",
       "| front | ohc   |  98   |\n",
       "| front | ohc   | 122   |\n",
       "| front | ohc   | 156   |\n",
       "| ... | ... | ... |\n",
       "| front | ohc   | 122   |\n",
       "| front | ohc   | 122   |\n",
       "| front | ohc   | 122   |\n",
       "| front | dohc  | 171   |\n",
       "| front | dohc  | 171   |\n",
       "| front | dohc  | 171   |\n",
       "| front | dohc  | 161   |\n",
       "| front | ohc   |  97   |\n",
       "| front | ohc   | 109   |\n",
       "| front | ohc   |  97   |\n",
       "| front | ohc   | 109   |\n",
       "| front | ohc   | 109   |\n",
       "| front | ohc   |  97   |\n",
       "| front | ohc   | 109   |\n",
       "| front | ohc   | 109   |\n",
       "| front | ohc   | 109   |\n",
       "| front | ohc   | 136   |\n",
       "| front | ohc   |  97   |\n",
       "| front | ohc   | 109   |\n",
       "| front | ohc   | 141   |\n",
       "| front | ohc   | 141   |\n",
       "| front | ohc   | 141   |\n",
       "| front | ohc   | 141   |\n",
       "| front | ohc   | 130   |\n",
       "| front | ohc   | 130   |\n",
       "| front | ohc   | 141   |\n",
       "| front | ohc   | 141   |\n",
       "| front | ohcv  | 173   |\n",
       "| front | ohc   | 145   |\n",
       "| front | ohc   | 141   |\n",
       "\n"
      ],
      "text/plain": [
       "    engine.location engine.type engine.size\n",
       "1   front           dohc        130        \n",
       "2   front           dohc        130        \n",
       "3   front           ohcv        152        \n",
       "4   front           ohc         109        \n",
       "5   front           ohc         136        \n",
       "6   front           ohc         136        \n",
       "7   front           ohc         136        \n",
       "8   front           ohc         136        \n",
       "9   front           ohc         131        \n",
       "10  front           ohc         131        \n",
       "11  front           ohc         108        \n",
       "12  front           ohc         108        \n",
       "13  front           ohc         164        \n",
       "14  front           ohc         164        \n",
       "15  front           ohc         164        \n",
       "16  front           ohc         209        \n",
       "17  front           ohc         209        \n",
       "18  front           ohc         209        \n",
       "19  front           l            61        \n",
       "20  front           ohc          90        \n",
       "21  front           ohc          90        \n",
       "22  front           ohc          90        \n",
       "23  front           ohc          90        \n",
       "24  front           ohc          98        \n",
       "25  front           ohc          90        \n",
       "26  front           ohc          90        \n",
       "27  front           ohc          90        \n",
       "28  front           ohc          98        \n",
       "29  front           ohc         122        \n",
       "30  front           ohc         156        \n",
       "... ...             ...         ...        \n",
       "176 front           ohc         122        \n",
       "177 front           ohc         122        \n",
       "178 front           ohc         122        \n",
       "179 front           dohc        171        \n",
       "180 front           dohc        171        \n",
       "181 front           dohc        171        \n",
       "182 front           dohc        161        \n",
       "183 front           ohc          97        \n",
       "184 front           ohc         109        \n",
       "185 front           ohc          97        \n",
       "186 front           ohc         109        \n",
       "187 front           ohc         109        \n",
       "188 front           ohc          97        \n",
       "189 front           ohc         109        \n",
       "190 front           ohc         109        \n",
       "191 front           ohc         109        \n",
       "192 front           ohc         136        \n",
       "193 front           ohc          97        \n",
       "194 front           ohc         109        \n",
       "195 front           ohc         141        \n",
       "196 front           ohc         141        \n",
       "197 front           ohc         141        \n",
       "198 front           ohc         141        \n",
       "199 front           ohc         130        \n",
       "200 front           ohc         130        \n",
       "201 front           ohc         141        \n",
       "202 front           ohc         141        \n",
       "203 front           ohcv        173        \n",
       "204 front           ohc         145        \n",
       "205 front           ohc         141        "
      ]
     },
     "metadata": {},
     "output_type": "display_data"
    }
   ],
   "source": [
    "#starts_with() inbuilt function of dplyr library\n",
    "#It is used to select columns start with an particular\n",
    "#alphabets\n",
    "#for example : show those columns whose start with e\n",
    "select(car,starts_with('e'))\n",
    "#select(dataframe,starts_with('char'))"
   ]
  },
  {
   "cell_type": "code",
   "execution_count": 31,
   "id": "cd963c25",
   "metadata": {},
   "outputs": [
    {
     "data": {
      "text/html": [
       "<table>\n",
       "<thead><tr><th scope=col>make</th><th scope=col>fuel.type</th><th scope=col>body.style</th><th scope=col>engine.type</th><th scope=col>engine.size</th><th scope=col>price</th></tr></thead>\n",
       "<tbody>\n",
       "\t<tr><td>alfa-romero</td><td>gas        </td><td>convertible</td><td>dohc       </td><td>130        </td><td>13495      </td></tr>\n",
       "\t<tr><td>alfa-romero</td><td>gas        </td><td>convertible</td><td>dohc       </td><td>130        </td><td>16500      </td></tr>\n",
       "\t<tr><td>alfa-romero</td><td>gas        </td><td>hatchback  </td><td>ohcv       </td><td>152        </td><td>16500      </td></tr>\n",
       "\t<tr><td>audi       </td><td>gas        </td><td>sedan      </td><td>ohc        </td><td>109        </td><td>13950      </td></tr>\n",
       "\t<tr><td>audi       </td><td>gas        </td><td>sedan      </td><td>ohc        </td><td>136        </td><td>17450      </td></tr>\n",
       "\t<tr><td>audi       </td><td>gas        </td><td>sedan      </td><td>ohc        </td><td>136        </td><td>15250      </td></tr>\n",
       "\t<tr><td>audi       </td><td>gas        </td><td>sedan      </td><td>ohc        </td><td>136        </td><td>17710      </td></tr>\n",
       "\t<tr><td>audi       </td><td>gas        </td><td>wagon      </td><td>ohc        </td><td>136        </td><td>18920      </td></tr>\n",
       "\t<tr><td>audi       </td><td>gas        </td><td>sedan      </td><td>ohc        </td><td>131        </td><td>23875      </td></tr>\n",
       "\t<tr><td>audi       </td><td>gas        </td><td>hatchback  </td><td>ohc        </td><td>131        </td><td>12000      </td></tr>\n",
       "\t<tr><td>bmw        </td><td>gas        </td><td>sedan      </td><td>ohc        </td><td>108        </td><td>16430      </td></tr>\n",
       "\t<tr><td>bmw        </td><td>gas        </td><td>sedan      </td><td>ohc        </td><td>108        </td><td>16925      </td></tr>\n",
       "\t<tr><td>bmw        </td><td>gas        </td><td>sedan      </td><td>ohc        </td><td>164        </td><td>20970      </td></tr>\n",
       "\t<tr><td>bmw        </td><td>gas        </td><td>sedan      </td><td>ohc        </td><td>164        </td><td>21105      </td></tr>\n",
       "\t<tr><td>bmw        </td><td>gas        </td><td>sedan      </td><td>ohc        </td><td>164        </td><td>24565      </td></tr>\n",
       "\t<tr><td>bmw        </td><td>gas        </td><td>sedan      </td><td>ohc        </td><td>209        </td><td>30760      </td></tr>\n",
       "\t<tr><td>bmw        </td><td>gas        </td><td>sedan      </td><td>ohc        </td><td>209        </td><td>41315      </td></tr>\n",
       "\t<tr><td>bmw        </td><td>gas        </td><td>sedan      </td><td>ohc        </td><td>209        </td><td>36880      </td></tr>\n",
       "\t<tr><td>chevrolet  </td><td>gas        </td><td>hatchback  </td><td>l          </td><td> 61        </td><td> 5151      </td></tr>\n",
       "\t<tr><td>chevrolet  </td><td>gas        </td><td>hatchback  </td><td>ohc        </td><td> 90        </td><td> 6295      </td></tr>\n",
       "\t<tr><td>chevrolet  </td><td>gas        </td><td>sedan      </td><td>ohc        </td><td> 90        </td><td> 6575      </td></tr>\n",
       "\t<tr><td>dodge      </td><td>gas        </td><td>hatchback  </td><td>ohc        </td><td> 90        </td><td> 5572      </td></tr>\n",
       "\t<tr><td>dodge      </td><td>gas        </td><td>hatchback  </td><td>ohc        </td><td> 90        </td><td> 6377      </td></tr>\n",
       "\t<tr><td>dodge      </td><td>gas        </td><td>hatchback  </td><td>ohc        </td><td> 98        </td><td> 7957      </td></tr>\n",
       "\t<tr><td>dodge      </td><td>gas        </td><td>hatchback  </td><td>ohc        </td><td> 90        </td><td> 6229      </td></tr>\n",
       "\t<tr><td>dodge      </td><td>gas        </td><td>sedan      </td><td>ohc        </td><td> 90        </td><td> 6692      </td></tr>\n",
       "\t<tr><td>dodge      </td><td>gas        </td><td>sedan      </td><td>ohc        </td><td> 90        </td><td> 7609      </td></tr>\n",
       "\t<tr><td>dodge      </td><td>gas        </td><td>sedan      </td><td>ohc        </td><td> 98        </td><td> 8558      </td></tr>\n",
       "\t<tr><td>dodge      </td><td>gas        </td><td>wagon      </td><td>ohc        </td><td>122        </td><td> 8921      </td></tr>\n",
       "\t<tr><td>dodge      </td><td>gas        </td><td>hatchback  </td><td>ohc        </td><td>156        </td><td>12964      </td></tr>\n",
       "\t<tr><td>...</td><td>...</td><td>...</td><td>...</td><td>...</td><td>...</td></tr>\n",
       "\t<tr><td>toyota     </td><td>gas        </td><td>hatchback  </td><td>ohc        </td><td>122        </td><td> 9988      </td></tr>\n",
       "\t<tr><td>toyota     </td><td>gas        </td><td>sedan      </td><td>ohc        </td><td>122        </td><td>10898      </td></tr>\n",
       "\t<tr><td>toyota     </td><td>gas        </td><td>hatchback  </td><td>ohc        </td><td>122        </td><td>11248      </td></tr>\n",
       "\t<tr><td>toyota     </td><td>gas        </td><td>hatchback  </td><td>dohc       </td><td>171        </td><td>16558      </td></tr>\n",
       "\t<tr><td>toyota     </td><td>gas        </td><td>hatchback  </td><td>dohc       </td><td>171        </td><td>15998      </td></tr>\n",
       "\t<tr><td>toyota     </td><td>gas        </td><td>sedan      </td><td>dohc       </td><td>171        </td><td>15690      </td></tr>\n",
       "\t<tr><td>toyota     </td><td>gas        </td><td>wagon      </td><td>dohc       </td><td>161        </td><td>15750      </td></tr>\n",
       "\t<tr><td>volkswagen </td><td>diesel     </td><td>sedan      </td><td>ohc        </td><td> 97        </td><td> 7775      </td></tr>\n",
       "\t<tr><td>volkswagen </td><td>gas        </td><td>sedan      </td><td>ohc        </td><td>109        </td><td> 7975      </td></tr>\n",
       "\t<tr><td>volkswagen </td><td>diesel     </td><td>sedan      </td><td>ohc        </td><td> 97        </td><td> 7995      </td></tr>\n",
       "\t<tr><td>volkswagen </td><td>gas        </td><td>sedan      </td><td>ohc        </td><td>109        </td><td> 8195      </td></tr>\n",
       "\t<tr><td>volkswagen </td><td>gas        </td><td>sedan      </td><td>ohc        </td><td>109        </td><td> 8495      </td></tr>\n",
       "\t<tr><td>volkswagen </td><td>diesel     </td><td>sedan      </td><td>ohc        </td><td> 97        </td><td> 9495      </td></tr>\n",
       "\t<tr><td>volkswagen </td><td>gas        </td><td>sedan      </td><td>ohc        </td><td>109        </td><td> 9995      </td></tr>\n",
       "\t<tr><td>volkswagen </td><td>gas        </td><td>convertible</td><td>ohc        </td><td>109        </td><td>11595      </td></tr>\n",
       "\t<tr><td>volkswagen </td><td>gas        </td><td>hatchback  </td><td>ohc        </td><td>109        </td><td> 9980      </td></tr>\n",
       "\t<tr><td>volkswagen </td><td>gas        </td><td>sedan      </td><td>ohc        </td><td>136        </td><td>13295      </td></tr>\n",
       "\t<tr><td>volkswagen </td><td>diesel     </td><td>sedan      </td><td>ohc        </td><td> 97        </td><td>13845      </td></tr>\n",
       "\t<tr><td>volkswagen </td><td>gas        </td><td>wagon      </td><td>ohc        </td><td>109        </td><td>12290      </td></tr>\n",
       "\t<tr><td>volvo      </td><td>gas        </td><td>sedan      </td><td>ohc        </td><td>141        </td><td>12940      </td></tr>\n",
       "\t<tr><td>volvo      </td><td>gas        </td><td>wagon      </td><td>ohc        </td><td>141        </td><td>13415      </td></tr>\n",
       "\t<tr><td>volvo      </td><td>gas        </td><td>sedan      </td><td>ohc        </td><td>141        </td><td>15985      </td></tr>\n",
       "\t<tr><td>volvo      </td><td>gas        </td><td>wagon      </td><td>ohc        </td><td>141        </td><td>16515      </td></tr>\n",
       "\t<tr><td>volvo      </td><td>gas        </td><td>sedan      </td><td>ohc        </td><td>130        </td><td>18420      </td></tr>\n",
       "\t<tr><td>volvo      </td><td>gas        </td><td>wagon      </td><td>ohc        </td><td>130        </td><td>18950      </td></tr>\n",
       "\t<tr><td>volvo      </td><td>gas        </td><td>sedan      </td><td>ohc        </td><td>141        </td><td>16845      </td></tr>\n",
       "\t<tr><td>volvo      </td><td>gas        </td><td>sedan      </td><td>ohc        </td><td>141        </td><td>19045      </td></tr>\n",
       "\t<tr><td>volvo      </td><td>gas        </td><td>sedan      </td><td>ohcv       </td><td>173        </td><td>21485      </td></tr>\n",
       "\t<tr><td>volvo      </td><td>diesel     </td><td>sedan      </td><td>ohc        </td><td>145        </td><td>22470      </td></tr>\n",
       "\t<tr><td>volvo      </td><td>gas        </td><td>sedan      </td><td>ohc        </td><td>141        </td><td>22625      </td></tr>\n",
       "</tbody>\n",
       "</table>\n"
      ],
      "text/latex": [
       "\\begin{tabular}{r|llllll}\n",
       " make & fuel.type & body.style & engine.type & engine.size & price\\\\\n",
       "\\hline\n",
       "\t alfa-romero & gas         & convertible & dohc        & 130         & 13495      \\\\\n",
       "\t alfa-romero & gas         & convertible & dohc        & 130         & 16500      \\\\\n",
       "\t alfa-romero & gas         & hatchback   & ohcv        & 152         & 16500      \\\\\n",
       "\t audi        & gas         & sedan       & ohc         & 109         & 13950      \\\\\n",
       "\t audi        & gas         & sedan       & ohc         & 136         & 17450      \\\\\n",
       "\t audi        & gas         & sedan       & ohc         & 136         & 15250      \\\\\n",
       "\t audi        & gas         & sedan       & ohc         & 136         & 17710      \\\\\n",
       "\t audi        & gas         & wagon       & ohc         & 136         & 18920      \\\\\n",
       "\t audi        & gas         & sedan       & ohc         & 131         & 23875      \\\\\n",
       "\t audi        & gas         & hatchback   & ohc         & 131         & 12000      \\\\\n",
       "\t bmw         & gas         & sedan       & ohc         & 108         & 16430      \\\\\n",
       "\t bmw         & gas         & sedan       & ohc         & 108         & 16925      \\\\\n",
       "\t bmw         & gas         & sedan       & ohc         & 164         & 20970      \\\\\n",
       "\t bmw         & gas         & sedan       & ohc         & 164         & 21105      \\\\\n",
       "\t bmw         & gas         & sedan       & ohc         & 164         & 24565      \\\\\n",
       "\t bmw         & gas         & sedan       & ohc         & 209         & 30760      \\\\\n",
       "\t bmw         & gas         & sedan       & ohc         & 209         & 41315      \\\\\n",
       "\t bmw         & gas         & sedan       & ohc         & 209         & 36880      \\\\\n",
       "\t chevrolet   & gas         & hatchback   & l           &  61         &  5151      \\\\\n",
       "\t chevrolet   & gas         & hatchback   & ohc         &  90         &  6295      \\\\\n",
       "\t chevrolet   & gas         & sedan       & ohc         &  90         &  6575      \\\\\n",
       "\t dodge       & gas         & hatchback   & ohc         &  90         &  5572      \\\\\n",
       "\t dodge       & gas         & hatchback   & ohc         &  90         &  6377      \\\\\n",
       "\t dodge       & gas         & hatchback   & ohc         &  98         &  7957      \\\\\n",
       "\t dodge       & gas         & hatchback   & ohc         &  90         &  6229      \\\\\n",
       "\t dodge       & gas         & sedan       & ohc         &  90         &  6692      \\\\\n",
       "\t dodge       & gas         & sedan       & ohc         &  90         &  7609      \\\\\n",
       "\t dodge       & gas         & sedan       & ohc         &  98         &  8558      \\\\\n",
       "\t dodge       & gas         & wagon       & ohc         & 122         &  8921      \\\\\n",
       "\t dodge       & gas         & hatchback   & ohc         & 156         & 12964      \\\\\n",
       "\t ... & ... & ... & ... & ... & ...\\\\\n",
       "\t toyota      & gas         & hatchback   & ohc         & 122         &  9988      \\\\\n",
       "\t toyota      & gas         & sedan       & ohc         & 122         & 10898      \\\\\n",
       "\t toyota      & gas         & hatchback   & ohc         & 122         & 11248      \\\\\n",
       "\t toyota      & gas         & hatchback   & dohc        & 171         & 16558      \\\\\n",
       "\t toyota      & gas         & hatchback   & dohc        & 171         & 15998      \\\\\n",
       "\t toyota      & gas         & sedan       & dohc        & 171         & 15690      \\\\\n",
       "\t toyota      & gas         & wagon       & dohc        & 161         & 15750      \\\\\n",
       "\t volkswagen  & diesel      & sedan       & ohc         &  97         &  7775      \\\\\n",
       "\t volkswagen  & gas         & sedan       & ohc         & 109         &  7975      \\\\\n",
       "\t volkswagen  & diesel      & sedan       & ohc         &  97         &  7995      \\\\\n",
       "\t volkswagen  & gas         & sedan       & ohc         & 109         &  8195      \\\\\n",
       "\t volkswagen  & gas         & sedan       & ohc         & 109         &  8495      \\\\\n",
       "\t volkswagen  & diesel      & sedan       & ohc         &  97         &  9495      \\\\\n",
       "\t volkswagen  & gas         & sedan       & ohc         & 109         &  9995      \\\\\n",
       "\t volkswagen  & gas         & convertible & ohc         & 109         & 11595      \\\\\n",
       "\t volkswagen  & gas         & hatchback   & ohc         & 109         &  9980      \\\\\n",
       "\t volkswagen  & gas         & sedan       & ohc         & 136         & 13295      \\\\\n",
       "\t volkswagen  & diesel      & sedan       & ohc         &  97         & 13845      \\\\\n",
       "\t volkswagen  & gas         & wagon       & ohc         & 109         & 12290      \\\\\n",
       "\t volvo       & gas         & sedan       & ohc         & 141         & 12940      \\\\\n",
       "\t volvo       & gas         & wagon       & ohc         & 141         & 13415      \\\\\n",
       "\t volvo       & gas         & sedan       & ohc         & 141         & 15985      \\\\\n",
       "\t volvo       & gas         & wagon       & ohc         & 141         & 16515      \\\\\n",
       "\t volvo       & gas         & sedan       & ohc         & 130         & 18420      \\\\\n",
       "\t volvo       & gas         & wagon       & ohc         & 130         & 18950      \\\\\n",
       "\t volvo       & gas         & sedan       & ohc         & 141         & 16845      \\\\\n",
       "\t volvo       & gas         & sedan       & ohc         & 141         & 19045      \\\\\n",
       "\t volvo       & gas         & sedan       & ohcv        & 173         & 21485      \\\\\n",
       "\t volvo       & diesel      & sedan       & ohc         & 145         & 22470      \\\\\n",
       "\t volvo       & gas         & sedan       & ohc         & 141         & 22625      \\\\\n",
       "\\end{tabular}\n"
      ],
      "text/markdown": [
       "\n",
       "| make | fuel.type | body.style | engine.type | engine.size | price |\n",
       "|---|---|---|---|---|---|\n",
       "| alfa-romero | gas         | convertible | dohc        | 130         | 13495       |\n",
       "| alfa-romero | gas         | convertible | dohc        | 130         | 16500       |\n",
       "| alfa-romero | gas         | hatchback   | ohcv        | 152         | 16500       |\n",
       "| audi        | gas         | sedan       | ohc         | 109         | 13950       |\n",
       "| audi        | gas         | sedan       | ohc         | 136         | 17450       |\n",
       "| audi        | gas         | sedan       | ohc         | 136         | 15250       |\n",
       "| audi        | gas         | sedan       | ohc         | 136         | 17710       |\n",
       "| audi        | gas         | wagon       | ohc         | 136         | 18920       |\n",
       "| audi        | gas         | sedan       | ohc         | 131         | 23875       |\n",
       "| audi        | gas         | hatchback   | ohc         | 131         | 12000       |\n",
       "| bmw         | gas         | sedan       | ohc         | 108         | 16430       |\n",
       "| bmw         | gas         | sedan       | ohc         | 108         | 16925       |\n",
       "| bmw         | gas         | sedan       | ohc         | 164         | 20970       |\n",
       "| bmw         | gas         | sedan       | ohc         | 164         | 21105       |\n",
       "| bmw         | gas         | sedan       | ohc         | 164         | 24565       |\n",
       "| bmw         | gas         | sedan       | ohc         | 209         | 30760       |\n",
       "| bmw         | gas         | sedan       | ohc         | 209         | 41315       |\n",
       "| bmw         | gas         | sedan       | ohc         | 209         | 36880       |\n",
       "| chevrolet   | gas         | hatchback   | l           |  61         |  5151       |\n",
       "| chevrolet   | gas         | hatchback   | ohc         |  90         |  6295       |\n",
       "| chevrolet   | gas         | sedan       | ohc         |  90         |  6575       |\n",
       "| dodge       | gas         | hatchback   | ohc         |  90         |  5572       |\n",
       "| dodge       | gas         | hatchback   | ohc         |  90         |  6377       |\n",
       "| dodge       | gas         | hatchback   | ohc         |  98         |  7957       |\n",
       "| dodge       | gas         | hatchback   | ohc         |  90         |  6229       |\n",
       "| dodge       | gas         | sedan       | ohc         |  90         |  6692       |\n",
       "| dodge       | gas         | sedan       | ohc         |  90         |  7609       |\n",
       "| dodge       | gas         | sedan       | ohc         |  98         |  8558       |\n",
       "| dodge       | gas         | wagon       | ohc         | 122         |  8921       |\n",
       "| dodge       | gas         | hatchback   | ohc         | 156         | 12964       |\n",
       "| ... | ... | ... | ... | ... | ... |\n",
       "| toyota      | gas         | hatchback   | ohc         | 122         |  9988       |\n",
       "| toyota      | gas         | sedan       | ohc         | 122         | 10898       |\n",
       "| toyota      | gas         | hatchback   | ohc         | 122         | 11248       |\n",
       "| toyota      | gas         | hatchback   | dohc        | 171         | 16558       |\n",
       "| toyota      | gas         | hatchback   | dohc        | 171         | 15998       |\n",
       "| toyota      | gas         | sedan       | dohc        | 171         | 15690       |\n",
       "| toyota      | gas         | wagon       | dohc        | 161         | 15750       |\n",
       "| volkswagen  | diesel      | sedan       | ohc         |  97         |  7775       |\n",
       "| volkswagen  | gas         | sedan       | ohc         | 109         |  7975       |\n",
       "| volkswagen  | diesel      | sedan       | ohc         |  97         |  7995       |\n",
       "| volkswagen  | gas         | sedan       | ohc         | 109         |  8195       |\n",
       "| volkswagen  | gas         | sedan       | ohc         | 109         |  8495       |\n",
       "| volkswagen  | diesel      | sedan       | ohc         |  97         |  9495       |\n",
       "| volkswagen  | gas         | sedan       | ohc         | 109         |  9995       |\n",
       "| volkswagen  | gas         | convertible | ohc         | 109         | 11595       |\n",
       "| volkswagen  | gas         | hatchback   | ohc         | 109         |  9980       |\n",
       "| volkswagen  | gas         | sedan       | ohc         | 136         | 13295       |\n",
       "| volkswagen  | diesel      | sedan       | ohc         |  97         | 13845       |\n",
       "| volkswagen  | gas         | wagon       | ohc         | 109         | 12290       |\n",
       "| volvo       | gas         | sedan       | ohc         | 141         | 12940       |\n",
       "| volvo       | gas         | wagon       | ohc         | 141         | 13415       |\n",
       "| volvo       | gas         | sedan       | ohc         | 141         | 15985       |\n",
       "| volvo       | gas         | wagon       | ohc         | 141         | 16515       |\n",
       "| volvo       | gas         | sedan       | ohc         | 130         | 18420       |\n",
       "| volvo       | gas         | wagon       | ohc         | 130         | 18950       |\n",
       "| volvo       | gas         | sedan       | ohc         | 141         | 16845       |\n",
       "| volvo       | gas         | sedan       | ohc         | 141         | 19045       |\n",
       "| volvo       | gas         | sedan       | ohcv        | 173         | 21485       |\n",
       "| volvo       | diesel      | sedan       | ohc         | 145         | 22470       |\n",
       "| volvo       | gas         | sedan       | ohc         | 141         | 22625       |\n",
       "\n"
      ],
      "text/plain": [
       "    make        fuel.type body.style  engine.type engine.size price\n",
       "1   alfa-romero gas       convertible dohc        130         13495\n",
       "2   alfa-romero gas       convertible dohc        130         16500\n",
       "3   alfa-romero gas       hatchback   ohcv        152         16500\n",
       "4   audi        gas       sedan       ohc         109         13950\n",
       "5   audi        gas       sedan       ohc         136         17450\n",
       "6   audi        gas       sedan       ohc         136         15250\n",
       "7   audi        gas       sedan       ohc         136         17710\n",
       "8   audi        gas       wagon       ohc         136         18920\n",
       "9   audi        gas       sedan       ohc         131         23875\n",
       "10  audi        gas       hatchback   ohc         131         12000\n",
       "11  bmw         gas       sedan       ohc         108         16430\n",
       "12  bmw         gas       sedan       ohc         108         16925\n",
       "13  bmw         gas       sedan       ohc         164         20970\n",
       "14  bmw         gas       sedan       ohc         164         21105\n",
       "15  bmw         gas       sedan       ohc         164         24565\n",
       "16  bmw         gas       sedan       ohc         209         30760\n",
       "17  bmw         gas       sedan       ohc         209         41315\n",
       "18  bmw         gas       sedan       ohc         209         36880\n",
       "19  chevrolet   gas       hatchback   l            61          5151\n",
       "20  chevrolet   gas       hatchback   ohc          90          6295\n",
       "21  chevrolet   gas       sedan       ohc          90          6575\n",
       "22  dodge       gas       hatchback   ohc          90          5572\n",
       "23  dodge       gas       hatchback   ohc          90          6377\n",
       "24  dodge       gas       hatchback   ohc          98          7957\n",
       "25  dodge       gas       hatchback   ohc          90          6229\n",
       "26  dodge       gas       sedan       ohc          90          6692\n",
       "27  dodge       gas       sedan       ohc          90          7609\n",
       "28  dodge       gas       sedan       ohc          98          8558\n",
       "29  dodge       gas       wagon       ohc         122          8921\n",
       "30  dodge       gas       hatchback   ohc         156         12964\n",
       "... ...         ...       ...         ...         ...         ...  \n",
       "176 toyota      gas       hatchback   ohc         122          9988\n",
       "177 toyota      gas       sedan       ohc         122         10898\n",
       "178 toyota      gas       hatchback   ohc         122         11248\n",
       "179 toyota      gas       hatchback   dohc        171         16558\n",
       "180 toyota      gas       hatchback   dohc        171         15998\n",
       "181 toyota      gas       sedan       dohc        171         15690\n",
       "182 toyota      gas       wagon       dohc        161         15750\n",
       "183 volkswagen  diesel    sedan       ohc          97          7775\n",
       "184 volkswagen  gas       sedan       ohc         109          7975\n",
       "185 volkswagen  diesel    sedan       ohc          97          7995\n",
       "186 volkswagen  gas       sedan       ohc         109          8195\n",
       "187 volkswagen  gas       sedan       ohc         109          8495\n",
       "188 volkswagen  diesel    sedan       ohc          97          9495\n",
       "189 volkswagen  gas       sedan       ohc         109          9995\n",
       "190 volkswagen  gas       convertible ohc         109         11595\n",
       "191 volkswagen  gas       hatchback   ohc         109          9980\n",
       "192 volkswagen  gas       sedan       ohc         136         13295\n",
       "193 volkswagen  diesel    sedan       ohc          97         13845\n",
       "194 volkswagen  gas       wagon       ohc         109         12290\n",
       "195 volvo       gas       sedan       ohc         141         12940\n",
       "196 volvo       gas       wagon       ohc         141         13415\n",
       "197 volvo       gas       sedan       ohc         141         15985\n",
       "198 volvo       gas       wagon       ohc         141         16515\n",
       "199 volvo       gas       sedan       ohc         130         18420\n",
       "200 volvo       gas       wagon       ohc         130         18950\n",
       "201 volvo       gas       sedan       ohc         141         16845\n",
       "202 volvo       gas       sedan       ohc         141         19045\n",
       "203 volvo       gas       sedan       ohcv        173         21485\n",
       "204 volvo       diesel    sedan       ohc         145         22470\n",
       "205 volvo       gas       sedan       ohc         141         22625"
      ]
     },
     "metadata": {},
     "output_type": "display_data"
    }
   ],
   "source": [
    "select(car,ends_with('e'))\n",
    "#select(dataframe,ends_with('char'))"
   ]
  },
  {
   "cell_type": "code",
   "execution_count": 32,
   "id": "6e4e62cd",
   "metadata": {},
   "outputs": [
    {
     "data": {
      "text/html": [
       "<table>\n",
       "<thead><tr><th scope=col>make</th><th scope=col>fuel.type</th><th scope=col>body.style</th><th scope=col>engine.type</th><th scope=col>engine.size</th><th scope=col>price</th></tr></thead>\n",
       "<tbody>\n",
       "\t<tr><td>alfa-romero</td><td>gas        </td><td>convertible</td><td>dohc       </td><td>130        </td><td>13495      </td></tr>\n",
       "\t<tr><td>alfa-romero</td><td>gas        </td><td>convertible</td><td>dohc       </td><td>130        </td><td>16500      </td></tr>\n",
       "\t<tr><td>alfa-romero</td><td>gas        </td><td>hatchback  </td><td>ohcv       </td><td>152        </td><td>16500      </td></tr>\n",
       "\t<tr><td>audi       </td><td>gas        </td><td>sedan      </td><td>ohc        </td><td>109        </td><td>13950      </td></tr>\n",
       "\t<tr><td>audi       </td><td>gas        </td><td>sedan      </td><td>ohc        </td><td>136        </td><td>17450      </td></tr>\n",
       "\t<tr><td>audi       </td><td>gas        </td><td>sedan      </td><td>ohc        </td><td>136        </td><td>15250      </td></tr>\n",
       "</tbody>\n",
       "</table>\n"
      ],
      "text/latex": [
       "\\begin{tabular}{r|llllll}\n",
       " make & fuel.type & body.style & engine.type & engine.size & price\\\\\n",
       "\\hline\n",
       "\t alfa-romero & gas         & convertible & dohc        & 130         & 13495      \\\\\n",
       "\t alfa-romero & gas         & convertible & dohc        & 130         & 16500      \\\\\n",
       "\t alfa-romero & gas         & hatchback   & ohcv        & 152         & 16500      \\\\\n",
       "\t audi        & gas         & sedan       & ohc         & 109         & 13950      \\\\\n",
       "\t audi        & gas         & sedan       & ohc         & 136         & 17450      \\\\\n",
       "\t audi        & gas         & sedan       & ohc         & 136         & 15250      \\\\\n",
       "\\end{tabular}\n"
      ],
      "text/markdown": [
       "\n",
       "| make | fuel.type | body.style | engine.type | engine.size | price |\n",
       "|---|---|---|---|---|---|\n",
       "| alfa-romero | gas         | convertible | dohc        | 130         | 13495       |\n",
       "| alfa-romero | gas         | convertible | dohc        | 130         | 16500       |\n",
       "| alfa-romero | gas         | hatchback   | ohcv        | 152         | 16500       |\n",
       "| audi        | gas         | sedan       | ohc         | 109         | 13950       |\n",
       "| audi        | gas         | sedan       | ohc         | 136         | 17450       |\n",
       "| audi        | gas         | sedan       | ohc         | 136         | 15250       |\n",
       "\n"
      ],
      "text/plain": [
       "  make        fuel.type body.style  engine.type engine.size price\n",
       "1 alfa-romero gas       convertible dohc        130         13495\n",
       "2 alfa-romero gas       convertible dohc        130         16500\n",
       "3 alfa-romero gas       hatchback   ohcv        152         16500\n",
       "4 audi        gas       sedan       ohc         109         13950\n",
       "5 audi        gas       sedan       ohc         136         17450\n",
       "6 audi        gas       sedan       ohc         136         15250"
      ]
     },
     "metadata": {},
     "output_type": "display_data"
    }
   ],
   "source": [
    "#show those columns whose ending with 'e' of first 6 records\n",
    "car %>% select(ends_with('e')) %>%head()\n",
    "#dataframe name %>% select()"
   ]
  },
  {
   "cell_type": "code",
   "execution_count": 33,
   "id": "882ab659",
   "metadata": {},
   "outputs": [
    {
     "name": "stdout",
     "output_type": "stream",
     "text": [
      " [1] \"symboling\"         \"normalized.losses\" \"make\"             \n",
      " [4] \"fuel.type\"         \"body.style\"        \"drive.wheels\"     \n",
      " [7] \"engine.location\"   \"width\"             \"height\"           \n",
      "[10] \"engine.type\"       \"engine.size\"       \"horsepower\"       \n",
      "[13] \"city.mpg\"          \"highway.mpg\"       \"price\"            \n"
     ]
    }
   ],
   "source": [
    "# to show only column name of car dataset\n",
    "print(colnames(car))  "
   ]
  },
  {
   "cell_type": "code",
   "execution_count": 34,
   "id": "1c3d19cc",
   "metadata": {},
   "outputs": [
    {
     "data": {
      "text/html": [
       "<table>\n",
       "<thead><tr><th scope=col>symboling</th><th scope=col>normalized.losses</th><th scope=col>make</th><th scope=col>fuel.type</th><th scope=col>body.style</th><th scope=col>drive.wheels</th><th scope=col>engine.location</th><th scope=col>width</th><th scope=col>height</th><th scope=col>engine.type</th><th scope=col>engine.size</th><th scope=col>horsepower</th><th scope=col>city.mpg</th><th scope=col>highway.mpg</th><th scope=col>price</th></tr></thead>\n",
       "<tbody>\n",
       "\t<tr><td>3          </td><td>?          </td><td>alfa-romero</td><td>gas        </td><td>convertible</td><td>rwd        </td><td>front      </td><td>64.1       </td><td>48.8       </td><td>dohc       </td><td>130        </td><td>111        </td><td>21         </td><td>27         </td><td>13495      </td></tr>\n",
       "\t<tr><td>3          </td><td>?          </td><td>alfa-romero</td><td>gas        </td><td>convertible</td><td>rwd        </td><td>front      </td><td>64.1       </td><td>48.8       </td><td>dohc       </td><td>130        </td><td>111        </td><td>21         </td><td>27         </td><td>16500      </td></tr>\n",
       "\t<tr><td>1          </td><td>?          </td><td>alfa-romero</td><td>gas        </td><td>hatchback  </td><td>rwd        </td><td>front      </td><td>65.5       </td><td>52.4       </td><td>ohcv       </td><td>152        </td><td>154        </td><td>19         </td><td>26         </td><td>16500      </td></tr>\n",
       "\t<tr><td>2          </td><td>164        </td><td>audi       </td><td>gas        </td><td>sedan      </td><td>fwd        </td><td>front      </td><td>66.2       </td><td>54.3       </td><td>ohc        </td><td>109        </td><td>102        </td><td>24         </td><td>30         </td><td>13950      </td></tr>\n",
       "\t<tr><td>2          </td><td>164        </td><td>audi       </td><td>gas        </td><td>sedan      </td><td>4wd        </td><td>front      </td><td>66.4       </td><td>54.3       </td><td>ohc        </td><td>136        </td><td>115        </td><td>18         </td><td>22         </td><td>17450      </td></tr>\n",
       "\t<tr><td>2          </td><td>?          </td><td>audi       </td><td>gas        </td><td>sedan      </td><td>fwd        </td><td>front      </td><td>66.3       </td><td>53.1       </td><td>ohc        </td><td>136        </td><td>110        </td><td>19         </td><td>25         </td><td>15250      </td></tr>\n",
       "</tbody>\n",
       "</table>\n"
      ],
      "text/latex": [
       "\\begin{tabular}{r|lllllllllllllll}\n",
       " symboling & normalized.losses & make & fuel.type & body.style & drive.wheels & engine.location & width & height & engine.type & engine.size & horsepower & city.mpg & highway.mpg & price\\\\\n",
       "\\hline\n",
       "\t 3           & ?           & alfa-romero & gas         & convertible & rwd         & front       & 64.1        & 48.8        & dohc        & 130         & 111         & 21          & 27          & 13495      \\\\\n",
       "\t 3           & ?           & alfa-romero & gas         & convertible & rwd         & front       & 64.1        & 48.8        & dohc        & 130         & 111         & 21          & 27          & 16500      \\\\\n",
       "\t 1           & ?           & alfa-romero & gas         & hatchback   & rwd         & front       & 65.5        & 52.4        & ohcv        & 152         & 154         & 19          & 26          & 16500      \\\\\n",
       "\t 2           & 164         & audi        & gas         & sedan       & fwd         & front       & 66.2        & 54.3        & ohc         & 109         & 102         & 24          & 30          & 13950      \\\\\n",
       "\t 2           & 164         & audi        & gas         & sedan       & 4wd         & front       & 66.4        & 54.3        & ohc         & 136         & 115         & 18          & 22          & 17450      \\\\\n",
       "\t 2           & ?           & audi        & gas         & sedan       & fwd         & front       & 66.3        & 53.1        & ohc         & 136         & 110         & 19          & 25          & 15250      \\\\\n",
       "\\end{tabular}\n"
      ],
      "text/markdown": [
       "\n",
       "| symboling | normalized.losses | make | fuel.type | body.style | drive.wheels | engine.location | width | height | engine.type | engine.size | horsepower | city.mpg | highway.mpg | price |\n",
       "|---|---|---|---|---|---|---|---|---|---|---|---|---|---|---|\n",
       "| 3           | ?           | alfa-romero | gas         | convertible | rwd         | front       | 64.1        | 48.8        | dohc        | 130         | 111         | 21          | 27          | 13495       |\n",
       "| 3           | ?           | alfa-romero | gas         | convertible | rwd         | front       | 64.1        | 48.8        | dohc        | 130         | 111         | 21          | 27          | 16500       |\n",
       "| 1           | ?           | alfa-romero | gas         | hatchback   | rwd         | front       | 65.5        | 52.4        | ohcv        | 152         | 154         | 19          | 26          | 16500       |\n",
       "| 2           | 164         | audi        | gas         | sedan       | fwd         | front       | 66.2        | 54.3        | ohc         | 109         | 102         | 24          | 30          | 13950       |\n",
       "| 2           | 164         | audi        | gas         | sedan       | 4wd         | front       | 66.4        | 54.3        | ohc         | 136         | 115         | 18          | 22          | 17450       |\n",
       "| 2           | ?           | audi        | gas         | sedan       | fwd         | front       | 66.3        | 53.1        | ohc         | 136         | 110         | 19          | 25          | 15250       |\n",
       "\n"
      ],
      "text/plain": [
       "  symboling normalized.losses make        fuel.type body.style  drive.wheels\n",
       "1 3         ?                 alfa-romero gas       convertible rwd         \n",
       "2 3         ?                 alfa-romero gas       convertible rwd         \n",
       "3 1         ?                 alfa-romero gas       hatchback   rwd         \n",
       "4 2         164               audi        gas       sedan       fwd         \n",
       "5 2         164               audi        gas       sedan       4wd         \n",
       "6 2         ?                 audi        gas       sedan       fwd         \n",
       "  engine.location width height engine.type engine.size horsepower city.mpg\n",
       "1 front           64.1  48.8   dohc        130         111        21      \n",
       "2 front           64.1  48.8   dohc        130         111        21      \n",
       "3 front           65.5  52.4   ohcv        152         154        19      \n",
       "4 front           66.2  54.3   ohc         109         102        24      \n",
       "5 front           66.4  54.3   ohc         136         115        18      \n",
       "6 front           66.3  53.1   ohc         136         110        19      \n",
       "  highway.mpg price\n",
       "1 27          13495\n",
       "2 27          16500\n",
       "3 26          16500\n",
       "4 30          13950\n",
       "5 22          17450\n",
       "6 25          15250"
      ]
     },
     "metadata": {},
     "output_type": "display_data"
    }
   ],
   "source": [
    "head(car)"
   ]
  },
  {
   "cell_type": "code",
   "execution_count": 35,
   "id": "e7ef4164",
   "metadata": {},
   "outputs": [
    {
     "data": {
      "text/html": [
       "<table>\n",
       "<thead><tr><th scope=col>make</th><th scope=col>symboling</th><th scope=col>normalized.losses</th><th scope=col>fuel.type</th><th scope=col>body.style</th><th scope=col>drive.wheels</th><th scope=col>engine.location</th><th scope=col>width</th><th scope=col>height</th><th scope=col>engine.type</th><th scope=col>engine.size</th><th scope=col>horsepower</th><th scope=col>city.mpg</th><th scope=col>highway.mpg</th><th scope=col>price</th></tr></thead>\n",
       "<tbody>\n",
       "\t<tr><td>alfa-romero</td><td> 3         </td><td>?          </td><td>gas        </td><td>convertible</td><td>rwd        </td><td>front      </td><td>64.1       </td><td>48.8       </td><td>dohc       </td><td>130        </td><td>111        </td><td>21         </td><td>27         </td><td>13495      </td></tr>\n",
       "\t<tr><td>alfa-romero</td><td> 3         </td><td>?          </td><td>gas        </td><td>convertible</td><td>rwd        </td><td>front      </td><td>64.1       </td><td>48.8       </td><td>dohc       </td><td>130        </td><td>111        </td><td>21         </td><td>27         </td><td>16500      </td></tr>\n",
       "\t<tr><td>alfa-romero</td><td> 1         </td><td>?          </td><td>gas        </td><td>hatchback  </td><td>rwd        </td><td>front      </td><td>65.5       </td><td>52.4       </td><td>ohcv       </td><td>152        </td><td>154        </td><td>19         </td><td>26         </td><td>16500      </td></tr>\n",
       "\t<tr><td>audi       </td><td> 2         </td><td>164        </td><td>gas        </td><td>sedan      </td><td>fwd        </td><td>front      </td><td>66.2       </td><td>54.3       </td><td>ohc        </td><td>109        </td><td>102        </td><td>24         </td><td>30         </td><td>13950      </td></tr>\n",
       "\t<tr><td>audi       </td><td> 2         </td><td>164        </td><td>gas        </td><td>sedan      </td><td>4wd        </td><td>front      </td><td>66.4       </td><td>54.3       </td><td>ohc        </td><td>136        </td><td>115        </td><td>18         </td><td>22         </td><td>17450      </td></tr>\n",
       "\t<tr><td>audi       </td><td> 2         </td><td>?          </td><td>gas        </td><td>sedan      </td><td>fwd        </td><td>front      </td><td>66.3       </td><td>53.1       </td><td>ohc        </td><td>136        </td><td>110        </td><td>19         </td><td>25         </td><td>15250      </td></tr>\n",
       "\t<tr><td>audi       </td><td> 1         </td><td>158        </td><td>gas        </td><td>sedan      </td><td>fwd        </td><td>front      </td><td>71.4       </td><td>55.7       </td><td>ohc        </td><td>136        </td><td>110        </td><td>19         </td><td>25         </td><td>17710      </td></tr>\n",
       "\t<tr><td>audi       </td><td> 1         </td><td>?          </td><td>gas        </td><td>wagon      </td><td>fwd        </td><td>front      </td><td>71.4       </td><td>55.7       </td><td>ohc        </td><td>136        </td><td>110        </td><td>19         </td><td>25         </td><td>18920      </td></tr>\n",
       "\t<tr><td>audi       </td><td> 1         </td><td>158        </td><td>gas        </td><td>sedan      </td><td>fwd        </td><td>front      </td><td>71.4       </td><td>55.9       </td><td>ohc        </td><td>131        </td><td>140        </td><td>17         </td><td>20         </td><td>23875      </td></tr>\n",
       "\t<tr><td>audi       </td><td> 0         </td><td>?          </td><td>gas        </td><td>hatchback  </td><td>4wd        </td><td>front      </td><td>67.9       </td><td>52.0       </td><td>ohc        </td><td>131        </td><td>160        </td><td>16         </td><td>22         </td><td>12000      </td></tr>\n",
       "\t<tr><td>bmw        </td><td> 2         </td><td>192        </td><td>gas        </td><td>sedan      </td><td>rwd        </td><td>front      </td><td>64.8       </td><td>54.3       </td><td>ohc        </td><td>108        </td><td>101        </td><td>23         </td><td>29         </td><td>16430      </td></tr>\n",
       "\t<tr><td>bmw        </td><td> 0         </td><td>192        </td><td>gas        </td><td>sedan      </td><td>rwd        </td><td>front      </td><td>64.8       </td><td>54.3       </td><td>ohc        </td><td>108        </td><td>101        </td><td>23         </td><td>29         </td><td>16925      </td></tr>\n",
       "\t<tr><td>bmw        </td><td> 0         </td><td>188        </td><td>gas        </td><td>sedan      </td><td>rwd        </td><td>front      </td><td>64.8       </td><td>54.3       </td><td>ohc        </td><td>164        </td><td>121        </td><td>21         </td><td>28         </td><td>20970      </td></tr>\n",
       "\t<tr><td>bmw        </td><td> 0         </td><td>188        </td><td>gas        </td><td>sedan      </td><td>rwd        </td><td>front      </td><td>64.8       </td><td>54.3       </td><td>ohc        </td><td>164        </td><td>121        </td><td>21         </td><td>28         </td><td>21105      </td></tr>\n",
       "\t<tr><td>bmw        </td><td> 1         </td><td>?          </td><td>gas        </td><td>sedan      </td><td>rwd        </td><td>front      </td><td>66.9       </td><td>55.7       </td><td>ohc        </td><td>164        </td><td>121        </td><td>20         </td><td>25         </td><td>24565      </td></tr>\n",
       "\t<tr><td>bmw        </td><td> 0         </td><td>?          </td><td>gas        </td><td>sedan      </td><td>rwd        </td><td>front      </td><td>66.9       </td><td>55.7       </td><td>ohc        </td><td>209        </td><td>182        </td><td>16         </td><td>22         </td><td>30760      </td></tr>\n",
       "\t<tr><td>bmw        </td><td> 0         </td><td>?          </td><td>gas        </td><td>sedan      </td><td>rwd        </td><td>front      </td><td>67.9       </td><td>53.7       </td><td>ohc        </td><td>209        </td><td>182        </td><td>16         </td><td>22         </td><td>41315      </td></tr>\n",
       "\t<tr><td>bmw        </td><td> 0         </td><td>?          </td><td>gas        </td><td>sedan      </td><td>rwd        </td><td>front      </td><td>70.9       </td><td>56.3       </td><td>ohc        </td><td>209        </td><td>182        </td><td>15         </td><td>20         </td><td>36880      </td></tr>\n",
       "\t<tr><td>chevrolet  </td><td> 2         </td><td>121        </td><td>gas        </td><td>hatchback  </td><td>fwd        </td><td>front      </td><td>60.3       </td><td>53.2       </td><td>l          </td><td> 61        </td><td>48         </td><td>47         </td><td>53         </td><td> 5151      </td></tr>\n",
       "\t<tr><td>chevrolet  </td><td> 1         </td><td>98         </td><td>gas        </td><td>hatchback  </td><td>fwd        </td><td>front      </td><td>63.6       </td><td>52.0       </td><td>ohc        </td><td> 90        </td><td>70         </td><td>38         </td><td>43         </td><td> 6295      </td></tr>\n",
       "\t<tr><td>chevrolet  </td><td> 0         </td><td>81         </td><td>gas        </td><td>sedan      </td><td>fwd        </td><td>front      </td><td>63.6       </td><td>52.0       </td><td>ohc        </td><td> 90        </td><td>70         </td><td>38         </td><td>43         </td><td> 6575      </td></tr>\n",
       "\t<tr><td>dodge      </td><td> 1         </td><td>118        </td><td>gas        </td><td>hatchback  </td><td>fwd        </td><td>front      </td><td>63.8       </td><td>50.8       </td><td>ohc        </td><td> 90        </td><td>68         </td><td>37         </td><td>41         </td><td> 5572      </td></tr>\n",
       "\t<tr><td>dodge      </td><td> 1         </td><td>118        </td><td>gas        </td><td>hatchback  </td><td>fwd        </td><td>front      </td><td>63.8       </td><td>50.8       </td><td>ohc        </td><td> 90        </td><td>68         </td><td>31         </td><td>38         </td><td> 6377      </td></tr>\n",
       "\t<tr><td>dodge      </td><td> 1         </td><td>118        </td><td>gas        </td><td>hatchback  </td><td>fwd        </td><td>front      </td><td>63.8       </td><td>50.8       </td><td>ohc        </td><td> 98        </td><td>102        </td><td>24         </td><td>30         </td><td> 7957      </td></tr>\n",
       "\t<tr><td>dodge      </td><td> 1         </td><td>148        </td><td>gas        </td><td>hatchback  </td><td>fwd        </td><td>front      </td><td>63.8       </td><td>50.6       </td><td>ohc        </td><td> 90        </td><td>68         </td><td>31         </td><td>38         </td><td> 6229      </td></tr>\n",
       "\t<tr><td>dodge      </td><td> 1         </td><td>148        </td><td>gas        </td><td>sedan      </td><td>fwd        </td><td>front      </td><td>63.8       </td><td>50.6       </td><td>ohc        </td><td> 90        </td><td>68         </td><td>31         </td><td>38         </td><td> 6692      </td></tr>\n",
       "\t<tr><td>dodge      </td><td> 1         </td><td>148        </td><td>gas        </td><td>sedan      </td><td>fwd        </td><td>front      </td><td>63.8       </td><td>50.6       </td><td>ohc        </td><td> 90        </td><td>68         </td><td>31         </td><td>38         </td><td> 7609      </td></tr>\n",
       "\t<tr><td>dodge      </td><td> 1         </td><td>148        </td><td>gas        </td><td>sedan      </td><td>fwd        </td><td>front      </td><td>63.8       </td><td>50.6       </td><td>ohc        </td><td> 98        </td><td>102        </td><td>24         </td><td>30         </td><td> 8558      </td></tr>\n",
       "\t<tr><td>dodge      </td><td>-1         </td><td>110        </td><td>gas        </td><td>wagon      </td><td>fwd        </td><td>front      </td><td>64.6       </td><td>59.8       </td><td>ohc        </td><td>122        </td><td>88         </td><td>24         </td><td>30         </td><td> 8921      </td></tr>\n",
       "\t<tr><td>dodge      </td><td> 3         </td><td>145        </td><td>gas        </td><td>hatchback  </td><td>fwd        </td><td>front      </td><td>66.3       </td><td>50.2       </td><td>ohc        </td><td>156        </td><td>145        </td><td>19         </td><td>24         </td><td>12964      </td></tr>\n",
       "\t<tr><td>...</td><td>...</td><td>...</td><td>...</td><td>...</td><td>...</td><td>...</td><td>...</td><td>...</td><td>...</td><td>...</td><td>...</td><td>...</td><td>...</td><td>...</td></tr>\n",
       "\t<tr><td>toyota     </td><td>-1         </td><td>65         </td><td>gas        </td><td>hatchback  </td><td>fwd        </td><td>front      </td><td>66.5       </td><td>53.9       </td><td>ohc        </td><td>122        </td><td>92         </td><td>27         </td><td>32         </td><td> 9988      </td></tr>\n",
       "\t<tr><td>toyota     </td><td>-1         </td><td>65         </td><td>gas        </td><td>sedan      </td><td>fwd        </td><td>front      </td><td>66.5       </td><td>54.9       </td><td>ohc        </td><td>122        </td><td>92         </td><td>27         </td><td>32         </td><td>10898      </td></tr>\n",
       "\t<tr><td>toyota     </td><td>-1         </td><td>65         </td><td>gas        </td><td>hatchback  </td><td>fwd        </td><td>front      </td><td>66.5       </td><td>53.9       </td><td>ohc        </td><td>122        </td><td>92         </td><td>27         </td><td>32         </td><td>11248      </td></tr>\n",
       "\t<tr><td>toyota     </td><td> 3         </td><td>197        </td><td>gas        </td><td>hatchback  </td><td>rwd        </td><td>front      </td><td>67.7       </td><td>52.0       </td><td>dohc       </td><td>171        </td><td>161        </td><td>20         </td><td>24         </td><td>16558      </td></tr>\n",
       "\t<tr><td>toyota     </td><td> 3         </td><td>197        </td><td>gas        </td><td>hatchback  </td><td>rwd        </td><td>front      </td><td>67.7       </td><td>52.0       </td><td>dohc       </td><td>171        </td><td>161        </td><td>19         </td><td>24         </td><td>15998      </td></tr>\n",
       "\t<tr><td>toyota     </td><td>-1         </td><td>90         </td><td>gas        </td><td>sedan      </td><td>rwd        </td><td>front      </td><td>66.5       </td><td>54.1       </td><td>dohc       </td><td>171        </td><td>156        </td><td>20         </td><td>24         </td><td>15690      </td></tr>\n",
       "\t<tr><td>toyota     </td><td>-1         </td><td>?          </td><td>gas        </td><td>wagon      </td><td>rwd        </td><td>front      </td><td>66.5       </td><td>54.1       </td><td>dohc       </td><td>161        </td><td>156        </td><td>19         </td><td>24         </td><td>15750      </td></tr>\n",
       "\t<tr><td>volkswagen </td><td> 2         </td><td>122        </td><td>diesel     </td><td>sedan      </td><td>fwd        </td><td>front      </td><td>65.5       </td><td>55.7       </td><td>ohc        </td><td> 97        </td><td>52         </td><td>37         </td><td>46         </td><td> 7775      </td></tr>\n",
       "\t<tr><td>volkswagen </td><td> 2         </td><td>122        </td><td>gas        </td><td>sedan      </td><td>fwd        </td><td>front      </td><td>65.5       </td><td>55.7       </td><td>ohc        </td><td>109        </td><td>85         </td><td>27         </td><td>34         </td><td> 7975      </td></tr>\n",
       "\t<tr><td>volkswagen </td><td> 2         </td><td>94         </td><td>diesel     </td><td>sedan      </td><td>fwd        </td><td>front      </td><td>65.5       </td><td>55.7       </td><td>ohc        </td><td> 97        </td><td>52         </td><td>37         </td><td>46         </td><td> 7995      </td></tr>\n",
       "\t<tr><td>volkswagen </td><td> 2         </td><td>94         </td><td>gas        </td><td>sedan      </td><td>fwd        </td><td>front      </td><td>65.5       </td><td>55.7       </td><td>ohc        </td><td>109        </td><td>85         </td><td>27         </td><td>34         </td><td> 8195      </td></tr>\n",
       "\t<tr><td>volkswagen </td><td> 2         </td><td>94         </td><td>gas        </td><td>sedan      </td><td>fwd        </td><td>front      </td><td>65.5       </td><td>55.7       </td><td>ohc        </td><td>109        </td><td>85         </td><td>27         </td><td>34         </td><td> 8495      </td></tr>\n",
       "\t<tr><td>volkswagen </td><td> 2         </td><td>94         </td><td>diesel     </td><td>sedan      </td><td>fwd        </td><td>front      </td><td>65.5       </td><td>55.7       </td><td>ohc        </td><td> 97        </td><td>68         </td><td>37         </td><td>42         </td><td> 9495      </td></tr>\n",
       "\t<tr><td>volkswagen </td><td> 2         </td><td>94         </td><td>gas        </td><td>sedan      </td><td>fwd        </td><td>front      </td><td>65.5       </td><td>55.7       </td><td>ohc        </td><td>109        </td><td>100        </td><td>26         </td><td>32         </td><td> 9995      </td></tr>\n",
       "\t<tr><td>volkswagen </td><td> 3         </td><td>?          </td><td>gas        </td><td>convertible</td><td>fwd        </td><td>front      </td><td>64.2       </td><td>55.6       </td><td>ohc        </td><td>109        </td><td>90         </td><td>24         </td><td>29         </td><td>11595      </td></tr>\n",
       "\t<tr><td>volkswagen </td><td> 3         </td><td>256        </td><td>gas        </td><td>hatchback  </td><td>fwd        </td><td>front      </td><td>64.0       </td><td>51.4       </td><td>ohc        </td><td>109        </td><td>90         </td><td>24         </td><td>29         </td><td> 9980      </td></tr>\n",
       "\t<tr><td>volkswagen </td><td> 0         </td><td>?          </td><td>gas        </td><td>sedan      </td><td>fwd        </td><td>front      </td><td>66.9       </td><td>55.1       </td><td>ohc        </td><td>136        </td><td>110        </td><td>19         </td><td>24         </td><td>13295      </td></tr>\n",
       "\t<tr><td>volkswagen </td><td> 0         </td><td>?          </td><td>diesel     </td><td>sedan      </td><td>fwd        </td><td>front      </td><td>66.9       </td><td>55.1       </td><td>ohc        </td><td> 97        </td><td>68         </td><td>33         </td><td>38         </td><td>13845      </td></tr>\n",
       "\t<tr><td>volkswagen </td><td> 0         </td><td>?          </td><td>gas        </td><td>wagon      </td><td>fwd        </td><td>front      </td><td>66.9       </td><td>55.1       </td><td>ohc        </td><td>109        </td><td>88         </td><td>25         </td><td>31         </td><td>12290      </td></tr>\n",
       "\t<tr><td>volvo      </td><td>-2         </td><td>103        </td><td>gas        </td><td>sedan      </td><td>rwd        </td><td>front      </td><td>67.2       </td><td>56.2       </td><td>ohc        </td><td>141        </td><td>114        </td><td>23         </td><td>28         </td><td>12940      </td></tr>\n",
       "\t<tr><td>volvo      </td><td>-1         </td><td>74         </td><td>gas        </td><td>wagon      </td><td>rwd        </td><td>front      </td><td>67.2       </td><td>57.5       </td><td>ohc        </td><td>141        </td><td>114        </td><td>23         </td><td>28         </td><td>13415      </td></tr>\n",
       "\t<tr><td>volvo      </td><td>-2         </td><td>103        </td><td>gas        </td><td>sedan      </td><td>rwd        </td><td>front      </td><td>67.2       </td><td>56.2       </td><td>ohc        </td><td>141        </td><td>114        </td><td>24         </td><td>28         </td><td>15985      </td></tr>\n",
       "\t<tr><td>volvo      </td><td>-1         </td><td>74         </td><td>gas        </td><td>wagon      </td><td>rwd        </td><td>front      </td><td>67.2       </td><td>57.5       </td><td>ohc        </td><td>141        </td><td>114        </td><td>24         </td><td>28         </td><td>16515      </td></tr>\n",
       "\t<tr><td>volvo      </td><td>-2         </td><td>103        </td><td>gas        </td><td>sedan      </td><td>rwd        </td><td>front      </td><td>67.2       </td><td>56.2       </td><td>ohc        </td><td>130        </td><td>162        </td><td>17         </td><td>22         </td><td>18420      </td></tr>\n",
       "\t<tr><td>volvo      </td><td>-1         </td><td>74         </td><td>gas        </td><td>wagon      </td><td>rwd        </td><td>front      </td><td>67.2       </td><td>57.5       </td><td>ohc        </td><td>130        </td><td>162        </td><td>17         </td><td>22         </td><td>18950      </td></tr>\n",
       "\t<tr><td>volvo      </td><td>-1         </td><td>95         </td><td>gas        </td><td>sedan      </td><td>rwd        </td><td>front      </td><td>68.9       </td><td>55.5       </td><td>ohc        </td><td>141        </td><td>114        </td><td>23         </td><td>28         </td><td>16845      </td></tr>\n",
       "\t<tr><td>volvo      </td><td>-1         </td><td>95         </td><td>gas        </td><td>sedan      </td><td>rwd        </td><td>front      </td><td>68.8       </td><td>55.5       </td><td>ohc        </td><td>141        </td><td>160        </td><td>19         </td><td>25         </td><td>19045      </td></tr>\n",
       "\t<tr><td>volvo      </td><td>-1         </td><td>95         </td><td>gas        </td><td>sedan      </td><td>rwd        </td><td>front      </td><td>68.9       </td><td>55.5       </td><td>ohcv       </td><td>173        </td><td>134        </td><td>18         </td><td>23         </td><td>21485      </td></tr>\n",
       "\t<tr><td>volvo      </td><td>-1         </td><td>95         </td><td>diesel     </td><td>sedan      </td><td>rwd        </td><td>front      </td><td>68.9       </td><td>55.5       </td><td>ohc        </td><td>145        </td><td>106        </td><td>26         </td><td>27         </td><td>22470      </td></tr>\n",
       "\t<tr><td>volvo      </td><td>-1         </td><td>95         </td><td>gas        </td><td>sedan      </td><td>rwd        </td><td>front      </td><td>68.9       </td><td>55.5       </td><td>ohc        </td><td>141        </td><td>114        </td><td>19         </td><td>25         </td><td>22625      </td></tr>\n",
       "</tbody>\n",
       "</table>\n"
      ],
      "text/latex": [
       "\\begin{tabular}{r|lllllllllllllll}\n",
       " make & symboling & normalized.losses & fuel.type & body.style & drive.wheels & engine.location & width & height & engine.type & engine.size & horsepower & city.mpg & highway.mpg & price\\\\\n",
       "\\hline\n",
       "\t alfa-romero &  3          & ?           & gas         & convertible & rwd         & front       & 64.1        & 48.8        & dohc        & 130         & 111         & 21          & 27          & 13495      \\\\\n",
       "\t alfa-romero &  3          & ?           & gas         & convertible & rwd         & front       & 64.1        & 48.8        & dohc        & 130         & 111         & 21          & 27          & 16500      \\\\\n",
       "\t alfa-romero &  1          & ?           & gas         & hatchback   & rwd         & front       & 65.5        & 52.4        & ohcv        & 152         & 154         & 19          & 26          & 16500      \\\\\n",
       "\t audi        &  2          & 164         & gas         & sedan       & fwd         & front       & 66.2        & 54.3        & ohc         & 109         & 102         & 24          & 30          & 13950      \\\\\n",
       "\t audi        &  2          & 164         & gas         & sedan       & 4wd         & front       & 66.4        & 54.3        & ohc         & 136         & 115         & 18          & 22          & 17450      \\\\\n",
       "\t audi        &  2          & ?           & gas         & sedan       & fwd         & front       & 66.3        & 53.1        & ohc         & 136         & 110         & 19          & 25          & 15250      \\\\\n",
       "\t audi        &  1          & 158         & gas         & sedan       & fwd         & front       & 71.4        & 55.7        & ohc         & 136         & 110         & 19          & 25          & 17710      \\\\\n",
       "\t audi        &  1          & ?           & gas         & wagon       & fwd         & front       & 71.4        & 55.7        & ohc         & 136         & 110         & 19          & 25          & 18920      \\\\\n",
       "\t audi        &  1          & 158         & gas         & sedan       & fwd         & front       & 71.4        & 55.9        & ohc         & 131         & 140         & 17          & 20          & 23875      \\\\\n",
       "\t audi        &  0          & ?           & gas         & hatchback   & 4wd         & front       & 67.9        & 52.0        & ohc         & 131         & 160         & 16          & 22          & 12000      \\\\\n",
       "\t bmw         &  2          & 192         & gas         & sedan       & rwd         & front       & 64.8        & 54.3        & ohc         & 108         & 101         & 23          & 29          & 16430      \\\\\n",
       "\t bmw         &  0          & 192         & gas         & sedan       & rwd         & front       & 64.8        & 54.3        & ohc         & 108         & 101         & 23          & 29          & 16925      \\\\\n",
       "\t bmw         &  0          & 188         & gas         & sedan       & rwd         & front       & 64.8        & 54.3        & ohc         & 164         & 121         & 21          & 28          & 20970      \\\\\n",
       "\t bmw         &  0          & 188         & gas         & sedan       & rwd         & front       & 64.8        & 54.3        & ohc         & 164         & 121         & 21          & 28          & 21105      \\\\\n",
       "\t bmw         &  1          & ?           & gas         & sedan       & rwd         & front       & 66.9        & 55.7        & ohc         & 164         & 121         & 20          & 25          & 24565      \\\\\n",
       "\t bmw         &  0          & ?           & gas         & sedan       & rwd         & front       & 66.9        & 55.7        & ohc         & 209         & 182         & 16          & 22          & 30760      \\\\\n",
       "\t bmw         &  0          & ?           & gas         & sedan       & rwd         & front       & 67.9        & 53.7        & ohc         & 209         & 182         & 16          & 22          & 41315      \\\\\n",
       "\t bmw         &  0          & ?           & gas         & sedan       & rwd         & front       & 70.9        & 56.3        & ohc         & 209         & 182         & 15          & 20          & 36880      \\\\\n",
       "\t chevrolet   &  2          & 121         & gas         & hatchback   & fwd         & front       & 60.3        & 53.2        & l           &  61         & 48          & 47          & 53          &  5151      \\\\\n",
       "\t chevrolet   &  1          & 98          & gas         & hatchback   & fwd         & front       & 63.6        & 52.0        & ohc         &  90         & 70          & 38          & 43          &  6295      \\\\\n",
       "\t chevrolet   &  0          & 81          & gas         & sedan       & fwd         & front       & 63.6        & 52.0        & ohc         &  90         & 70          & 38          & 43          &  6575      \\\\\n",
       "\t dodge       &  1          & 118         & gas         & hatchback   & fwd         & front       & 63.8        & 50.8        & ohc         &  90         & 68          & 37          & 41          &  5572      \\\\\n",
       "\t dodge       &  1          & 118         & gas         & hatchback   & fwd         & front       & 63.8        & 50.8        & ohc         &  90         & 68          & 31          & 38          &  6377      \\\\\n",
       "\t dodge       &  1          & 118         & gas         & hatchback   & fwd         & front       & 63.8        & 50.8        & ohc         &  98         & 102         & 24          & 30          &  7957      \\\\\n",
       "\t dodge       &  1          & 148         & gas         & hatchback   & fwd         & front       & 63.8        & 50.6        & ohc         &  90         & 68          & 31          & 38          &  6229      \\\\\n",
       "\t dodge       &  1          & 148         & gas         & sedan       & fwd         & front       & 63.8        & 50.6        & ohc         &  90         & 68          & 31          & 38          &  6692      \\\\\n",
       "\t dodge       &  1          & 148         & gas         & sedan       & fwd         & front       & 63.8        & 50.6        & ohc         &  90         & 68          & 31          & 38          &  7609      \\\\\n",
       "\t dodge       &  1          & 148         & gas         & sedan       & fwd         & front       & 63.8        & 50.6        & ohc         &  98         & 102         & 24          & 30          &  8558      \\\\\n",
       "\t dodge       & -1          & 110         & gas         & wagon       & fwd         & front       & 64.6        & 59.8        & ohc         & 122         & 88          & 24          & 30          &  8921      \\\\\n",
       "\t dodge       &  3          & 145         & gas         & hatchback   & fwd         & front       & 66.3        & 50.2        & ohc         & 156         & 145         & 19          & 24          & 12964      \\\\\n",
       "\t ... & ... & ... & ... & ... & ... & ... & ... & ... & ... & ... & ... & ... & ... & ...\\\\\n",
       "\t toyota      & -1          & 65          & gas         & hatchback   & fwd         & front       & 66.5        & 53.9        & ohc         & 122         & 92          & 27          & 32          &  9988      \\\\\n",
       "\t toyota      & -1          & 65          & gas         & sedan       & fwd         & front       & 66.5        & 54.9        & ohc         & 122         & 92          & 27          & 32          & 10898      \\\\\n",
       "\t toyota      & -1          & 65          & gas         & hatchback   & fwd         & front       & 66.5        & 53.9        & ohc         & 122         & 92          & 27          & 32          & 11248      \\\\\n",
       "\t toyota      &  3          & 197         & gas         & hatchback   & rwd         & front       & 67.7        & 52.0        & dohc        & 171         & 161         & 20          & 24          & 16558      \\\\\n",
       "\t toyota      &  3          & 197         & gas         & hatchback   & rwd         & front       & 67.7        & 52.0        & dohc        & 171         & 161         & 19          & 24          & 15998      \\\\\n",
       "\t toyota      & -1          & 90          & gas         & sedan       & rwd         & front       & 66.5        & 54.1        & dohc        & 171         & 156         & 20          & 24          & 15690      \\\\\n",
       "\t toyota      & -1          & ?           & gas         & wagon       & rwd         & front       & 66.5        & 54.1        & dohc        & 161         & 156         & 19          & 24          & 15750      \\\\\n",
       "\t volkswagen  &  2          & 122         & diesel      & sedan       & fwd         & front       & 65.5        & 55.7        & ohc         &  97         & 52          & 37          & 46          &  7775      \\\\\n",
       "\t volkswagen  &  2          & 122         & gas         & sedan       & fwd         & front       & 65.5        & 55.7        & ohc         & 109         & 85          & 27          & 34          &  7975      \\\\\n",
       "\t volkswagen  &  2          & 94          & diesel      & sedan       & fwd         & front       & 65.5        & 55.7        & ohc         &  97         & 52          & 37          & 46          &  7995      \\\\\n",
       "\t volkswagen  &  2          & 94          & gas         & sedan       & fwd         & front       & 65.5        & 55.7        & ohc         & 109         & 85          & 27          & 34          &  8195      \\\\\n",
       "\t volkswagen  &  2          & 94          & gas         & sedan       & fwd         & front       & 65.5        & 55.7        & ohc         & 109         & 85          & 27          & 34          &  8495      \\\\\n",
       "\t volkswagen  &  2          & 94          & diesel      & sedan       & fwd         & front       & 65.5        & 55.7        & ohc         &  97         & 68          & 37          & 42          &  9495      \\\\\n",
       "\t volkswagen  &  2          & 94          & gas         & sedan       & fwd         & front       & 65.5        & 55.7        & ohc         & 109         & 100         & 26          & 32          &  9995      \\\\\n",
       "\t volkswagen  &  3          & ?           & gas         & convertible & fwd         & front       & 64.2        & 55.6        & ohc         & 109         & 90          & 24          & 29          & 11595      \\\\\n",
       "\t volkswagen  &  3          & 256         & gas         & hatchback   & fwd         & front       & 64.0        & 51.4        & ohc         & 109         & 90          & 24          & 29          &  9980      \\\\\n",
       "\t volkswagen  &  0          & ?           & gas         & sedan       & fwd         & front       & 66.9        & 55.1        & ohc         & 136         & 110         & 19          & 24          & 13295      \\\\\n",
       "\t volkswagen  &  0          & ?           & diesel      & sedan       & fwd         & front       & 66.9        & 55.1        & ohc         &  97         & 68          & 33          & 38          & 13845      \\\\\n",
       "\t volkswagen  &  0          & ?           & gas         & wagon       & fwd         & front       & 66.9        & 55.1        & ohc         & 109         & 88          & 25          & 31          & 12290      \\\\\n",
       "\t volvo       & -2          & 103         & gas         & sedan       & rwd         & front       & 67.2        & 56.2        & ohc         & 141         & 114         & 23          & 28          & 12940      \\\\\n",
       "\t volvo       & -1          & 74          & gas         & wagon       & rwd         & front       & 67.2        & 57.5        & ohc         & 141         & 114         & 23          & 28          & 13415      \\\\\n",
       "\t volvo       & -2          & 103         & gas         & sedan       & rwd         & front       & 67.2        & 56.2        & ohc         & 141         & 114         & 24          & 28          & 15985      \\\\\n",
       "\t volvo       & -1          & 74          & gas         & wagon       & rwd         & front       & 67.2        & 57.5        & ohc         & 141         & 114         & 24          & 28          & 16515      \\\\\n",
       "\t volvo       & -2          & 103         & gas         & sedan       & rwd         & front       & 67.2        & 56.2        & ohc         & 130         & 162         & 17          & 22          & 18420      \\\\\n",
       "\t volvo       & -1          & 74          & gas         & wagon       & rwd         & front       & 67.2        & 57.5        & ohc         & 130         & 162         & 17          & 22          & 18950      \\\\\n",
       "\t volvo       & -1          & 95          & gas         & sedan       & rwd         & front       & 68.9        & 55.5        & ohc         & 141         & 114         & 23          & 28          & 16845      \\\\\n",
       "\t volvo       & -1          & 95          & gas         & sedan       & rwd         & front       & 68.8        & 55.5        & ohc         & 141         & 160         & 19          & 25          & 19045      \\\\\n",
       "\t volvo       & -1          & 95          & gas         & sedan       & rwd         & front       & 68.9        & 55.5        & ohcv        & 173         & 134         & 18          & 23          & 21485      \\\\\n",
       "\t volvo       & -1          & 95          & diesel      & sedan       & rwd         & front       & 68.9        & 55.5        & ohc         & 145         & 106         & 26          & 27          & 22470      \\\\\n",
       "\t volvo       & -1          & 95          & gas         & sedan       & rwd         & front       & 68.9        & 55.5        & ohc         & 141         & 114         & 19          & 25          & 22625      \\\\\n",
       "\\end{tabular}\n"
      ],
      "text/markdown": [
       "\n",
       "| make | symboling | normalized.losses | fuel.type | body.style | drive.wheels | engine.location | width | height | engine.type | engine.size | horsepower | city.mpg | highway.mpg | price |\n",
       "|---|---|---|---|---|---|---|---|---|---|---|---|---|---|---|\n",
       "| alfa-romero |  3          | ?           | gas         | convertible | rwd         | front       | 64.1        | 48.8        | dohc        | 130         | 111         | 21          | 27          | 13495       |\n",
       "| alfa-romero |  3          | ?           | gas         | convertible | rwd         | front       | 64.1        | 48.8        | dohc        | 130         | 111         | 21          | 27          | 16500       |\n",
       "| alfa-romero |  1          | ?           | gas         | hatchback   | rwd         | front       | 65.5        | 52.4        | ohcv        | 152         | 154         | 19          | 26          | 16500       |\n",
       "| audi        |  2          | 164         | gas         | sedan       | fwd         | front       | 66.2        | 54.3        | ohc         | 109         | 102         | 24          | 30          | 13950       |\n",
       "| audi        |  2          | 164         | gas         | sedan       | 4wd         | front       | 66.4        | 54.3        | ohc         | 136         | 115         | 18          | 22          | 17450       |\n",
       "| audi        |  2          | ?           | gas         | sedan       | fwd         | front       | 66.3        | 53.1        | ohc         | 136         | 110         | 19          | 25          | 15250       |\n",
       "| audi        |  1          | 158         | gas         | sedan       | fwd         | front       | 71.4        | 55.7        | ohc         | 136         | 110         | 19          | 25          | 17710       |\n",
       "| audi        |  1          | ?           | gas         | wagon       | fwd         | front       | 71.4        | 55.7        | ohc         | 136         | 110         | 19          | 25          | 18920       |\n",
       "| audi        |  1          | 158         | gas         | sedan       | fwd         | front       | 71.4        | 55.9        | ohc         | 131         | 140         | 17          | 20          | 23875       |\n",
       "| audi        |  0          | ?           | gas         | hatchback   | 4wd         | front       | 67.9        | 52.0        | ohc         | 131         | 160         | 16          | 22          | 12000       |\n",
       "| bmw         |  2          | 192         | gas         | sedan       | rwd         | front       | 64.8        | 54.3        | ohc         | 108         | 101         | 23          | 29          | 16430       |\n",
       "| bmw         |  0          | 192         | gas         | sedan       | rwd         | front       | 64.8        | 54.3        | ohc         | 108         | 101         | 23          | 29          | 16925       |\n",
       "| bmw         |  0          | 188         | gas         | sedan       | rwd         | front       | 64.8        | 54.3        | ohc         | 164         | 121         | 21          | 28          | 20970       |\n",
       "| bmw         |  0          | 188         | gas         | sedan       | rwd         | front       | 64.8        | 54.3        | ohc         | 164         | 121         | 21          | 28          | 21105       |\n",
       "| bmw         |  1          | ?           | gas         | sedan       | rwd         | front       | 66.9        | 55.7        | ohc         | 164         | 121         | 20          | 25          | 24565       |\n",
       "| bmw         |  0          | ?           | gas         | sedan       | rwd         | front       | 66.9        | 55.7        | ohc         | 209         | 182         | 16          | 22          | 30760       |\n",
       "| bmw         |  0          | ?           | gas         | sedan       | rwd         | front       | 67.9        | 53.7        | ohc         | 209         | 182         | 16          | 22          | 41315       |\n",
       "| bmw         |  0          | ?           | gas         | sedan       | rwd         | front       | 70.9        | 56.3        | ohc         | 209         | 182         | 15          | 20          | 36880       |\n",
       "| chevrolet   |  2          | 121         | gas         | hatchback   | fwd         | front       | 60.3        | 53.2        | l           |  61         | 48          | 47          | 53          |  5151       |\n",
       "| chevrolet   |  1          | 98          | gas         | hatchback   | fwd         | front       | 63.6        | 52.0        | ohc         |  90         | 70          | 38          | 43          |  6295       |\n",
       "| chevrolet   |  0          | 81          | gas         | sedan       | fwd         | front       | 63.6        | 52.0        | ohc         |  90         | 70          | 38          | 43          |  6575       |\n",
       "| dodge       |  1          | 118         | gas         | hatchback   | fwd         | front       | 63.8        | 50.8        | ohc         |  90         | 68          | 37          | 41          |  5572       |\n",
       "| dodge       |  1          | 118         | gas         | hatchback   | fwd         | front       | 63.8        | 50.8        | ohc         |  90         | 68          | 31          | 38          |  6377       |\n",
       "| dodge       |  1          | 118         | gas         | hatchback   | fwd         | front       | 63.8        | 50.8        | ohc         |  98         | 102         | 24          | 30          |  7957       |\n",
       "| dodge       |  1          | 148         | gas         | hatchback   | fwd         | front       | 63.8        | 50.6        | ohc         |  90         | 68          | 31          | 38          |  6229       |\n",
       "| dodge       |  1          | 148         | gas         | sedan       | fwd         | front       | 63.8        | 50.6        | ohc         |  90         | 68          | 31          | 38          |  6692       |\n",
       "| dodge       |  1          | 148         | gas         | sedan       | fwd         | front       | 63.8        | 50.6        | ohc         |  90         | 68          | 31          | 38          |  7609       |\n",
       "| dodge       |  1          | 148         | gas         | sedan       | fwd         | front       | 63.8        | 50.6        | ohc         |  98         | 102         | 24          | 30          |  8558       |\n",
       "| dodge       | -1          | 110         | gas         | wagon       | fwd         | front       | 64.6        | 59.8        | ohc         | 122         | 88          | 24          | 30          |  8921       |\n",
       "| dodge       |  3          | 145         | gas         | hatchback   | fwd         | front       | 66.3        | 50.2        | ohc         | 156         | 145         | 19          | 24          | 12964       |\n",
       "| ... | ... | ... | ... | ... | ... | ... | ... | ... | ... | ... | ... | ... | ... | ... |\n",
       "| toyota      | -1          | 65          | gas         | hatchback   | fwd         | front       | 66.5        | 53.9        | ohc         | 122         | 92          | 27          | 32          |  9988       |\n",
       "| toyota      | -1          | 65          | gas         | sedan       | fwd         | front       | 66.5        | 54.9        | ohc         | 122         | 92          | 27          | 32          | 10898       |\n",
       "| toyota      | -1          | 65          | gas         | hatchback   | fwd         | front       | 66.5        | 53.9        | ohc         | 122         | 92          | 27          | 32          | 11248       |\n",
       "| toyota      |  3          | 197         | gas         | hatchback   | rwd         | front       | 67.7        | 52.0        | dohc        | 171         | 161         | 20          | 24          | 16558       |\n",
       "| toyota      |  3          | 197         | gas         | hatchback   | rwd         | front       | 67.7        | 52.0        | dohc        | 171         | 161         | 19          | 24          | 15998       |\n",
       "| toyota      | -1          | 90          | gas         | sedan       | rwd         | front       | 66.5        | 54.1        | dohc        | 171         | 156         | 20          | 24          | 15690       |\n",
       "| toyota      | -1          | ?           | gas         | wagon       | rwd         | front       | 66.5        | 54.1        | dohc        | 161         | 156         | 19          | 24          | 15750       |\n",
       "| volkswagen  |  2          | 122         | diesel      | sedan       | fwd         | front       | 65.5        | 55.7        | ohc         |  97         | 52          | 37          | 46          |  7775       |\n",
       "| volkswagen  |  2          | 122         | gas         | sedan       | fwd         | front       | 65.5        | 55.7        | ohc         | 109         | 85          | 27          | 34          |  7975       |\n",
       "| volkswagen  |  2          | 94          | diesel      | sedan       | fwd         | front       | 65.5        | 55.7        | ohc         |  97         | 52          | 37          | 46          |  7995       |\n",
       "| volkswagen  |  2          | 94          | gas         | sedan       | fwd         | front       | 65.5        | 55.7        | ohc         | 109         | 85          | 27          | 34          |  8195       |\n",
       "| volkswagen  |  2          | 94          | gas         | sedan       | fwd         | front       | 65.5        | 55.7        | ohc         | 109         | 85          | 27          | 34          |  8495       |\n",
       "| volkswagen  |  2          | 94          | diesel      | sedan       | fwd         | front       | 65.5        | 55.7        | ohc         |  97         | 68          | 37          | 42          |  9495       |\n",
       "| volkswagen  |  2          | 94          | gas         | sedan       | fwd         | front       | 65.5        | 55.7        | ohc         | 109         | 100         | 26          | 32          |  9995       |\n",
       "| volkswagen  |  3          | ?           | gas         | convertible | fwd         | front       | 64.2        | 55.6        | ohc         | 109         | 90          | 24          | 29          | 11595       |\n",
       "| volkswagen  |  3          | 256         | gas         | hatchback   | fwd         | front       | 64.0        | 51.4        | ohc         | 109         | 90          | 24          | 29          |  9980       |\n",
       "| volkswagen  |  0          | ?           | gas         | sedan       | fwd         | front       | 66.9        | 55.1        | ohc         | 136         | 110         | 19          | 24          | 13295       |\n",
       "| volkswagen  |  0          | ?           | diesel      | sedan       | fwd         | front       | 66.9        | 55.1        | ohc         |  97         | 68          | 33          | 38          | 13845       |\n",
       "| volkswagen  |  0          | ?           | gas         | wagon       | fwd         | front       | 66.9        | 55.1        | ohc         | 109         | 88          | 25          | 31          | 12290       |\n",
       "| volvo       | -2          | 103         | gas         | sedan       | rwd         | front       | 67.2        | 56.2        | ohc         | 141         | 114         | 23          | 28          | 12940       |\n",
       "| volvo       | -1          | 74          | gas         | wagon       | rwd         | front       | 67.2        | 57.5        | ohc         | 141         | 114         | 23          | 28          | 13415       |\n",
       "| volvo       | -2          | 103         | gas         | sedan       | rwd         | front       | 67.2        | 56.2        | ohc         | 141         | 114         | 24          | 28          | 15985       |\n",
       "| volvo       | -1          | 74          | gas         | wagon       | rwd         | front       | 67.2        | 57.5        | ohc         | 141         | 114         | 24          | 28          | 16515       |\n",
       "| volvo       | -2          | 103         | gas         | sedan       | rwd         | front       | 67.2        | 56.2        | ohc         | 130         | 162         | 17          | 22          | 18420       |\n",
       "| volvo       | -1          | 74          | gas         | wagon       | rwd         | front       | 67.2        | 57.5        | ohc         | 130         | 162         | 17          | 22          | 18950       |\n",
       "| volvo       | -1          | 95          | gas         | sedan       | rwd         | front       | 68.9        | 55.5        | ohc         | 141         | 114         | 23          | 28          | 16845       |\n",
       "| volvo       | -1          | 95          | gas         | sedan       | rwd         | front       | 68.8        | 55.5        | ohc         | 141         | 160         | 19          | 25          | 19045       |\n",
       "| volvo       | -1          | 95          | gas         | sedan       | rwd         | front       | 68.9        | 55.5        | ohcv        | 173         | 134         | 18          | 23          | 21485       |\n",
       "| volvo       | -1          | 95          | diesel      | sedan       | rwd         | front       | 68.9        | 55.5        | ohc         | 145         | 106         | 26          | 27          | 22470       |\n",
       "| volvo       | -1          | 95          | gas         | sedan       | rwd         | front       | 68.9        | 55.5        | ohc         | 141         | 114         | 19          | 25          | 22625       |\n",
       "\n"
      ],
      "text/plain": [
       "    make        symboling normalized.losses fuel.type body.style  drive.wheels\n",
       "1   alfa-romero  3        ?                 gas       convertible rwd         \n",
       "2   alfa-romero  3        ?                 gas       convertible rwd         \n",
       "3   alfa-romero  1        ?                 gas       hatchback   rwd         \n",
       "4   audi         2        164               gas       sedan       fwd         \n",
       "5   audi         2        164               gas       sedan       4wd         \n",
       "6   audi         2        ?                 gas       sedan       fwd         \n",
       "7   audi         1        158               gas       sedan       fwd         \n",
       "8   audi         1        ?                 gas       wagon       fwd         \n",
       "9   audi         1        158               gas       sedan       fwd         \n",
       "10  audi         0        ?                 gas       hatchback   4wd         \n",
       "11  bmw          2        192               gas       sedan       rwd         \n",
       "12  bmw          0        192               gas       sedan       rwd         \n",
       "13  bmw          0        188               gas       sedan       rwd         \n",
       "14  bmw          0        188               gas       sedan       rwd         \n",
       "15  bmw          1        ?                 gas       sedan       rwd         \n",
       "16  bmw          0        ?                 gas       sedan       rwd         \n",
       "17  bmw          0        ?                 gas       sedan       rwd         \n",
       "18  bmw          0        ?                 gas       sedan       rwd         \n",
       "19  chevrolet    2        121               gas       hatchback   fwd         \n",
       "20  chevrolet    1        98                gas       hatchback   fwd         \n",
       "21  chevrolet    0        81                gas       sedan       fwd         \n",
       "22  dodge        1        118               gas       hatchback   fwd         \n",
       "23  dodge        1        118               gas       hatchback   fwd         \n",
       "24  dodge        1        118               gas       hatchback   fwd         \n",
       "25  dodge        1        148               gas       hatchback   fwd         \n",
       "26  dodge        1        148               gas       sedan       fwd         \n",
       "27  dodge        1        148               gas       sedan       fwd         \n",
       "28  dodge        1        148               gas       sedan       fwd         \n",
       "29  dodge       -1        110               gas       wagon       fwd         \n",
       "30  dodge        3        145               gas       hatchback   fwd         \n",
       "... ...         ...       ...               ...       ...         ...         \n",
       "176 toyota      -1        65                gas       hatchback   fwd         \n",
       "177 toyota      -1        65                gas       sedan       fwd         \n",
       "178 toyota      -1        65                gas       hatchback   fwd         \n",
       "179 toyota       3        197               gas       hatchback   rwd         \n",
       "180 toyota       3        197               gas       hatchback   rwd         \n",
       "181 toyota      -1        90                gas       sedan       rwd         \n",
       "182 toyota      -1        ?                 gas       wagon       rwd         \n",
       "183 volkswagen   2        122               diesel    sedan       fwd         \n",
       "184 volkswagen   2        122               gas       sedan       fwd         \n",
       "185 volkswagen   2        94                diesel    sedan       fwd         \n",
       "186 volkswagen   2        94                gas       sedan       fwd         \n",
       "187 volkswagen   2        94                gas       sedan       fwd         \n",
       "188 volkswagen   2        94                diesel    sedan       fwd         \n",
       "189 volkswagen   2        94                gas       sedan       fwd         \n",
       "190 volkswagen   3        ?                 gas       convertible fwd         \n",
       "191 volkswagen   3        256               gas       hatchback   fwd         \n",
       "192 volkswagen   0        ?                 gas       sedan       fwd         \n",
       "193 volkswagen   0        ?                 diesel    sedan       fwd         \n",
       "194 volkswagen   0        ?                 gas       wagon       fwd         \n",
       "195 volvo       -2        103               gas       sedan       rwd         \n",
       "196 volvo       -1        74                gas       wagon       rwd         \n",
       "197 volvo       -2        103               gas       sedan       rwd         \n",
       "198 volvo       -1        74                gas       wagon       rwd         \n",
       "199 volvo       -2        103               gas       sedan       rwd         \n",
       "200 volvo       -1        74                gas       wagon       rwd         \n",
       "201 volvo       -1        95                gas       sedan       rwd         \n",
       "202 volvo       -1        95                gas       sedan       rwd         \n",
       "203 volvo       -1        95                gas       sedan       rwd         \n",
       "204 volvo       -1        95                diesel    sedan       rwd         \n",
       "205 volvo       -1        95                gas       sedan       rwd         \n",
       "    engine.location width height engine.type engine.size horsepower city.mpg\n",
       "1   front           64.1  48.8   dohc        130         111        21      \n",
       "2   front           64.1  48.8   dohc        130         111        21      \n",
       "3   front           65.5  52.4   ohcv        152         154        19      \n",
       "4   front           66.2  54.3   ohc         109         102        24      \n",
       "5   front           66.4  54.3   ohc         136         115        18      \n",
       "6   front           66.3  53.1   ohc         136         110        19      \n",
       "7   front           71.4  55.7   ohc         136         110        19      \n",
       "8   front           71.4  55.7   ohc         136         110        19      \n",
       "9   front           71.4  55.9   ohc         131         140        17      \n",
       "10  front           67.9  52.0   ohc         131         160        16      \n",
       "11  front           64.8  54.3   ohc         108         101        23      \n",
       "12  front           64.8  54.3   ohc         108         101        23      \n",
       "13  front           64.8  54.3   ohc         164         121        21      \n",
       "14  front           64.8  54.3   ohc         164         121        21      \n",
       "15  front           66.9  55.7   ohc         164         121        20      \n",
       "16  front           66.9  55.7   ohc         209         182        16      \n",
       "17  front           67.9  53.7   ohc         209         182        16      \n",
       "18  front           70.9  56.3   ohc         209         182        15      \n",
       "19  front           60.3  53.2   l            61         48         47      \n",
       "20  front           63.6  52.0   ohc          90         70         38      \n",
       "21  front           63.6  52.0   ohc          90         70         38      \n",
       "22  front           63.8  50.8   ohc          90         68         37      \n",
       "23  front           63.8  50.8   ohc          90         68         31      \n",
       "24  front           63.8  50.8   ohc          98         102        24      \n",
       "25  front           63.8  50.6   ohc          90         68         31      \n",
       "26  front           63.8  50.6   ohc          90         68         31      \n",
       "27  front           63.8  50.6   ohc          90         68         31      \n",
       "28  front           63.8  50.6   ohc          98         102        24      \n",
       "29  front           64.6  59.8   ohc         122         88         24      \n",
       "30  front           66.3  50.2   ohc         156         145        19      \n",
       "... ...             ...   ...    ...         ...         ...        ...     \n",
       "176 front           66.5  53.9   ohc         122         92         27      \n",
       "177 front           66.5  54.9   ohc         122         92         27      \n",
       "178 front           66.5  53.9   ohc         122         92         27      \n",
       "179 front           67.7  52.0   dohc        171         161        20      \n",
       "180 front           67.7  52.0   dohc        171         161        19      \n",
       "181 front           66.5  54.1   dohc        171         156        20      \n",
       "182 front           66.5  54.1   dohc        161         156        19      \n",
       "183 front           65.5  55.7   ohc          97         52         37      \n",
       "184 front           65.5  55.7   ohc         109         85         27      \n",
       "185 front           65.5  55.7   ohc          97         52         37      \n",
       "186 front           65.5  55.7   ohc         109         85         27      \n",
       "187 front           65.5  55.7   ohc         109         85         27      \n",
       "188 front           65.5  55.7   ohc          97         68         37      \n",
       "189 front           65.5  55.7   ohc         109         100        26      \n",
       "190 front           64.2  55.6   ohc         109         90         24      \n",
       "191 front           64.0  51.4   ohc         109         90         24      \n",
       "192 front           66.9  55.1   ohc         136         110        19      \n",
       "193 front           66.9  55.1   ohc          97         68         33      \n",
       "194 front           66.9  55.1   ohc         109         88         25      \n",
       "195 front           67.2  56.2   ohc         141         114        23      \n",
       "196 front           67.2  57.5   ohc         141         114        23      \n",
       "197 front           67.2  56.2   ohc         141         114        24      \n",
       "198 front           67.2  57.5   ohc         141         114        24      \n",
       "199 front           67.2  56.2   ohc         130         162        17      \n",
       "200 front           67.2  57.5   ohc         130         162        17      \n",
       "201 front           68.9  55.5   ohc         141         114        23      \n",
       "202 front           68.8  55.5   ohc         141         160        19      \n",
       "203 front           68.9  55.5   ohcv        173         134        18      \n",
       "204 front           68.9  55.5   ohc         145         106        26      \n",
       "205 front           68.9  55.5   ohc         141         114        19      \n",
       "    highway.mpg price\n",
       "1   27          13495\n",
       "2   27          16500\n",
       "3   26          16500\n",
       "4   30          13950\n",
       "5   22          17450\n",
       "6   25          15250\n",
       "7   25          17710\n",
       "8   25          18920\n",
       "9   20          23875\n",
       "10  22          12000\n",
       "11  29          16430\n",
       "12  29          16925\n",
       "13  28          20970\n",
       "14  28          21105\n",
       "15  25          24565\n",
       "16  22          30760\n",
       "17  22          41315\n",
       "18  20          36880\n",
       "19  53           5151\n",
       "20  43           6295\n",
       "21  43           6575\n",
       "22  41           5572\n",
       "23  38           6377\n",
       "24  30           7957\n",
       "25  38           6229\n",
       "26  38           6692\n",
       "27  38           7609\n",
       "28  30           8558\n",
       "29  30           8921\n",
       "30  24          12964\n",
       "... ...         ...  \n",
       "176 32           9988\n",
       "177 32          10898\n",
       "178 32          11248\n",
       "179 24          16558\n",
       "180 24          15998\n",
       "181 24          15690\n",
       "182 24          15750\n",
       "183 46           7775\n",
       "184 34           7975\n",
       "185 46           7995\n",
       "186 34           8195\n",
       "187 34           8495\n",
       "188 42           9495\n",
       "189 32           9995\n",
       "190 29          11595\n",
       "191 29           9980\n",
       "192 24          13295\n",
       "193 38          13845\n",
       "194 31          12290\n",
       "195 28          12940\n",
       "196 28          13415\n",
       "197 28          15985\n",
       "198 28          16515\n",
       "199 22          18420\n",
       "200 22          18950\n",
       "201 28          16845\n",
       "202 25          19045\n",
       "203 23          21485\n",
       "204 27          22470\n",
       "205 25          22625"
      ]
     },
     "metadata": {},
     "output_type": "display_data"
    }
   ],
   "source": [
    "#make in the front and remaining columns follow that\n",
    "select(car,make,everything())\n",
    "#car %>% select(make,everything())"
   ]
  },
  {
   "cell_type": "code",
   "execution_count": 36,
   "id": "d52179a6",
   "metadata": {},
   "outputs": [
    {
     "data": {
      "text/html": [
       "<table>\n",
       "<thead><tr><th scope=col>symboling</th><th scope=col>make</th><th scope=col>fuel.type</th><th scope=col>body.style</th><th scope=col>normalized.losses</th><th scope=col>drive.wheels</th><th scope=col>engine.location</th><th scope=col>width</th><th scope=col>height</th><th scope=col>engine.type</th><th scope=col>engine.size</th><th scope=col>horsepower</th><th scope=col>city.mpg</th><th scope=col>highway.mpg</th><th scope=col>price</th></tr></thead>\n",
       "<tbody>\n",
       "\t<tr><td>3          </td><td>alfa-romero</td><td>gas        </td><td>convertible</td><td>?          </td><td>rwd        </td><td>front      </td><td>64.1       </td><td>48.8       </td><td>dohc       </td><td>130        </td><td>111        </td><td>21         </td><td>27         </td><td>13495      </td></tr>\n",
       "\t<tr><td>3          </td><td>alfa-romero</td><td>gas        </td><td>convertible</td><td>?          </td><td>rwd        </td><td>front      </td><td>64.1       </td><td>48.8       </td><td>dohc       </td><td>130        </td><td>111        </td><td>21         </td><td>27         </td><td>16500      </td></tr>\n",
       "\t<tr><td>1          </td><td>alfa-romero</td><td>gas        </td><td>hatchback  </td><td>?          </td><td>rwd        </td><td>front      </td><td>65.5       </td><td>52.4       </td><td>ohcv       </td><td>152        </td><td>154        </td><td>19         </td><td>26         </td><td>16500      </td></tr>\n",
       "\t<tr><td>2          </td><td>audi       </td><td>gas        </td><td>sedan      </td><td>164        </td><td>fwd        </td><td>front      </td><td>66.2       </td><td>54.3       </td><td>ohc        </td><td>109        </td><td>102        </td><td>24         </td><td>30         </td><td>13950      </td></tr>\n",
       "\t<tr><td>2          </td><td>audi       </td><td>gas        </td><td>sedan      </td><td>164        </td><td>4wd        </td><td>front      </td><td>66.4       </td><td>54.3       </td><td>ohc        </td><td>136        </td><td>115        </td><td>18         </td><td>22         </td><td>17450      </td></tr>\n",
       "\t<tr><td>2          </td><td>audi       </td><td>gas        </td><td>sedan      </td><td>?          </td><td>fwd        </td><td>front      </td><td>66.3       </td><td>53.1       </td><td>ohc        </td><td>136        </td><td>110        </td><td>19         </td><td>25         </td><td>15250      </td></tr>\n",
       "</tbody>\n",
       "</table>\n"
      ],
      "text/latex": [
       "\\begin{tabular}{r|lllllllllllllll}\n",
       " symboling & make & fuel.type & body.style & normalized.losses & drive.wheels & engine.location & width & height & engine.type & engine.size & horsepower & city.mpg & highway.mpg & price\\\\\n",
       "\\hline\n",
       "\t 3           & alfa-romero & gas         & convertible & ?           & rwd         & front       & 64.1        & 48.8        & dohc        & 130         & 111         & 21          & 27          & 13495      \\\\\n",
       "\t 3           & alfa-romero & gas         & convertible & ?           & rwd         & front       & 64.1        & 48.8        & dohc        & 130         & 111         & 21          & 27          & 16500      \\\\\n",
       "\t 1           & alfa-romero & gas         & hatchback   & ?           & rwd         & front       & 65.5        & 52.4        & ohcv        & 152         & 154         & 19          & 26          & 16500      \\\\\n",
       "\t 2           & audi        & gas         & sedan       & 164         & fwd         & front       & 66.2        & 54.3        & ohc         & 109         & 102         & 24          & 30          & 13950      \\\\\n",
       "\t 2           & audi        & gas         & sedan       & 164         & 4wd         & front       & 66.4        & 54.3        & ohc         & 136         & 115         & 18          & 22          & 17450      \\\\\n",
       "\t 2           & audi        & gas         & sedan       & ?           & fwd         & front       & 66.3        & 53.1        & ohc         & 136         & 110         & 19          & 25          & 15250      \\\\\n",
       "\\end{tabular}\n"
      ],
      "text/markdown": [
       "\n",
       "| symboling | make | fuel.type | body.style | normalized.losses | drive.wheels | engine.location | width | height | engine.type | engine.size | horsepower | city.mpg | highway.mpg | price |\n",
       "|---|---|---|---|---|---|---|---|---|---|---|---|---|---|---|\n",
       "| 3           | alfa-romero | gas         | convertible | ?           | rwd         | front       | 64.1        | 48.8        | dohc        | 130         | 111         | 21          | 27          | 13495       |\n",
       "| 3           | alfa-romero | gas         | convertible | ?           | rwd         | front       | 64.1        | 48.8        | dohc        | 130         | 111         | 21          | 27          | 16500       |\n",
       "| 1           | alfa-romero | gas         | hatchback   | ?           | rwd         | front       | 65.5        | 52.4        | ohcv        | 152         | 154         | 19          | 26          | 16500       |\n",
       "| 2           | audi        | gas         | sedan       | 164         | fwd         | front       | 66.2        | 54.3        | ohc         | 109         | 102         | 24          | 30          | 13950       |\n",
       "| 2           | audi        | gas         | sedan       | 164         | 4wd         | front       | 66.4        | 54.3        | ohc         | 136         | 115         | 18          | 22          | 17450       |\n",
       "| 2           | audi        | gas         | sedan       | ?           | fwd         | front       | 66.3        | 53.1        | ohc         | 136         | 110         | 19          | 25          | 15250       |\n",
       "\n"
      ],
      "text/plain": [
       "  symboling make        fuel.type body.style  normalized.losses drive.wheels\n",
       "1 3         alfa-romero gas       convertible ?                 rwd         \n",
       "2 3         alfa-romero gas       convertible ?                 rwd         \n",
       "3 1         alfa-romero gas       hatchback   ?                 rwd         \n",
       "4 2         audi        gas       sedan       164               fwd         \n",
       "5 2         audi        gas       sedan       164               4wd         \n",
       "6 2         audi        gas       sedan       ?                 fwd         \n",
       "  engine.location width height engine.type engine.size horsepower city.mpg\n",
       "1 front           64.1  48.8   dohc        130         111        21      \n",
       "2 front           64.1  48.8   dohc        130         111        21      \n",
       "3 front           65.5  52.4   ohcv        152         154        19      \n",
       "4 front           66.2  54.3   ohc         109         102        24      \n",
       "5 front           66.4  54.3   ohc         136         115        18      \n",
       "6 front           66.3  53.1   ohc         136         110        19      \n",
       "  highway.mpg price\n",
       "1 27          13495\n",
       "2 27          16500\n",
       "3 26          16500\n",
       "4 30          13950\n",
       "5 22          17450\n",
       "6 25          15250"
      ]
     },
     "metadata": {},
     "output_type": "display_data"
    }
   ],
   "source": [
    "#change column with order with relocate()\n",
    "#use a similar syntax as select() to move blocks of columns once\n",
    "#relocate the positioin of cloumn make to body.style before normalized.losses col\n",
    "car %>% relocate(make:body.style, .before=normalized.losses) %>%head()"
   ]
  },
  {
   "cell_type": "code",
   "execution_count": 37,
   "id": "502408e0",
   "metadata": {},
   "outputs": [
    {
     "data": {
      "text/html": [
       "<table>\n",
       "<thead><tr><th scope=col>make</th><th scope=col>n()</th></tr></thead>\n",
       "<tbody>\n",
       "\t<tr><td>alfa-romero  </td><td> 3           </td></tr>\n",
       "\t<tr><td>audi         </td><td> 7           </td></tr>\n",
       "\t<tr><td>bmw          </td><td> 8           </td></tr>\n",
       "\t<tr><td>chevrolet    </td><td> 3           </td></tr>\n",
       "\t<tr><td>dodge        </td><td> 9           </td></tr>\n",
       "\t<tr><td>honda        </td><td>13           </td></tr>\n",
       "\t<tr><td>isuzu        </td><td> 4           </td></tr>\n",
       "\t<tr><td>jaguar       </td><td> 3           </td></tr>\n",
       "\t<tr><td>mazda        </td><td>17           </td></tr>\n",
       "\t<tr><td>mercedes-benz</td><td> 8           </td></tr>\n",
       "\t<tr><td>mercury      </td><td> 1           </td></tr>\n",
       "\t<tr><td>mitsubishi   </td><td>13           </td></tr>\n",
       "\t<tr><td>nissan       </td><td>18           </td></tr>\n",
       "\t<tr><td>peugot       </td><td>11           </td></tr>\n",
       "\t<tr><td>plymouth     </td><td> 7           </td></tr>\n",
       "\t<tr><td>porsche      </td><td> 5           </td></tr>\n",
       "\t<tr><td>renault      </td><td> 2           </td></tr>\n",
       "\t<tr><td>saab         </td><td> 6           </td></tr>\n",
       "\t<tr><td>subaru       </td><td>12           </td></tr>\n",
       "\t<tr><td>toyota       </td><td>32           </td></tr>\n",
       "\t<tr><td>volkswagen   </td><td>12           </td></tr>\n",
       "\t<tr><td>volvo        </td><td>11           </td></tr>\n",
       "</tbody>\n",
       "</table>\n"
      ],
      "text/latex": [
       "\\begin{tabular}{r|ll}\n",
       " make & n()\\\\\n",
       "\\hline\n",
       "\t alfa-romero   &  3           \\\\\n",
       "\t audi          &  7           \\\\\n",
       "\t bmw           &  8           \\\\\n",
       "\t chevrolet     &  3           \\\\\n",
       "\t dodge         &  9           \\\\\n",
       "\t honda         & 13           \\\\\n",
       "\t isuzu         &  4           \\\\\n",
       "\t jaguar        &  3           \\\\\n",
       "\t mazda         & 17           \\\\\n",
       "\t mercedes-benz &  8           \\\\\n",
       "\t mercury       &  1           \\\\\n",
       "\t mitsubishi    & 13           \\\\\n",
       "\t nissan        & 18           \\\\\n",
       "\t peugot        & 11           \\\\\n",
       "\t plymouth      &  7           \\\\\n",
       "\t porsche       &  5           \\\\\n",
       "\t renault       &  2           \\\\\n",
       "\t saab          &  6           \\\\\n",
       "\t subaru        & 12           \\\\\n",
       "\t toyota        & 32           \\\\\n",
       "\t volkswagen    & 12           \\\\\n",
       "\t volvo         & 11           \\\\\n",
       "\\end{tabular}\n"
      ],
      "text/markdown": [
       "\n",
       "| make | n() |\n",
       "|---|---|\n",
       "| alfa-romero   |  3            |\n",
       "| audi          |  7            |\n",
       "| bmw           |  8            |\n",
       "| chevrolet     |  3            |\n",
       "| dodge         |  9            |\n",
       "| honda         | 13            |\n",
       "| isuzu         |  4            |\n",
       "| jaguar        |  3            |\n",
       "| mazda         | 17            |\n",
       "| mercedes-benz |  8            |\n",
       "| mercury       |  1            |\n",
       "| mitsubishi    | 13            |\n",
       "| nissan        | 18            |\n",
       "| peugot        | 11            |\n",
       "| plymouth      |  7            |\n",
       "| porsche       |  5            |\n",
       "| renault       |  2            |\n",
       "| saab          |  6            |\n",
       "| subaru        | 12            |\n",
       "| toyota        | 32            |\n",
       "| volkswagen    | 12            |\n",
       "| volvo         | 11            |\n",
       "\n"
      ],
      "text/plain": [
       "   make          n()\n",
       "1  alfa-romero    3 \n",
       "2  audi           7 \n",
       "3  bmw            8 \n",
       "4  chevrolet      3 \n",
       "5  dodge          9 \n",
       "6  honda         13 \n",
       "7  isuzu          4 \n",
       "8  jaguar         3 \n",
       "9  mazda         17 \n",
       "10 mercedes-benz  8 \n",
       "11 mercury        1 \n",
       "12 mitsubishi    13 \n",
       "13 nissan        18 \n",
       "14 peugot        11 \n",
       "15 plymouth       7 \n",
       "16 porsche        5 \n",
       "17 renault        2 \n",
       "18 saab           6 \n",
       "19 subaru        12 \n",
       "20 toyota        32 \n",
       "21 volkswagen    12 \n",
       "22 volvo         11 "
      ]
     },
     "metadata": {},
     "output_type": "display_data"
    }
   ],
   "source": [
    "# group_by\n",
    "car %>%\n",
    "    group_by(make) %>%\n",
    "    summarize(n()) # to count the no. of cars according to make(manufacturing of car)"
   ]
  },
  {
   "cell_type": "code",
   "execution_count": 38,
   "id": "bde84769",
   "metadata": {},
   "outputs": [
    {
     "data": {
      "text/html": [
       "<table>\n",
       "<thead><tr><th scope=col>make</th><th scope=col>total_price</th><th scope=col>No.of.cars</th><th scope=col>Average.price</th></tr></thead>\n",
       "<tbody>\n",
       "\t<tr><td>alfa-romero  </td><td> 46495       </td><td> 3           </td><td>15498.333    </td></tr>\n",
       "\t<tr><td>audi         </td><td>119155       </td><td> 7           </td><td>17022.143    </td></tr>\n",
       "\t<tr><td>bmw          </td><td>208950       </td><td> 8           </td><td>26118.750    </td></tr>\n",
       "\t<tr><td>chevrolet    </td><td> 18021       </td><td> 3           </td><td> 6007.000    </td></tr>\n",
       "\t<tr><td>dodge        </td><td> 70879       </td><td> 9           </td><td> 7875.444    </td></tr>\n",
       "\t<tr><td>honda        </td><td>106401       </td><td>13           </td><td> 8184.692    </td></tr>\n",
       "\t<tr><td>isuzu        </td><td> 50833       </td><td> 4           </td><td>12708.250    </td></tr>\n",
       "\t<tr><td>jaguar       </td><td>103800       </td><td> 3           </td><td>34600.000    </td></tr>\n",
       "\t<tr><td>mazda        </td><td>181099       </td><td>17           </td><td>10652.882    </td></tr>\n",
       "\t<tr><td>mercedes-benz</td><td>269176       </td><td> 8           </td><td>33647.000    </td></tr>\n",
       "\t<tr><td>mercury      </td><td> 16503       </td><td> 1           </td><td>16503.000    </td></tr>\n",
       "\t<tr><td>mitsubishi   </td><td>120117       </td><td>13           </td><td> 9239.769    </td></tr>\n",
       "\t<tr><td>nissan       </td><td>187482       </td><td>18           </td><td>10415.667    </td></tr>\n",
       "\t<tr><td>peugot       </td><td>170380       </td><td>11           </td><td>15489.091    </td></tr>\n",
       "\t<tr><td>plymouth     </td><td> 55744       </td><td> 7           </td><td> 7963.429    </td></tr>\n",
       "\t<tr><td>porsche      </td><td>137602       </td><td> 5           </td><td>27520.400    </td></tr>\n",
       "\t<tr><td>renault      </td><td> 19190       </td><td> 2           </td><td> 9595.000    </td></tr>\n",
       "\t<tr><td>saab         </td><td> 91340       </td><td> 6           </td><td>15223.333    </td></tr>\n",
       "\t<tr><td>subaru       </td><td>102495       </td><td>12           </td><td> 8541.250    </td></tr>\n",
       "\t<tr><td>toyota       </td><td>316346       </td><td>32           </td><td> 9885.812    </td></tr>\n",
       "\t<tr><td>volkswagen   </td><td>120930       </td><td>12           </td><td>10077.500    </td></tr>\n",
       "\t<tr><td>volvo        </td><td>198695       </td><td>11           </td><td>18063.182    </td></tr>\n",
       "</tbody>\n",
       "</table>\n"
      ],
      "text/latex": [
       "\\begin{tabular}{r|llll}\n",
       " make & total\\_price & No.of.cars & Average.price\\\\\n",
       "\\hline\n",
       "\t alfa-romero   &  46495        &  3            & 15498.333    \\\\\n",
       "\t audi          & 119155        &  7            & 17022.143    \\\\\n",
       "\t bmw           & 208950        &  8            & 26118.750    \\\\\n",
       "\t chevrolet     &  18021        &  3            &  6007.000    \\\\\n",
       "\t dodge         &  70879        &  9            &  7875.444    \\\\\n",
       "\t honda         & 106401        & 13            &  8184.692    \\\\\n",
       "\t isuzu         &  50833        &  4            & 12708.250    \\\\\n",
       "\t jaguar        & 103800        &  3            & 34600.000    \\\\\n",
       "\t mazda         & 181099        & 17            & 10652.882    \\\\\n",
       "\t mercedes-benz & 269176        &  8            & 33647.000    \\\\\n",
       "\t mercury       &  16503        &  1            & 16503.000    \\\\\n",
       "\t mitsubishi    & 120117        & 13            &  9239.769    \\\\\n",
       "\t nissan        & 187482        & 18            & 10415.667    \\\\\n",
       "\t peugot        & 170380        & 11            & 15489.091    \\\\\n",
       "\t plymouth      &  55744        &  7            &  7963.429    \\\\\n",
       "\t porsche       & 137602        &  5            & 27520.400    \\\\\n",
       "\t renault       &  19190        &  2            &  9595.000    \\\\\n",
       "\t saab          &  91340        &  6            & 15223.333    \\\\\n",
       "\t subaru        & 102495        & 12            &  8541.250    \\\\\n",
       "\t toyota        & 316346        & 32            &  9885.812    \\\\\n",
       "\t volkswagen    & 120930        & 12            & 10077.500    \\\\\n",
       "\t volvo         & 198695        & 11            & 18063.182    \\\\\n",
       "\\end{tabular}\n"
      ],
      "text/markdown": [
       "\n",
       "| make | total_price | No.of.cars | Average.price |\n",
       "|---|---|---|---|\n",
       "| alfa-romero   |  46495        |  3            | 15498.333     |\n",
       "| audi          | 119155        |  7            | 17022.143     |\n",
       "| bmw           | 208950        |  8            | 26118.750     |\n",
       "| chevrolet     |  18021        |  3            |  6007.000     |\n",
       "| dodge         |  70879        |  9            |  7875.444     |\n",
       "| honda         | 106401        | 13            |  8184.692     |\n",
       "| isuzu         |  50833        |  4            | 12708.250     |\n",
       "| jaguar        | 103800        |  3            | 34600.000     |\n",
       "| mazda         | 181099        | 17            | 10652.882     |\n",
       "| mercedes-benz | 269176        |  8            | 33647.000     |\n",
       "| mercury       |  16503        |  1            | 16503.000     |\n",
       "| mitsubishi    | 120117        | 13            |  9239.769     |\n",
       "| nissan        | 187482        | 18            | 10415.667     |\n",
       "| peugot        | 170380        | 11            | 15489.091     |\n",
       "| plymouth      |  55744        |  7            |  7963.429     |\n",
       "| porsche       | 137602        |  5            | 27520.400     |\n",
       "| renault       |  19190        |  2            |  9595.000     |\n",
       "| saab          |  91340        |  6            | 15223.333     |\n",
       "| subaru        | 102495        | 12            |  8541.250     |\n",
       "| toyota        | 316346        | 32            |  9885.812     |\n",
       "| volkswagen    | 120930        | 12            | 10077.500     |\n",
       "| volvo         | 198695        | 11            | 18063.182     |\n",
       "\n"
      ],
      "text/plain": [
       "   make          total_price No.of.cars Average.price\n",
       "1  alfa-romero    46495       3         15498.333    \n",
       "2  audi          119155       7         17022.143    \n",
       "3  bmw           208950       8         26118.750    \n",
       "4  chevrolet      18021       3          6007.000    \n",
       "5  dodge          70879       9          7875.444    \n",
       "6  honda         106401      13          8184.692    \n",
       "7  isuzu          50833       4         12708.250    \n",
       "8  jaguar        103800       3         34600.000    \n",
       "9  mazda         181099      17         10652.882    \n",
       "10 mercedes-benz 269176       8         33647.000    \n",
       "11 mercury        16503       1         16503.000    \n",
       "12 mitsubishi    120117      13          9239.769    \n",
       "13 nissan        187482      18         10415.667    \n",
       "14 peugot        170380      11         15489.091    \n",
       "15 plymouth       55744       7          7963.429    \n",
       "16 porsche       137602       5         27520.400    \n",
       "17 renault        19190       2          9595.000    \n",
       "18 saab           91340       6         15223.333    \n",
       "19 subaru        102495      12          8541.250    \n",
       "20 toyota        316346      32          9885.812    \n",
       "21 volkswagen    120930      12         10077.500    \n",
       "22 volvo         198695      11         18063.182    "
      ]
     },
     "metadata": {},
     "output_type": "display_data"
    }
   ],
   "source": [
    "car %>%\n",
    "    group_by(make) %>%\n",
    "    summarize(total_price=sum(price),No.of.cars=n(),Average.price=mean(price))"
   ]
  },
  {
   "cell_type": "code",
   "execution_count": 39,
   "id": "2630e32e",
   "metadata": {},
   "outputs": [
    {
     "data": {
      "text/html": [
       "<table>\n",
       "<thead><tr><th scope=col>fuel.type</th><th scope=col>total_price</th><th scope=col>No.of.cars</th><th scope=col>Average.price</th></tr></thead>\n",
       "<tbody>\n",
       "\t<tr><td>diesel  </td><td> 316763 </td><td> 20     </td><td>15838.15</td></tr>\n",
       "\t<tr><td>gas     </td><td>2394870 </td><td>185     </td><td>12945.24</td></tr>\n",
       "</tbody>\n",
       "</table>\n"
      ],
      "text/latex": [
       "\\begin{tabular}{r|llll}\n",
       " fuel.type & total\\_price & No.of.cars & Average.price\\\\\n",
       "\\hline\n",
       "\t diesel   &  316763  &  20      & 15838.15\\\\\n",
       "\t gas      & 2394870  & 185      & 12945.24\\\\\n",
       "\\end{tabular}\n"
      ],
      "text/markdown": [
       "\n",
       "| fuel.type | total_price | No.of.cars | Average.price |\n",
       "|---|---|---|---|\n",
       "| diesel   |  316763  |  20      | 15838.15 |\n",
       "| gas      | 2394870  | 185      | 12945.24 |\n",
       "\n"
      ],
      "text/plain": [
       "  fuel.type total_price No.of.cars Average.price\n",
       "1 diesel     316763      20        15838.15     \n",
       "2 gas       2394870     185        12945.24     "
      ]
     },
     "metadata": {},
     "output_type": "display_data"
    }
   ],
   "source": [
    "car %>%\n",
    "    group_by(fuel.type) %>%\n",
    "    summarize(total_price=sum(price),No.of.cars=n(),Average.price=mean(price))"
   ]
  },
  {
   "cell_type": "code",
   "execution_count": 40,
   "id": "864ebe7d",
   "metadata": {},
   "outputs": [
    {
     "data": {
      "text/html": [
       "<table>\n",
       "<thead><tr><th scope=col>symboling</th><th scope=col>normalized.losses</th><th scope=col>make</th><th scope=col>fuel.type</th><th scope=col>body.style</th><th scope=col>drive.wheels</th><th scope=col>engine.location</th><th scope=col>width</th><th scope=col>height</th><th scope=col>engine.type</th><th scope=col>engine.size</th><th scope=col>horsepower</th><th scope=col>city.mpg</th><th scope=col>highway.mpg</th><th scope=col>price</th></tr></thead>\n",
       "<tbody>\n",
       "\t<tr><td>2        </td><td>192      </td><td>bmw      </td><td>gas      </td><td>sedan    </td><td>rwd      </td><td>front    </td><td>64.8     </td><td>54.3     </td><td>ohc      </td><td>108      </td><td>101      </td><td>23       </td><td>29       </td><td>16430    </td></tr>\n",
       "\t<tr><td>0        </td><td>192      </td><td>bmw      </td><td>gas      </td><td>sedan    </td><td>rwd      </td><td>front    </td><td>64.8     </td><td>54.3     </td><td>ohc      </td><td>108      </td><td>101      </td><td>23       </td><td>29       </td><td>16925    </td></tr>\n",
       "\t<tr><td>0        </td><td>188      </td><td>bmw      </td><td>gas      </td><td>sedan    </td><td>rwd      </td><td>front    </td><td>64.8     </td><td>54.3     </td><td>ohc      </td><td>164      </td><td>121      </td><td>21       </td><td>28       </td><td>20970    </td></tr>\n",
       "\t<tr><td>0        </td><td>188      </td><td>bmw      </td><td>gas      </td><td>sedan    </td><td>rwd      </td><td>front    </td><td>64.8     </td><td>54.3     </td><td>ohc      </td><td>164      </td><td>121      </td><td>21       </td><td>28       </td><td>21105    </td></tr>\n",
       "\t<tr><td>1        </td><td>?        </td><td>bmw      </td><td>gas      </td><td>sedan    </td><td>rwd      </td><td>front    </td><td>66.9     </td><td>55.7     </td><td>ohc      </td><td>164      </td><td>121      </td><td>20       </td><td>25       </td><td>24565    </td></tr>\n",
       "\t<tr><td>0        </td><td>?        </td><td>bmw      </td><td>gas      </td><td>sedan    </td><td>rwd      </td><td>front    </td><td>66.9     </td><td>55.7     </td><td>ohc      </td><td>209      </td><td>182      </td><td>16       </td><td>22       </td><td>30760    </td></tr>\n",
       "\t<tr><td>0        </td><td>?        </td><td>bmw      </td><td>gas      </td><td>sedan    </td><td>rwd      </td><td>front    </td><td>67.9     </td><td>53.7     </td><td>ohc      </td><td>209      </td><td>182      </td><td>16       </td><td>22       </td><td>41315    </td></tr>\n",
       "\t<tr><td>0        </td><td>?        </td><td>bmw      </td><td>gas      </td><td>sedan    </td><td>rwd      </td><td>front    </td><td>70.9     </td><td>56.3     </td><td>ohc      </td><td>209      </td><td>182      </td><td>15       </td><td>20       </td><td>36880    </td></tr>\n",
       "\t<tr><td>2        </td><td>137      </td><td>honda    </td><td>gas      </td><td>hatchback</td><td>fwd      </td><td>front    </td><td>63.9     </td><td>50.8     </td><td>ohc      </td><td> 92      </td><td>58       </td><td>49       </td><td>54       </td><td> 6479    </td></tr>\n",
       "\t<tr><td>2        </td><td>137      </td><td>honda    </td><td>gas      </td><td>hatchback</td><td>fwd      </td><td>front    </td><td>63.9     </td><td>50.8     </td><td>ohc      </td><td> 92      </td><td>76       </td><td>31       </td><td>38       </td><td> 6855    </td></tr>\n",
       "\t<tr><td>1        </td><td>101      </td><td>honda    </td><td>gas      </td><td>hatchback</td><td>fwd      </td><td>front    </td><td>64.0     </td><td>52.6     </td><td>ohc      </td><td> 79      </td><td>60       </td><td>38       </td><td>42       </td><td> 5399    </td></tr>\n",
       "\t<tr><td>1        </td><td>101      </td><td>honda    </td><td>gas      </td><td>hatchback</td><td>fwd      </td><td>front    </td><td>64.0     </td><td>52.6     </td><td>ohc      </td><td> 92      </td><td>76       </td><td>30       </td><td>34       </td><td> 6529    </td></tr>\n",
       "\t<tr><td>1        </td><td>101      </td><td>honda    </td><td>gas      </td><td>hatchback</td><td>fwd      </td><td>front    </td><td>64.0     </td><td>52.6     </td><td>ohc      </td><td> 92      </td><td>76       </td><td>30       </td><td>34       </td><td> 7129    </td></tr>\n",
       "\t<tr><td>0        </td><td>110      </td><td>honda    </td><td>gas      </td><td>sedan    </td><td>fwd      </td><td>front    </td><td>64.0     </td><td>54.5     </td><td>ohc      </td><td> 92      </td><td>76       </td><td>30       </td><td>34       </td><td> 7295    </td></tr>\n",
       "\t<tr><td>0        </td><td>78       </td><td>honda    </td><td>gas      </td><td>wagon    </td><td>fwd      </td><td>front    </td><td>63.9     </td><td>58.3     </td><td>ohc      </td><td> 92      </td><td>76       </td><td>30       </td><td>34       </td><td> 7295    </td></tr>\n",
       "\t<tr><td>0        </td><td>106      </td><td>honda    </td><td>gas      </td><td>hatchback</td><td>fwd      </td><td>front    </td><td>65.2     </td><td>53.3     </td><td>ohc      </td><td>110      </td><td>86       </td><td>27       </td><td>33       </td><td> 7895    </td></tr>\n",
       "\t<tr><td>0        </td><td>106      </td><td>honda    </td><td>gas      </td><td>hatchback</td><td>fwd      </td><td>front    </td><td>65.2     </td><td>53.3     </td><td>ohc      </td><td>110      </td><td>86       </td><td>27       </td><td>33       </td><td> 9095    </td></tr>\n",
       "\t<tr><td>0        </td><td>85       </td><td>honda    </td><td>gas      </td><td>sedan    </td><td>fwd      </td><td>front    </td><td>65.2     </td><td>54.1     </td><td>ohc      </td><td>110      </td><td>86       </td><td>27       </td><td>33       </td><td> 8845    </td></tr>\n",
       "\t<tr><td>0        </td><td>85       </td><td>honda    </td><td>gas      </td><td>sedan    </td><td>fwd      </td><td>front    </td><td>62.5     </td><td>54.1     </td><td>ohc      </td><td>110      </td><td>86       </td><td>27       </td><td>33       </td><td>10295    </td></tr>\n",
       "\t<tr><td>0        </td><td>85       </td><td>honda    </td><td>gas      </td><td>sedan    </td><td>fwd      </td><td>front    </td><td>65.2     </td><td>54.1     </td><td>ohc      </td><td>110      </td><td>101      </td><td>24       </td><td>28       </td><td>12945    </td></tr>\n",
       "\t<tr><td>1        </td><td>107      </td><td>honda    </td><td>gas      </td><td>sedan    </td><td>fwd      </td><td>front    </td><td>66.0     </td><td>51.0     </td><td>ohc      </td><td>110      </td><td>100      </td><td>25       </td><td>31       </td><td>10345    </td></tr>\n",
       "\t<tr><td>1        </td><td>104      </td><td>mazda    </td><td>gas      </td><td>hatchback</td><td>fwd      </td><td>front    </td><td>64.2     </td><td>54.1     </td><td>ohc      </td><td> 91      </td><td>68       </td><td>30       </td><td>31       </td><td> 5195    </td></tr>\n",
       "\t<tr><td>1        </td><td>104      </td><td>mazda    </td><td>gas      </td><td>hatchback</td><td>fwd      </td><td>front    </td><td>64.2     </td><td>54.1     </td><td>ohc      </td><td> 91      </td><td>68       </td><td>31       </td><td>38       </td><td> 6095    </td></tr>\n",
       "\t<tr><td>1        </td><td>104      </td><td>mazda    </td><td>gas      </td><td>hatchback</td><td>fwd      </td><td>front    </td><td>64.2     </td><td>54.1     </td><td>ohc      </td><td> 91      </td><td>68       </td><td>31       </td><td>38       </td><td> 6795    </td></tr>\n",
       "\t<tr><td>1        </td><td>113      </td><td>mazda    </td><td>gas      </td><td>sedan    </td><td>fwd      </td><td>front    </td><td>64.2     </td><td>54.1     </td><td>ohc      </td><td> 91      </td><td>68       </td><td>31       </td><td>38       </td><td> 6695    </td></tr>\n",
       "\t<tr><td>1        </td><td>113      </td><td>mazda    </td><td>gas      </td><td>sedan    </td><td>fwd      </td><td>front    </td><td>64.2     </td><td>54.1     </td><td>ohc      </td><td> 91      </td><td>68       </td><td>31       </td><td>38       </td><td> 7395    </td></tr>\n",
       "\t<tr><td>3        </td><td>150      </td><td>mazda    </td><td>gas      </td><td>hatchback</td><td>rwd      </td><td>front    </td><td>65.7     </td><td>49.6     </td><td>rotor    </td><td> 70      </td><td>101      </td><td>17       </td><td>23       </td><td>10945    </td></tr>\n",
       "\t<tr><td>3        </td><td>150      </td><td>mazda    </td><td>gas      </td><td>hatchback</td><td>rwd      </td><td>front    </td><td>65.7     </td><td>49.6     </td><td>rotor    </td><td> 70      </td><td>101      </td><td>17       </td><td>23       </td><td>11845    </td></tr>\n",
       "\t<tr><td>3        </td><td>150      </td><td>mazda    </td><td>gas      </td><td>hatchback</td><td>rwd      </td><td>front    </td><td>65.7     </td><td>49.6     </td><td>rotor    </td><td> 70      </td><td>101      </td><td>17       </td><td>23       </td><td>13645    </td></tr>\n",
       "\t<tr><td>3        </td><td>150      </td><td>mazda    </td><td>gas      </td><td>hatchback</td><td>rwd      </td><td>front    </td><td>65.7     </td><td>49.6     </td><td>rotor    </td><td> 80      </td><td>135      </td><td>16       </td><td>23       </td><td>15645    </td></tr>\n",
       "\t<tr><td>1        </td><td>129      </td><td>mazda    </td><td>gas      </td><td>hatchback</td><td>fwd      </td><td>front    </td><td>66.5     </td><td>53.7     </td><td>ohc      </td><td>122      </td><td>84       </td><td>26       </td><td>32       </td><td> 8845    </td></tr>\n",
       "\t<tr><td>0        </td><td>115      </td><td>mazda    </td><td>gas      </td><td>sedan    </td><td>fwd      </td><td>front    </td><td>66.5     </td><td>55.5     </td><td>ohc      </td><td>122      </td><td>84       </td><td>26       </td><td>32       </td><td> 8495    </td></tr>\n",
       "\t<tr><td>1        </td><td>129      </td><td>mazda    </td><td>gas      </td><td>hatchback</td><td>fwd      </td><td>front    </td><td>66.5     </td><td>53.7     </td><td>ohc      </td><td>122      </td><td>84       </td><td>26       </td><td>32       </td><td>10595    </td></tr>\n",
       "\t<tr><td>0        </td><td>115      </td><td>mazda    </td><td>gas      </td><td>sedan    </td><td>fwd      </td><td>front    </td><td>66.5     </td><td>55.5     </td><td>ohc      </td><td>122      </td><td>84       </td><td>26       </td><td>32       </td><td>10245    </td></tr>\n",
       "\t<tr><td>0        </td><td>?        </td><td>mazda    </td><td>diesel   </td><td>sedan    </td><td>fwd      </td><td>front    </td><td>66.5     </td><td>55.5     </td><td>ohc      </td><td>122      </td><td>64       </td><td>36       </td><td>42       </td><td>10795    </td></tr>\n",
       "\t<tr><td>0        </td><td>115      </td><td>mazda    </td><td>gas      </td><td>hatchback</td><td>fwd      </td><td>front    </td><td>66.5     </td><td>55.5     </td><td>ohc      </td><td>122      </td><td>84       </td><td>26       </td><td>32       </td><td>11245    </td></tr>\n",
       "\t<tr><td>0        </td><td>118      </td><td>mazda    </td><td>gas      </td><td>sedan    </td><td>rwd      </td><td>front    </td><td>66.1     </td><td>54.4     </td><td>ohc      </td><td>140      </td><td>120      </td><td>19       </td><td>27       </td><td>18280    </td></tr>\n",
       "\t<tr><td>0        </td><td>?        </td><td>mazda    </td><td>diesel   </td><td>sedan    </td><td>rwd      </td><td>front    </td><td>66.1     </td><td>54.4     </td><td>ohc      </td><td>134      </td><td>72       </td><td>31       </td><td>39       </td><td>18344    </td></tr>\n",
       "</tbody>\n",
       "</table>\n"
      ],
      "text/latex": [
       "\\begin{tabular}{r|lllllllllllllll}\n",
       " symboling & normalized.losses & make & fuel.type & body.style & drive.wheels & engine.location & width & height & engine.type & engine.size & horsepower & city.mpg & highway.mpg & price\\\\\n",
       "\\hline\n",
       "\t 2         & 192       & bmw       & gas       & sedan     & rwd       & front     & 64.8      & 54.3      & ohc       & 108       & 101       & 23        & 29        & 16430    \\\\\n",
       "\t 0         & 192       & bmw       & gas       & sedan     & rwd       & front     & 64.8      & 54.3      & ohc       & 108       & 101       & 23        & 29        & 16925    \\\\\n",
       "\t 0         & 188       & bmw       & gas       & sedan     & rwd       & front     & 64.8      & 54.3      & ohc       & 164       & 121       & 21        & 28        & 20970    \\\\\n",
       "\t 0         & 188       & bmw       & gas       & sedan     & rwd       & front     & 64.8      & 54.3      & ohc       & 164       & 121       & 21        & 28        & 21105    \\\\\n",
       "\t 1         & ?         & bmw       & gas       & sedan     & rwd       & front     & 66.9      & 55.7      & ohc       & 164       & 121       & 20        & 25        & 24565    \\\\\n",
       "\t 0         & ?         & bmw       & gas       & sedan     & rwd       & front     & 66.9      & 55.7      & ohc       & 209       & 182       & 16        & 22        & 30760    \\\\\n",
       "\t 0         & ?         & bmw       & gas       & sedan     & rwd       & front     & 67.9      & 53.7      & ohc       & 209       & 182       & 16        & 22        & 41315    \\\\\n",
       "\t 0         & ?         & bmw       & gas       & sedan     & rwd       & front     & 70.9      & 56.3      & ohc       & 209       & 182       & 15        & 20        & 36880    \\\\\n",
       "\t 2         & 137       & honda     & gas       & hatchback & fwd       & front     & 63.9      & 50.8      & ohc       &  92       & 58        & 49        & 54        &  6479    \\\\\n",
       "\t 2         & 137       & honda     & gas       & hatchback & fwd       & front     & 63.9      & 50.8      & ohc       &  92       & 76        & 31        & 38        &  6855    \\\\\n",
       "\t 1         & 101       & honda     & gas       & hatchback & fwd       & front     & 64.0      & 52.6      & ohc       &  79       & 60        & 38        & 42        &  5399    \\\\\n",
       "\t 1         & 101       & honda     & gas       & hatchback & fwd       & front     & 64.0      & 52.6      & ohc       &  92       & 76        & 30        & 34        &  6529    \\\\\n",
       "\t 1         & 101       & honda     & gas       & hatchback & fwd       & front     & 64.0      & 52.6      & ohc       &  92       & 76        & 30        & 34        &  7129    \\\\\n",
       "\t 0         & 110       & honda     & gas       & sedan     & fwd       & front     & 64.0      & 54.5      & ohc       &  92       & 76        & 30        & 34        &  7295    \\\\\n",
       "\t 0         & 78        & honda     & gas       & wagon     & fwd       & front     & 63.9      & 58.3      & ohc       &  92       & 76        & 30        & 34        &  7295    \\\\\n",
       "\t 0         & 106       & honda     & gas       & hatchback & fwd       & front     & 65.2      & 53.3      & ohc       & 110       & 86        & 27        & 33        &  7895    \\\\\n",
       "\t 0         & 106       & honda     & gas       & hatchback & fwd       & front     & 65.2      & 53.3      & ohc       & 110       & 86        & 27        & 33        &  9095    \\\\\n",
       "\t 0         & 85        & honda     & gas       & sedan     & fwd       & front     & 65.2      & 54.1      & ohc       & 110       & 86        & 27        & 33        &  8845    \\\\\n",
       "\t 0         & 85        & honda     & gas       & sedan     & fwd       & front     & 62.5      & 54.1      & ohc       & 110       & 86        & 27        & 33        & 10295    \\\\\n",
       "\t 0         & 85        & honda     & gas       & sedan     & fwd       & front     & 65.2      & 54.1      & ohc       & 110       & 101       & 24        & 28        & 12945    \\\\\n",
       "\t 1         & 107       & honda     & gas       & sedan     & fwd       & front     & 66.0      & 51.0      & ohc       & 110       & 100       & 25        & 31        & 10345    \\\\\n",
       "\t 1         & 104       & mazda     & gas       & hatchback & fwd       & front     & 64.2      & 54.1      & ohc       &  91       & 68        & 30        & 31        &  5195    \\\\\n",
       "\t 1         & 104       & mazda     & gas       & hatchback & fwd       & front     & 64.2      & 54.1      & ohc       &  91       & 68        & 31        & 38        &  6095    \\\\\n",
       "\t 1         & 104       & mazda     & gas       & hatchback & fwd       & front     & 64.2      & 54.1      & ohc       &  91       & 68        & 31        & 38        &  6795    \\\\\n",
       "\t 1         & 113       & mazda     & gas       & sedan     & fwd       & front     & 64.2      & 54.1      & ohc       &  91       & 68        & 31        & 38        &  6695    \\\\\n",
       "\t 1         & 113       & mazda     & gas       & sedan     & fwd       & front     & 64.2      & 54.1      & ohc       &  91       & 68        & 31        & 38        &  7395    \\\\\n",
       "\t 3         & 150       & mazda     & gas       & hatchback & rwd       & front     & 65.7      & 49.6      & rotor     &  70       & 101       & 17        & 23        & 10945    \\\\\n",
       "\t 3         & 150       & mazda     & gas       & hatchback & rwd       & front     & 65.7      & 49.6      & rotor     &  70       & 101       & 17        & 23        & 11845    \\\\\n",
       "\t 3         & 150       & mazda     & gas       & hatchback & rwd       & front     & 65.7      & 49.6      & rotor     &  70       & 101       & 17        & 23        & 13645    \\\\\n",
       "\t 3         & 150       & mazda     & gas       & hatchback & rwd       & front     & 65.7      & 49.6      & rotor     &  80       & 135       & 16        & 23        & 15645    \\\\\n",
       "\t 1         & 129       & mazda     & gas       & hatchback & fwd       & front     & 66.5      & 53.7      & ohc       & 122       & 84        & 26        & 32        &  8845    \\\\\n",
       "\t 0         & 115       & mazda     & gas       & sedan     & fwd       & front     & 66.5      & 55.5      & ohc       & 122       & 84        & 26        & 32        &  8495    \\\\\n",
       "\t 1         & 129       & mazda     & gas       & hatchback & fwd       & front     & 66.5      & 53.7      & ohc       & 122       & 84        & 26        & 32        & 10595    \\\\\n",
       "\t 0         & 115       & mazda     & gas       & sedan     & fwd       & front     & 66.5      & 55.5      & ohc       & 122       & 84        & 26        & 32        & 10245    \\\\\n",
       "\t 0         & ?         & mazda     & diesel    & sedan     & fwd       & front     & 66.5      & 55.5      & ohc       & 122       & 64        & 36        & 42        & 10795    \\\\\n",
       "\t 0         & 115       & mazda     & gas       & hatchback & fwd       & front     & 66.5      & 55.5      & ohc       & 122       & 84        & 26        & 32        & 11245    \\\\\n",
       "\t 0         & 118       & mazda     & gas       & sedan     & rwd       & front     & 66.1      & 54.4      & ohc       & 140       & 120       & 19        & 27        & 18280    \\\\\n",
       "\t 0         & ?         & mazda     & diesel    & sedan     & rwd       & front     & 66.1      & 54.4      & ohc       & 134       & 72        & 31        & 39        & 18344    \\\\\n",
       "\\end{tabular}\n"
      ],
      "text/markdown": [
       "\n",
       "| symboling | normalized.losses | make | fuel.type | body.style | drive.wheels | engine.location | width | height | engine.type | engine.size | horsepower | city.mpg | highway.mpg | price |\n",
       "|---|---|---|---|---|---|---|---|---|---|---|---|---|---|---|\n",
       "| 2         | 192       | bmw       | gas       | sedan     | rwd       | front     | 64.8      | 54.3      | ohc       | 108       | 101       | 23        | 29        | 16430     |\n",
       "| 0         | 192       | bmw       | gas       | sedan     | rwd       | front     | 64.8      | 54.3      | ohc       | 108       | 101       | 23        | 29        | 16925     |\n",
       "| 0         | 188       | bmw       | gas       | sedan     | rwd       | front     | 64.8      | 54.3      | ohc       | 164       | 121       | 21        | 28        | 20970     |\n",
       "| 0         | 188       | bmw       | gas       | sedan     | rwd       | front     | 64.8      | 54.3      | ohc       | 164       | 121       | 21        | 28        | 21105     |\n",
       "| 1         | ?         | bmw       | gas       | sedan     | rwd       | front     | 66.9      | 55.7      | ohc       | 164       | 121       | 20        | 25        | 24565     |\n",
       "| 0         | ?         | bmw       | gas       | sedan     | rwd       | front     | 66.9      | 55.7      | ohc       | 209       | 182       | 16        | 22        | 30760     |\n",
       "| 0         | ?         | bmw       | gas       | sedan     | rwd       | front     | 67.9      | 53.7      | ohc       | 209       | 182       | 16        | 22        | 41315     |\n",
       "| 0         | ?         | bmw       | gas       | sedan     | rwd       | front     | 70.9      | 56.3      | ohc       | 209       | 182       | 15        | 20        | 36880     |\n",
       "| 2         | 137       | honda     | gas       | hatchback | fwd       | front     | 63.9      | 50.8      | ohc       |  92       | 58        | 49        | 54        |  6479     |\n",
       "| 2         | 137       | honda     | gas       | hatchback | fwd       | front     | 63.9      | 50.8      | ohc       |  92       | 76        | 31        | 38        |  6855     |\n",
       "| 1         | 101       | honda     | gas       | hatchback | fwd       | front     | 64.0      | 52.6      | ohc       |  79       | 60        | 38        | 42        |  5399     |\n",
       "| 1         | 101       | honda     | gas       | hatchback | fwd       | front     | 64.0      | 52.6      | ohc       |  92       | 76        | 30        | 34        |  6529     |\n",
       "| 1         | 101       | honda     | gas       | hatchback | fwd       | front     | 64.0      | 52.6      | ohc       |  92       | 76        | 30        | 34        |  7129     |\n",
       "| 0         | 110       | honda     | gas       | sedan     | fwd       | front     | 64.0      | 54.5      | ohc       |  92       | 76        | 30        | 34        |  7295     |\n",
       "| 0         | 78        | honda     | gas       | wagon     | fwd       | front     | 63.9      | 58.3      | ohc       |  92       | 76        | 30        | 34        |  7295     |\n",
       "| 0         | 106       | honda     | gas       | hatchback | fwd       | front     | 65.2      | 53.3      | ohc       | 110       | 86        | 27        | 33        |  7895     |\n",
       "| 0         | 106       | honda     | gas       | hatchback | fwd       | front     | 65.2      | 53.3      | ohc       | 110       | 86        | 27        | 33        |  9095     |\n",
       "| 0         | 85        | honda     | gas       | sedan     | fwd       | front     | 65.2      | 54.1      | ohc       | 110       | 86        | 27        | 33        |  8845     |\n",
       "| 0         | 85        | honda     | gas       | sedan     | fwd       | front     | 62.5      | 54.1      | ohc       | 110       | 86        | 27        | 33        | 10295     |\n",
       "| 0         | 85        | honda     | gas       | sedan     | fwd       | front     | 65.2      | 54.1      | ohc       | 110       | 101       | 24        | 28        | 12945     |\n",
       "| 1         | 107       | honda     | gas       | sedan     | fwd       | front     | 66.0      | 51.0      | ohc       | 110       | 100       | 25        | 31        | 10345     |\n",
       "| 1         | 104       | mazda     | gas       | hatchback | fwd       | front     | 64.2      | 54.1      | ohc       |  91       | 68        | 30        | 31        |  5195     |\n",
       "| 1         | 104       | mazda     | gas       | hatchback | fwd       | front     | 64.2      | 54.1      | ohc       |  91       | 68        | 31        | 38        |  6095     |\n",
       "| 1         | 104       | mazda     | gas       | hatchback | fwd       | front     | 64.2      | 54.1      | ohc       |  91       | 68        | 31        | 38        |  6795     |\n",
       "| 1         | 113       | mazda     | gas       | sedan     | fwd       | front     | 64.2      | 54.1      | ohc       |  91       | 68        | 31        | 38        |  6695     |\n",
       "| 1         | 113       | mazda     | gas       | sedan     | fwd       | front     | 64.2      | 54.1      | ohc       |  91       | 68        | 31        | 38        |  7395     |\n",
       "| 3         | 150       | mazda     | gas       | hatchback | rwd       | front     | 65.7      | 49.6      | rotor     |  70       | 101       | 17        | 23        | 10945     |\n",
       "| 3         | 150       | mazda     | gas       | hatchback | rwd       | front     | 65.7      | 49.6      | rotor     |  70       | 101       | 17        | 23        | 11845     |\n",
       "| 3         | 150       | mazda     | gas       | hatchback | rwd       | front     | 65.7      | 49.6      | rotor     |  70       | 101       | 17        | 23        | 13645     |\n",
       "| 3         | 150       | mazda     | gas       | hatchback | rwd       | front     | 65.7      | 49.6      | rotor     |  80       | 135       | 16        | 23        | 15645     |\n",
       "| 1         | 129       | mazda     | gas       | hatchback | fwd       | front     | 66.5      | 53.7      | ohc       | 122       | 84        | 26        | 32        |  8845     |\n",
       "| 0         | 115       | mazda     | gas       | sedan     | fwd       | front     | 66.5      | 55.5      | ohc       | 122       | 84        | 26        | 32        |  8495     |\n",
       "| 1         | 129       | mazda     | gas       | hatchback | fwd       | front     | 66.5      | 53.7      | ohc       | 122       | 84        | 26        | 32        | 10595     |\n",
       "| 0         | 115       | mazda     | gas       | sedan     | fwd       | front     | 66.5      | 55.5      | ohc       | 122       | 84        | 26        | 32        | 10245     |\n",
       "| 0         | ?         | mazda     | diesel    | sedan     | fwd       | front     | 66.5      | 55.5      | ohc       | 122       | 64        | 36        | 42        | 10795     |\n",
       "| 0         | 115       | mazda     | gas       | hatchback | fwd       | front     | 66.5      | 55.5      | ohc       | 122       | 84        | 26        | 32        | 11245     |\n",
       "| 0         | 118       | mazda     | gas       | sedan     | rwd       | front     | 66.1      | 54.4      | ohc       | 140       | 120       | 19        | 27        | 18280     |\n",
       "| 0         | ?         | mazda     | diesel    | sedan     | rwd       | front     | 66.1      | 54.4      | ohc       | 134       | 72        | 31        | 39        | 18344     |\n",
       "\n"
      ],
      "text/plain": [
       "   symboling normalized.losses make  fuel.type body.style drive.wheels\n",
       "1  2         192               bmw   gas       sedan      rwd         \n",
       "2  0         192               bmw   gas       sedan      rwd         \n",
       "3  0         188               bmw   gas       sedan      rwd         \n",
       "4  0         188               bmw   gas       sedan      rwd         \n",
       "5  1         ?                 bmw   gas       sedan      rwd         \n",
       "6  0         ?                 bmw   gas       sedan      rwd         \n",
       "7  0         ?                 bmw   gas       sedan      rwd         \n",
       "8  0         ?                 bmw   gas       sedan      rwd         \n",
       "9  2         137               honda gas       hatchback  fwd         \n",
       "10 2         137               honda gas       hatchback  fwd         \n",
       "11 1         101               honda gas       hatchback  fwd         \n",
       "12 1         101               honda gas       hatchback  fwd         \n",
       "13 1         101               honda gas       hatchback  fwd         \n",
       "14 0         110               honda gas       sedan      fwd         \n",
       "15 0         78                honda gas       wagon      fwd         \n",
       "16 0         106               honda gas       hatchback  fwd         \n",
       "17 0         106               honda gas       hatchback  fwd         \n",
       "18 0         85                honda gas       sedan      fwd         \n",
       "19 0         85                honda gas       sedan      fwd         \n",
       "20 0         85                honda gas       sedan      fwd         \n",
       "21 1         107               honda gas       sedan      fwd         \n",
       "22 1         104               mazda gas       hatchback  fwd         \n",
       "23 1         104               mazda gas       hatchback  fwd         \n",
       "24 1         104               mazda gas       hatchback  fwd         \n",
       "25 1         113               mazda gas       sedan      fwd         \n",
       "26 1         113               mazda gas       sedan      fwd         \n",
       "27 3         150               mazda gas       hatchback  rwd         \n",
       "28 3         150               mazda gas       hatchback  rwd         \n",
       "29 3         150               mazda gas       hatchback  rwd         \n",
       "30 3         150               mazda gas       hatchback  rwd         \n",
       "31 1         129               mazda gas       hatchback  fwd         \n",
       "32 0         115               mazda gas       sedan      fwd         \n",
       "33 1         129               mazda gas       hatchback  fwd         \n",
       "34 0         115               mazda gas       sedan      fwd         \n",
       "35 0         ?                 mazda diesel    sedan      fwd         \n",
       "36 0         115               mazda gas       hatchback  fwd         \n",
       "37 0         118               mazda gas       sedan      rwd         \n",
       "38 0         ?                 mazda diesel    sedan      rwd         \n",
       "   engine.location width height engine.type engine.size horsepower city.mpg\n",
       "1  front           64.8  54.3   ohc         108         101        23      \n",
       "2  front           64.8  54.3   ohc         108         101        23      \n",
       "3  front           64.8  54.3   ohc         164         121        21      \n",
       "4  front           64.8  54.3   ohc         164         121        21      \n",
       "5  front           66.9  55.7   ohc         164         121        20      \n",
       "6  front           66.9  55.7   ohc         209         182        16      \n",
       "7  front           67.9  53.7   ohc         209         182        16      \n",
       "8  front           70.9  56.3   ohc         209         182        15      \n",
       "9  front           63.9  50.8   ohc          92         58         49      \n",
       "10 front           63.9  50.8   ohc          92         76         31      \n",
       "11 front           64.0  52.6   ohc          79         60         38      \n",
       "12 front           64.0  52.6   ohc          92         76         30      \n",
       "13 front           64.0  52.6   ohc          92         76         30      \n",
       "14 front           64.0  54.5   ohc          92         76         30      \n",
       "15 front           63.9  58.3   ohc          92         76         30      \n",
       "16 front           65.2  53.3   ohc         110         86         27      \n",
       "17 front           65.2  53.3   ohc         110         86         27      \n",
       "18 front           65.2  54.1   ohc         110         86         27      \n",
       "19 front           62.5  54.1   ohc         110         86         27      \n",
       "20 front           65.2  54.1   ohc         110         101        24      \n",
       "21 front           66.0  51.0   ohc         110         100        25      \n",
       "22 front           64.2  54.1   ohc          91         68         30      \n",
       "23 front           64.2  54.1   ohc          91         68         31      \n",
       "24 front           64.2  54.1   ohc          91         68         31      \n",
       "25 front           64.2  54.1   ohc          91         68         31      \n",
       "26 front           64.2  54.1   ohc          91         68         31      \n",
       "27 front           65.7  49.6   rotor        70         101        17      \n",
       "28 front           65.7  49.6   rotor        70         101        17      \n",
       "29 front           65.7  49.6   rotor        70         101        17      \n",
       "30 front           65.7  49.6   rotor        80         135        16      \n",
       "31 front           66.5  53.7   ohc         122         84         26      \n",
       "32 front           66.5  55.5   ohc         122         84         26      \n",
       "33 front           66.5  53.7   ohc         122         84         26      \n",
       "34 front           66.5  55.5   ohc         122         84         26      \n",
       "35 front           66.5  55.5   ohc         122         64         36      \n",
       "36 front           66.5  55.5   ohc         122         84         26      \n",
       "37 front           66.1  54.4   ohc         140         120        19      \n",
       "38 front           66.1  54.4   ohc         134         72         31      \n",
       "   highway.mpg price\n",
       "1  29          16430\n",
       "2  29          16925\n",
       "3  28          20970\n",
       "4  28          21105\n",
       "5  25          24565\n",
       "6  22          30760\n",
       "7  22          41315\n",
       "8  20          36880\n",
       "9  54           6479\n",
       "10 38           6855\n",
       "11 42           5399\n",
       "12 34           6529\n",
       "13 34           7129\n",
       "14 34           7295\n",
       "15 34           7295\n",
       "16 33           7895\n",
       "17 33           9095\n",
       "18 33           8845\n",
       "19 33          10295\n",
       "20 28          12945\n",
       "21 31          10345\n",
       "22 31           5195\n",
       "23 38           6095\n",
       "24 38           6795\n",
       "25 38           6695\n",
       "26 38           7395\n",
       "27 23          10945\n",
       "28 23          11845\n",
       "29 23          13645\n",
       "30 23          15645\n",
       "31 32           8845\n",
       "32 32           8495\n",
       "33 32          10595\n",
       "34 32          10245\n",
       "35 42          10795\n",
       "36 32          11245\n",
       "37 27          18280\n",
       "38 39          18344"
      ]
     },
     "metadata": {},
     "output_type": "display_data"
    }
   ],
   "source": [
    "#To accces those record whose make='bmw' or make='mazda'\n",
    "#car %>% filter(make=='bmw' | make=='mazda' | make=='honda')\n",
    "# or \n",
    "car %>% filter(make %in% c('bmw','mazda','honda'))"
   ]
  },
  {
   "cell_type": "code",
   "execution_count": 41,
   "id": "fc49c16d",
   "metadata": {},
   "outputs": [],
   "source": [
    "#next libarray tidry : this is inbuilt library of R . following inbuilt \n",
    "# method are defined in this Library\n",
    "# gather()\n",
    "# spread()\n",
    "# separate()\n",
    "# unite()"
   ]
  },
  {
   "cell_type": "code",
   "execution_count": 42,
   "id": "a89cc7c5",
   "metadata": {},
   "outputs": [
    {
     "name": "stderr",
     "output_type": "stream",
     "text": [
      "Warning message:\n",
      "\"unable to access index for repository https://cran.r-project.org/src/contrib:\n",
      "  cannot open URL 'https://cran.r-project.org/src/contrib/PACKAGES'\"Warning message:\n",
      "\"package 'tidyr' is not available (for R version 3.6.1)\"Warning message:\n",
      "\"unable to access index for repository https://cran.r-project.org/bin/windows/contrib/3.6:\n",
      "  cannot open URL 'https://cran.r-project.org/bin/windows/contrib/3.6/PACKAGES'\""
     ]
    }
   ],
   "source": [
    "# first innstall tidry library on system\n",
    "install.packages('tidyr')"
   ]
  },
  {
   "cell_type": "code",
   "execution_count": 43,
   "id": "42803ba0",
   "metadata": {},
   "outputs": [
    {
     "name": "stderr",
     "output_type": "stream",
     "text": [
      "Warning message:\n",
      "\"package 'tidyr' was built under R version 3.6.3\""
     ]
    }
   ],
   "source": [
    "library(tidyr) #call library"
   ]
  },
  {
   "cell_type": "code",
   "execution_count": 44,
   "id": "b0bd2ec8",
   "metadata": {},
   "outputs": [],
   "source": [
    "#tidyr\n",
    "df=data.frame(country=c('India','China','USA'),\n",
    "              Q1_2021=c(0.03,0.05,0.01),\n",
    "              Q2_2021=c(0.04,0.09,0.03),\n",
    "              Q3_2021=c(0.08,0.01,0.02),\n",
    "              Q4_2021=c(0.04,0.05,0.07))"
   ]
  },
  {
   "cell_type": "code",
   "execution_count": 45,
   "id": "38719742",
   "metadata": {},
   "outputs": [
    {
     "name": "stdout",
     "output_type": "stream",
     "text": [
      "  country Q1_2021 Q2_2021 Q3_2021 Q4_2021\n",
      "1   India    0.03    0.04    0.08    0.04\n",
      "2   China    0.05    0.09    0.01    0.05\n",
      "3     USA    0.01    0.03    0.02    0.07\n"
     ]
    }
   ],
   "source": [
    "print(df)"
   ]
  },
  {
   "cell_type": "code",
   "execution_count": 46,
   "id": "d4f4fb23",
   "metadata": {},
   "outputs": [
    {
     "name": "stdout",
     "output_type": "stream",
     "text": [
      "   country Quarter Growth\n",
      "1    India Q1_2021   0.03\n",
      "2    China Q1_2021   0.05\n",
      "3      USA Q1_2021   0.01\n",
      "4    India Q2_2021   0.04\n",
      "5    China Q2_2021   0.09\n",
      "6      USA Q2_2021   0.03\n",
      "7    India Q3_2021   0.08\n",
      "8    China Q3_2021   0.01\n",
      "9      USA Q3_2021   0.02\n",
      "10   India Q4_2021   0.04\n",
      "11   China Q4_2021   0.05\n",
      "12     USA Q4_2021   0.07\n"
     ]
    }
   ],
   "source": [
    "#reshape the dataset means use gather() : its transfrom \n",
    "#data from wide to long\n",
    "new_df=df%>%gather(Quarter,Growth,Q1_2021:Q4_2021)\n",
    "print(new_df)"
   ]
  },
  {
   "cell_type": "code",
   "execution_count": 47,
   "id": "2deca14c",
   "metadata": {},
   "outputs": [
    {
     "name": "stdout",
     "output_type": "stream",
     "text": [
      "  country Q1_2021 Q2_2021 Q3_2021 Q4_2021\n",
      "1   China    0.05    0.09    0.01    0.05\n",
      "2   India    0.03    0.04    0.08    0.04\n",
      "3     USA    0.01    0.03    0.02    0.07\n"
     ]
    }
   ],
   "source": [
    "#data from long to wide\n",
    "# with the help of spread()\n",
    "df1=new_df%>%spread(Quarter,Growth)\n",
    "print(df1)"
   ]
  },
  {
   "cell_type": "code",
   "execution_count": 48,
   "id": "051e044f",
   "metadata": {},
   "outputs": [
    {
     "name": "stdout",
     "output_type": "stream",
     "text": [
      "   country Qrt Year Growth\n",
      "1    India  Q1 2021   0.03\n",
      "2    China  Q1 2021   0.05\n",
      "3      USA  Q1 2021   0.01\n",
      "4    India  Q2 2021   0.04\n",
      "5    China  Q2 2021   0.09\n",
      "6      USA  Q2 2021   0.03\n",
      "7    India  Q3 2021   0.08\n",
      "8    China  Q3 2021   0.01\n",
      "9      USA  Q3 2021   0.02\n",
      "10   India  Q4 2021   0.04\n",
      "11   China  Q4 2021   0.05\n",
      "12     USA  Q4 2021   0.07\n"
     ]
    }
   ],
   "source": [
    "#use separate()\n",
    "#print(new_df) after gather()\n",
    "#apply separate() on new_df data(long format)\n",
    "df2=new_df%>%separate(Quarter,c('Qrt','Year'),sep='_')\n",
    "print(df2)"
   ]
  },
  {
   "cell_type": "code",
   "execution_count": 49,
   "id": "7d059379",
   "metadata": {},
   "outputs": [
    {
     "name": "stdout",
     "output_type": "stream",
     "text": [
      "   country Quarter Growth\n",
      "1    India Q1_2021   0.03\n",
      "2    China Q1_2021   0.05\n",
      "3      USA Q1_2021   0.01\n",
      "4    India Q2_2021   0.04\n",
      "5    China Q2_2021   0.09\n",
      "6      USA Q2_2021   0.03\n",
      "7    India Q3_2021   0.08\n",
      "8    China Q3_2021   0.01\n",
      "9      USA Q3_2021   0.02\n",
      "10   India Q4_2021   0.04\n",
      "11   China Q4_2021   0.05\n",
      "12     USA Q4_2021   0.07\n"
     ]
    }
   ],
   "source": [
    "#use unite() :just opposite to separate\n",
    "df3=df2%>%unite(Quarter,Qrt,Year,sep='_')\n",
    "print(df3)"
   ]
  },
  {
   "cell_type": "code",
   "execution_count": 50,
   "id": "f201f51f",
   "metadata": {},
   "outputs": [
    {
     "name": "stderr",
     "output_type": "stream",
     "text": [
      "Warning message:\n",
      "\"unable to access index for repository https://cran.r-project.org/src/contrib:\n",
      "  cannot open URL 'https://cran.r-project.org/src/contrib/PACKAGES'\"Warning message:\n",
      "\"package 'xlsx' is not available (for R version 3.6.1)\"Warning message:\n",
      "\"unable to access index for repository https://cran.r-project.org/bin/windows/contrib/3.6:\n",
      "  cannot open URL 'https://cran.r-project.org/bin/windows/contrib/3.6/PACKAGES'\""
     ]
    }
   ],
   "source": [
    "# Data extract from excel file (.xlsx : extension of excel ) with the help of \n",
    "# R programming\n",
    "install.packages('xlsx')"
   ]
  },
  {
   "cell_type": "code",
   "execution_count": 51,
   "id": "99fe1788",
   "metadata": {},
   "outputs": [
    {
     "name": "stderr",
     "output_type": "stream",
     "text": [
      "Warning message:\n",
      "\"unable to access index for repository https://cran.r-project.org/src/contrib:\n",
      "  cannot open URL 'https://cran.r-project.org/src/contrib/PACKAGES'\"Warning message:\n",
      "\"package 'readxl' is not available (for R version 3.6.1)\"Warning message:\n",
      "\"unable to access index for repository https://cran.r-project.org/bin/windows/contrib/3.6:\n",
      "  cannot open URL 'https://cran.r-project.org/bin/windows/contrib/3.6/PACKAGES'\""
     ]
    }
   ],
   "source": [
    "install.packages('readxl')"
   ]
  },
  {
   "cell_type": "code",
   "execution_count": 52,
   "id": "fe570eaf",
   "metadata": {},
   "outputs": [
    {
     "name": "stderr",
     "output_type": "stream",
     "text": [
      "Warning message:\n",
      "\"package 'readxl' was built under R version 3.6.3\""
     ]
    }
   ],
   "source": [
    "#call library\n",
    "library(readxl)"
   ]
  },
  {
   "cell_type": "code",
   "execution_count": 53,
   "id": "727905a9",
   "metadata": {},
   "outputs": [
    {
     "data": {
      "text/html": [
       "<table>\n",
       "<thead><tr><th scope=col>id</th><th scope=col>name</th><th scope=col>age</th><th scope=col>salary</th><th scope=col>city</th></tr></thead>\n",
       "<tbody>\n",
       "\t<tr><td>101   </td><td>seema </td><td>23    </td><td>45000 </td><td>bhopal</td></tr>\n",
       "\t<tr><td>102   </td><td>asha  </td><td>21    </td><td>89000 </td><td>indore</td></tr>\n",
       "\t<tr><td>103   </td><td>tina  </td><td>29    </td><td>21000 </td><td>mumbai</td></tr>\n",
       "\t<tr><td>104   </td><td>reeta </td><td>21    </td><td>31000 </td><td>bhopal</td></tr>\n",
       "\t<tr><td>105   </td><td>deepa </td><td>24    </td><td>24000 </td><td>indore</td></tr>\n",
       "</tbody>\n",
       "</table>\n"
      ],
      "text/latex": [
       "\\begin{tabular}{r|lllll}\n",
       " id & name & age & salary & city\\\\\n",
       "\\hline\n",
       "\t 101    & seema  & 23     & 45000  & bhopal\\\\\n",
       "\t 102    & asha   & 21     & 89000  & indore\\\\\n",
       "\t 103    & tina   & 29     & 21000  & mumbai\\\\\n",
       "\t 104    & reeta  & 21     & 31000  & bhopal\\\\\n",
       "\t 105    & deepa  & 24     & 24000  & indore\\\\\n",
       "\\end{tabular}\n"
      ],
      "text/markdown": [
       "\n",
       "| id | name | age | salary | city |\n",
       "|---|---|---|---|---|\n",
       "| 101    | seema  | 23     | 45000  | bhopal |\n",
       "| 102    | asha   | 21     | 89000  | indore |\n",
       "| 103    | tina   | 29     | 21000  | mumbai |\n",
       "| 104    | reeta  | 21     | 31000  | bhopal |\n",
       "| 105    | deepa  | 24     | 24000  | indore |\n",
       "\n"
      ],
      "text/plain": [
       "  id  name  age salary city  \n",
       "1 101 seema 23  45000  bhopal\n",
       "2 102 asha  21  89000  indore\n",
       "3 103 tina  29  21000  mumbai\n",
       "4 104 reeta 21  31000  bhopal\n",
       "5 105 deepa 24  24000  indore"
      ]
     },
     "metadata": {},
     "output_type": "display_data"
    }
   ],
   "source": [
    "# to read excel file \n",
    "#df=read_excel('Excel file name.xlsx')\n",
    "ex=read_excel('student.xlsx',sheet='Sheet1')\n",
    "ex"
   ]
  },
  {
   "cell_type": "code",
   "execution_count": 54,
   "id": "1d768ff8",
   "metadata": {},
   "outputs": [
    {
     "data": {
      "text/html": [
       "<ol class=list-inline>\n",
       "\t<li>'Sheet1'</li>\n",
       "\t<li>'Sheet2'</li>\n",
       "</ol>\n"
      ],
      "text/latex": [
       "\\begin{enumerate*}\n",
       "\\item 'Sheet1'\n",
       "\\item 'Sheet2'\n",
       "\\end{enumerate*}\n"
      ],
      "text/markdown": [
       "1. 'Sheet1'\n",
       "2. 'Sheet2'\n",
       "\n",
       "\n"
      ],
      "text/plain": [
       "[1] \"Sheet1\" \"Sheet2\""
      ]
     },
     "metadata": {},
     "output_type": "display_data"
    }
   ],
   "source": [
    "# In one excel file there no.of sheets \n",
    "# to show name of all sheets in given excel file\n",
    "excel_sheets('student.xlsx')"
   ]
  },
  {
   "cell_type": "code",
   "execution_count": 55,
   "id": "02cd2432",
   "metadata": {},
   "outputs": [
    {
     "data": {
      "text/html": [
       "<table>\n",
       "<thead><tr><th scope=col>id</th><th scope=col>marks</th></tr></thead>\n",
       "<tbody>\n",
       "\t<tr><td>101</td><td>77 </td></tr>\n",
       "\t<tr><td>102</td><td>90 </td></tr>\n",
       "\t<tr><td>103</td><td>76 </td></tr>\n",
       "\t<tr><td>104</td><td>65 </td></tr>\n",
       "\t<tr><td>105</td><td>63 </td></tr>\n",
       "</tbody>\n",
       "</table>\n"
      ],
      "text/latex": [
       "\\begin{tabular}{r|ll}\n",
       " id & marks\\\\\n",
       "\\hline\n",
       "\t 101 & 77 \\\\\n",
       "\t 102 & 90 \\\\\n",
       "\t 103 & 76 \\\\\n",
       "\t 104 & 65 \\\\\n",
       "\t 105 & 63 \\\\\n",
       "\\end{tabular}\n"
      ],
      "text/markdown": [
       "\n",
       "| id | marks |\n",
       "|---|---|\n",
       "| 101 | 77  |\n",
       "| 102 | 90  |\n",
       "| 103 | 76  |\n",
       "| 104 | 65  |\n",
       "| 105 | 63  |\n",
       "\n"
      ],
      "text/plain": [
       "  id  marks\n",
       "1 101 77   \n",
       "2 102 90   \n",
       "3 103 76   \n",
       "4 104 65   \n",
       "5 105 63   "
      ]
     },
     "metadata": {},
     "output_type": "display_data"
    }
   ],
   "source": [
    "df=read_excel('student.xlsx',sheet='Sheet2')\n",
    "df"
   ]
  },
  {
   "cell_type": "code",
   "execution_count": 56,
   "id": "ad59f8ad",
   "metadata": {},
   "outputs": [],
   "source": [
    "# Visualisation in R programming \n",
    "# In python : use library : matplotlib.pyplot and seaborn\n",
    "# In R : use inbuilt Library :ggplot : grammer of graphic\n",
    "#version of ggplot2 (free of cost) because it is open source library\n",
    "#install.packages('ggplot2')\n",
    "#call library ggplot2\n",
    "library(ggplot2)"
   ]
  },
  {
   "cell_type": "code",
   "execution_count": 57,
   "id": "3e58cbb6",
   "metadata": {},
   "outputs": [],
   "source": [
    "#types of graph available in ggplot2\n",
    "# 1.scatter plot\n",
    "# 2.histogram :it is also called frequency graph\n",
    "# 3.barplot"
   ]
  },
  {
   "cell_type": "code",
   "execution_count": 58,
   "id": "21d133d8",
   "metadata": {},
   "outputs": [
    {
     "data": {
      "text/html": [
       "<table>\n",
       "<thead><tr><th scope=col>Area</th><th scope=col>Price</th></tr></thead>\n",
       "<tbody>\n",
       "\t<tr><td>2600  </td><td>550000</td></tr>\n",
       "\t<tr><td>3000  </td><td>565000</td></tr>\n",
       "\t<tr><td>3200  </td><td>610000</td></tr>\n",
       "\t<tr><td>3600  </td><td>680000</td></tr>\n",
       "\t<tr><td>4000  </td><td>725000</td></tr>\n",
       "</tbody>\n",
       "</table>\n"
      ],
      "text/latex": [
       "\\begin{tabular}{r|ll}\n",
       " Area & Price\\\\\n",
       "\\hline\n",
       "\t 2600   & 550000\\\\\n",
       "\t 3000   & 565000\\\\\n",
       "\t 3200   & 610000\\\\\n",
       "\t 3600   & 680000\\\\\n",
       "\t 4000   & 725000\\\\\n",
       "\\end{tabular}\n"
      ],
      "text/markdown": [
       "\n",
       "| Area | Price |\n",
       "|---|---|\n",
       "| 2600   | 550000 |\n",
       "| 3000   | 565000 |\n",
       "| 3200   | 610000 |\n",
       "| 3600   | 680000 |\n",
       "| 4000   | 725000 |\n",
       "\n"
      ],
      "text/plain": [
       "  Area Price \n",
       "1 2600 550000\n",
       "2 3000 565000\n",
       "3 3200 610000\n",
       "4 3600 680000\n",
       "5 4000 725000"
      ]
     },
     "metadata": {},
     "output_type": "display_data"
    }
   ],
   "source": [
    "#scatter plot : to check the realtion between input and output\n",
    "# input means independent variable means denoted by x\n",
    "# output means dependent variable means denoted y\n",
    "\n",
    "#first load dataset\n",
    "df=read.csv(\"homeprices.csv\")\n",
    "df"
   ]
  },
  {
   "cell_type": "code",
   "execution_count": 59,
   "id": "b5e479da",
   "metadata": {},
   "outputs": [
    {
     "data": {
      "image/png": "[encoded data removed]",
      "text/plain": [
       "plot without title"
      ]
     },
     "metadata": {},
     "output_type": "display_data"
    }
   ],
   "source": [
    "# in ggplot2 : it is provides 3 layers\n",
    "#1. Data layer : In the data layer we define the source of the information\n",
    "#to be visualize , let's use the homeprices dataset in the ggplot2 package\n",
    "ggplot(data=df)"
   ]
  },
  {
   "cell_type": "code",
   "execution_count": 60,
   "id": "0f43fd66",
   "metadata": {},
   "outputs": [
    {
     "data": {
      "image/png": "[encoded data removed]",
      "text/plain": [
       "plot without title"
      ]
     },
     "metadata": {},
     "output_type": "display_data"
    }
   ],
   "source": [
    "#2. Aesthetic Layer : provide input and output data on x-axis and y-axis\n",
    "ggplot(data=df,aes(x=Area,y=Price))"
   ]
  },
  {
   "cell_type": "code",
   "execution_count": 61,
   "id": "e5e271b4",
   "metadata": {},
   "outputs": [
    {
     "data": {
      "image/png": "[encoded data removed]",
      "text/plain": [
       "plot without title"
      ]
     },
     "metadata": {},
     "output_type": "display_data"
    }
   ],
   "source": [
    "#3. Geometric Layer : this layer control the essential elements, see how our data being disployed using point\n",
    "#(geom_point means scatter),line(geom_line),\n",
    "#histogram,bar,boxplotm etc.\n",
    "ggplot(data=df,aes(x=Area,y=Price))+geom_point(color=\"orange\")+\n",
    "labs(title=\"AREA VS PRICE\",subtitle=\"ROOM\")"
   ]
  },
  {
   "cell_type": "code",
   "execution_count": 62,
   "id": "714613b4",
   "metadata": {},
   "outputs": [
    {
     "data": {
      "image/png": "[encoded data removed]",
      "text/plain": [
       "plot without title"
      ]
     },
     "metadata": {},
     "output_type": "display_data"
    }
   ],
   "source": [
    "#line graph\n",
    "ggplot(data=df,aes(x=Area,y=Price))+geom_line(color=\"orange\")+\n",
    "labs(title=\"AREA VS PRICE\",subtitle=\"ROOM\")"
   ]
  },
  {
   "cell_type": "code",
   "execution_count": 63,
   "id": "e7f8b0e4",
   "metadata": {},
   "outputs": [
    {
     "data": {
      "text/html": [
       "<table>\n",
       "<thead><tr><th scope=col>Age</th></tr></thead>\n",
       "<tbody>\n",
       "\t<tr><td> 4</td></tr>\n",
       "\t<tr><td> 5</td></tr>\n",
       "\t<tr><td> 6</td></tr>\n",
       "\t<tr><td> 6</td></tr>\n",
       "\t<tr><td> 6</td></tr>\n",
       "\t<tr><td> 7</td></tr>\n",
       "\t<tr><td> 7</td></tr>\n",
       "\t<tr><td> 7</td></tr>\n",
       "\t<tr><td> 7</td></tr>\n",
       "\t<tr><td> 7</td></tr>\n",
       "\t<tr><td> 7</td></tr>\n",
       "\t<tr><td> 8</td></tr>\n",
       "\t<tr><td> 8</td></tr>\n",
       "\t<tr><td> 8</td></tr>\n",
       "\t<tr><td> 9</td></tr>\n",
       "\t<tr><td>10</td></tr>\n",
       "</tbody>\n",
       "</table>\n"
      ],
      "text/latex": [
       "\\begin{tabular}{r|l}\n",
       " Age\\\\\n",
       "\\hline\n",
       "\t  4\\\\\n",
       "\t  5\\\\\n",
       "\t  6\\\\\n",
       "\t  6\\\\\n",
       "\t  6\\\\\n",
       "\t  7\\\\\n",
       "\t  7\\\\\n",
       "\t  7\\\\\n",
       "\t  7\\\\\n",
       "\t  7\\\\\n",
       "\t  7\\\\\n",
       "\t  8\\\\\n",
       "\t  8\\\\\n",
       "\t  8\\\\\n",
       "\t  9\\\\\n",
       "\t 10\\\\\n",
       "\\end{tabular}\n"
      ],
      "text/markdown": [
       "\n",
       "| Age |\n",
       "|---|\n",
       "|  4 |\n",
       "|  5 |\n",
       "|  6 |\n",
       "|  6 |\n",
       "|  6 |\n",
       "|  7 |\n",
       "|  7 |\n",
       "|  7 |\n",
       "|  7 |\n",
       "|  7 |\n",
       "|  7 |\n",
       "|  8 |\n",
       "|  8 |\n",
       "|  8 |\n",
       "|  9 |\n",
       "| 10 |\n",
       "\n"
      ],
      "text/plain": [
       "   Age\n",
       "1   4 \n",
       "2   5 \n",
       "3   6 \n",
       "4   6 \n",
       "5   6 \n",
       "6   7 \n",
       "7   7 \n",
       "8   7 \n",
       "9   7 \n",
       "10  7 \n",
       "11  7 \n",
       "12  8 \n",
       "13  8 \n",
       "14  8 \n",
       "15  9 \n",
       "16 10 "
      ]
     },
     "metadata": {},
     "output_type": "display_data"
    }
   ],
   "source": [
    "# Histogram : it is also known as frequency . it is used to visualise contineous numerical value\n",
    "Age=c(4,5,6,6,6,7,7,7,7,7,7,8,8,8,9,10)\n",
    "#convert these vector into dataframe\n",
    "df=data.frame(Age)\n",
    "df"
   ]
  },
  {
   "cell_type": "code",
   "execution_count": 64,
   "id": "42ab25c8",
   "metadata": {},
   "outputs": [
    {
     "name": "stderr",
     "output_type": "stream",
     "text": [
      "`stat_bin()` using `bins = 30`. Pick better value with `binwidth`.\n"
     ]
    },
    {
     "data": {
      "image/png": "[encoded data removed]",
      "text/plain": [
       "plot without title"
      ]
     },
     "metadata": {},
     "output_type": "display_data"
    }
   ],
   "source": [
    "ggplot(data=df,aes(x=Age))+geom_histogram()"
   ]
  },
  {
   "cell_type": "code",
   "execution_count": 65,
   "id": "14617d7d",
   "metadata": {},
   "outputs": [
    {
     "data": {
      "image/png": "[encoded data removed]",
      "text/plain": [
       "Plot with title \"Histogram of Age\""
      ]
     },
     "metadata": {},
     "output_type": "display_data"
    }
   ],
   "source": [
    "# without use ggplot() , create histogram \n",
    "hist(Age,col=\"lightblue\",border=\"red\",xlab=\"Vlaue of Age\",ylab='Frequency')"
   ]
  },
  {
   "cell_type": "code",
   "execution_count": 66,
   "id": "01c6d2d8",
   "metadata": {},
   "outputs": [
    {
     "data": {
      "text/html": [
       "<table>\n",
       "<thead><tr><th scope=col>PassengerId</th><th scope=col>Survived</th><th scope=col>Pclass</th><th scope=col>Name</th><th scope=col>Sex</th><th scope=col>Age</th><th scope=col>SibSp</th><th scope=col>Parch</th><th scope=col>Ticket</th><th scope=col>Fare</th><th scope=col>Cabin</th><th scope=col>Embarked</th></tr></thead>\n",
       "<tbody>\n",
       "\t<tr><td>1                                                  </td><td>0                                                  </td><td>3                                                  </td><td>Braund, Mr. Owen Harris                            </td><td>male                                               </td><td>22                                                 </td><td>1                                                  </td><td>0                                                  </td><td>A/5 21171                                          </td><td> 7.2500                                            </td><td>                                                   </td><td>S                                                  </td></tr>\n",
       "\t<tr><td>2                                                  </td><td>1                                                  </td><td>1                                                  </td><td>Cumings, Mrs. John Bradley (Florence Briggs Thayer)</td><td>female                                             </td><td>38                                                 </td><td>1                                                  </td><td>0                                                  </td><td>PC 17599                                           </td><td>71.2833                                            </td><td>C85                                                </td><td>C                                                  </td></tr>\n",
       "\t<tr><td>3                                                  </td><td>1                                                  </td><td>3                                                  </td><td>Heikkinen, Miss. Laina                             </td><td>female                                             </td><td>26                                                 </td><td>0                                                  </td><td>0                                                  </td><td>STON/O2. 3101282                                   </td><td> 7.9250                                            </td><td>                                                   </td><td>S                                                  </td></tr>\n",
       "\t<tr><td>4                                                  </td><td>1                                                  </td><td>1                                                  </td><td>Futrelle, Mrs. Jacques Heath (Lily May Peel)       </td><td>female                                             </td><td>35                                                 </td><td>1                                                  </td><td>0                                                  </td><td>113803                                             </td><td>53.1000                                            </td><td>C123                                               </td><td>S                                                  </td></tr>\n",
       "\t<tr><td>5                                                  </td><td>0                                                  </td><td>3                                                  </td><td>Allen, Mr. William Henry                           </td><td>male                                               </td><td>35                                                 </td><td>0                                                  </td><td>0                                                  </td><td>373450                                             </td><td> 8.0500                                            </td><td>                                                   </td><td>S                                                  </td></tr>\n",
       "\t<tr><td>6                                                  </td><td>0                                                  </td><td>3                                                  </td><td>Moran, Mr. James                                   </td><td>male                                               </td><td>NA                                                 </td><td>0                                                  </td><td>0                                                  </td><td>330877                                             </td><td> 8.4583                                            </td><td>                                                   </td><td>Q                                                  </td></tr>\n",
       "</tbody>\n",
       "</table>\n"
      ],
      "text/latex": [
       "\\begin{tabular}{r|llllllllllll}\n",
       " PassengerId & Survived & Pclass & Name & Sex & Age & SibSp & Parch & Ticket & Fare & Cabin & Embarked\\\\\n",
       "\\hline\n",
       "\t 1                                                   & 0                                                   & 3                                                   & Braund, Mr. Owen Harris                             & male                                                & 22                                                  & 1                                                   & 0                                                   & A/5 21171                                           &  7.2500                                             &                                                     & S                                                  \\\\\n",
       "\t 2                                                   & 1                                                   & 1                                                   & Cumings, Mrs. John Bradley (Florence Briggs Thayer) & female                                              & 38                                                  & 1                                                   & 0                                                   & PC 17599                                            & 71.2833                                             & C85                                                 & C                                                  \\\\\n",
       "\t 3                                                   & 1                                                   & 3                                                   & Heikkinen, Miss. Laina                              & female                                              & 26                                                  & 0                                                   & 0                                                   & STON/O2. 3101282                                    &  7.9250                                             &                                                     & S                                                  \\\\\n",
       "\t 4                                                   & 1                                                   & 1                                                   & Futrelle, Mrs. Jacques Heath (Lily May Peel)        & female                                              & 35                                                  & 1                                                   & 0                                                   & 113803                                              & 53.1000                                             & C123                                                & S                                                  \\\\\n",
       "\t 5                                                   & 0                                                   & 3                                                   & Allen, Mr. William Henry                            & male                                                & 35                                                  & 0                                                   & 0                                                   & 373450                                              &  8.0500                                             &                                                     & S                                                  \\\\\n",
       "\t 6                                                   & 0                                                   & 3                                                   & Moran, Mr. James                                    & male                                                & NA                                                  & 0                                                   & 0                                                   & 330877                                              &  8.4583                                             &                                                     & Q                                                  \\\\\n",
       "\\end{tabular}\n"
      ],
      "text/markdown": [
       "\n",
       "| PassengerId | Survived | Pclass | Name | Sex | Age | SibSp | Parch | Ticket | Fare | Cabin | Embarked |\n",
       "|---|---|---|---|---|---|---|---|---|---|---|---|\n",
       "| 1                                                   | 0                                                   | 3                                                   | Braund, Mr. Owen Harris                             | male                                                | 22                                                  | 1                                                   | 0                                                   | A/5 21171                                           |  7.2500                                             |                                                     | S                                                   |\n",
       "| 2                                                   | 1                                                   | 1                                                   | Cumings, Mrs. John Bradley (Florence Briggs Thayer) | female                                              | 38                                                  | 1                                                   | 0                                                   | PC 17599                                            | 71.2833                                             | C85                                                 | C                                                   |\n",
       "| 3                                                   | 1                                                   | 3                                                   | Heikkinen, Miss. Laina                              | female                                              | 26                                                  | 0                                                   | 0                                                   | STON/O2. 3101282                                    |  7.9250                                             |                                                     | S                                                   |\n",
       "| 4                                                   | 1                                                   | 1                                                   | Futrelle, Mrs. Jacques Heath (Lily May Peel)        | female                                              | 35                                                  | 1                                                   | 0                                                   | 113803                                              | 53.1000                                             | C123                                                | S                                                   |\n",
       "| 5                                                   | 0                                                   | 3                                                   | Allen, Mr. William Henry                            | male                                                | 35                                                  | 0                                                   | 0                                                   | 373450                                              |  8.0500                                             |                                                     | S                                                   |\n",
       "| 6                                                   | 0                                                   | 3                                                   | Moran, Mr. James                                    | male                                                | NA                                                  | 0                                                   | 0                                                   | 330877                                              |  8.4583                                             |                                                     | Q                                                   |\n",
       "\n"
      ],
      "text/plain": [
       "  PassengerId Survived Pclass\n",
       "1 1           0        3     \n",
       "2 2           1        1     \n",
       "3 3           1        3     \n",
       "4 4           1        1     \n",
       "5 5           0        3     \n",
       "6 6           0        3     \n",
       "  Name                                                Sex    Age SibSp Parch\n",
       "1 Braund, Mr. Owen Harris                             male   22  1     0    \n",
       "2 Cumings, Mrs. John Bradley (Florence Briggs Thayer) female 38  1     0    \n",
       "3 Heikkinen, Miss. Laina                              female 26  0     0    \n",
       "4 Futrelle, Mrs. Jacques Heath (Lily May Peel)        female 35  1     0    \n",
       "5 Allen, Mr. William Henry                            male   35  0     0    \n",
       "6 Moran, Mr. James                                    male   NA  0     0    \n",
       "  Ticket           Fare    Cabin Embarked\n",
       "1 A/5 21171         7.2500       S       \n",
       "2 PC 17599         71.2833 C85   C       \n",
       "3 STON/O2. 3101282  7.9250       S       \n",
       "4 113803           53.1000 C123  S       \n",
       "5 373450            8.0500       S       \n",
       "6 330877            8.4583       Q       "
      ]
     },
     "metadata": {},
     "output_type": "display_data"
    }
   ],
   "source": [
    "# To load dataset titanic.csv\n",
    "df=read.csv('titanic.csv')\n",
    "head(df)"
   ]
  },
  {
   "cell_type": "code",
   "execution_count": 67,
   "id": "abe7045f",
   "metadata": {},
   "outputs": [
    {
     "data": {
      "text/html": [
       "177"
      ],
      "text/latex": [
       "177"
      ],
      "text/markdown": [
       "177"
      ],
      "text/plain": [
       "[1] 177"
      ]
     },
     "metadata": {},
     "output_type": "display_data"
    }
   ],
   "source": [
    "#check null values in dataset\n",
    "#in python df.isnull().sum()\n",
    "# in R :-\n",
    "sum(is.na(df))"
   ]
  },
  {
   "cell_type": "code",
   "execution_count": 68,
   "id": "05f2dcbb",
   "metadata": {},
   "outputs": [
    {
     "data": {
      "text/html": [
       "177"
      ],
      "text/latex": [
       "177"
      ],
      "text/markdown": [
       "177"
      ],
      "text/plain": [
       "[1] 177"
      ]
     },
     "metadata": {},
     "output_type": "display_data"
    }
   ],
   "source": [
    "sum(is.na(df['Age']))"
   ]
  },
  {
   "cell_type": "code",
   "execution_count": 69,
   "id": "aaafda91",
   "metadata": {},
   "outputs": [
    {
     "data": {
      "text/html": [
       "<ol class=list-inline>\n",
       "\t<li>6</li>\n",
       "\t<li>18</li>\n",
       "\t<li>20</li>\n",
       "\t<li>27</li>\n",
       "\t<li>29</li>\n",
       "\t<li>30</li>\n",
       "\t<li>32</li>\n",
       "\t<li>33</li>\n",
       "\t<li>37</li>\n",
       "\t<li>43</li>\n",
       "\t<li>46</li>\n",
       "\t<li>47</li>\n",
       "\t<li>48</li>\n",
       "\t<li>49</li>\n",
       "\t<li>56</li>\n",
       "\t<li>65</li>\n",
       "\t<li>66</li>\n",
       "\t<li>77</li>\n",
       "\t<li>78</li>\n",
       "\t<li>83</li>\n",
       "\t<li>88</li>\n",
       "\t<li>96</li>\n",
       "\t<li>102</li>\n",
       "\t<li>108</li>\n",
       "\t<li>110</li>\n",
       "\t<li>122</li>\n",
       "\t<li>127</li>\n",
       "\t<li>129</li>\n",
       "\t<li>141</li>\n",
       "\t<li>155</li>\n",
       "\t<li>159</li>\n",
       "\t<li>160</li>\n",
       "\t<li>167</li>\n",
       "\t<li>169</li>\n",
       "\t<li>177</li>\n",
       "\t<li>181</li>\n",
       "\t<li>182</li>\n",
       "\t<li>186</li>\n",
       "\t<li>187</li>\n",
       "\t<li>197</li>\n",
       "\t<li>199</li>\n",
       "\t<li>202</li>\n",
       "\t<li>215</li>\n",
       "\t<li>224</li>\n",
       "\t<li>230</li>\n",
       "\t<li>236</li>\n",
       "\t<li>241</li>\n",
       "\t<li>242</li>\n",
       "\t<li>251</li>\n",
       "\t<li>257</li>\n",
       "\t<li>261</li>\n",
       "\t<li>265</li>\n",
       "\t<li>271</li>\n",
       "\t<li>275</li>\n",
       "\t<li>278</li>\n",
       "\t<li>285</li>\n",
       "\t<li>296</li>\n",
       "\t<li>299</li>\n",
       "\t<li>301</li>\n",
       "\t<li>302</li>\n",
       "\t<li>304</li>\n",
       "\t<li>305</li>\n",
       "\t<li>307</li>\n",
       "\t<li>325</li>\n",
       "\t<li>331</li>\n",
       "\t<li>335</li>\n",
       "\t<li>336</li>\n",
       "\t<li>348</li>\n",
       "\t<li>352</li>\n",
       "\t<li>355</li>\n",
       "\t<li>359</li>\n",
       "\t<li>360</li>\n",
       "\t<li>365</li>\n",
       "\t<li>368</li>\n",
       "\t<li>369</li>\n",
       "\t<li>376</li>\n",
       "\t<li>385</li>\n",
       "\t<li>389</li>\n",
       "\t<li>410</li>\n",
       "\t<li>411</li>\n",
       "\t<li>412</li>\n",
       "\t<li>414</li>\n",
       "\t<li>416</li>\n",
       "\t<li>421</li>\n",
       "\t<li>426</li>\n",
       "\t<li>429</li>\n",
       "\t<li>432</li>\n",
       "\t<li>445</li>\n",
       "\t<li>452</li>\n",
       "\t<li>455</li>\n",
       "\t<li>458</li>\n",
       "\t<li>460</li>\n",
       "\t<li>465</li>\n",
       "\t<li>467</li>\n",
       "\t<li>469</li>\n",
       "\t<li>471</li>\n",
       "\t<li>476</li>\n",
       "\t<li>482</li>\n",
       "\t<li>486</li>\n",
       "\t<li>491</li>\n",
       "\t<li>496</li>\n",
       "\t<li>498</li>\n",
       "\t<li>503</li>\n",
       "\t<li>508</li>\n",
       "\t<li>512</li>\n",
       "\t<li>518</li>\n",
       "\t<li>523</li>\n",
       "\t<li>525</li>\n",
       "\t<li>528</li>\n",
       "\t<li>532</li>\n",
       "\t<li>534</li>\n",
       "\t<li>539</li>\n",
       "\t<li>548</li>\n",
       "\t<li>553</li>\n",
       "\t<li>558</li>\n",
       "\t<li>561</li>\n",
       "\t<li>564</li>\n",
       "\t<li>565</li>\n",
       "\t<li>569</li>\n",
       "\t<li>574</li>\n",
       "\t<li>579</li>\n",
       "\t<li>585</li>\n",
       "\t<li>590</li>\n",
       "\t<li>594</li>\n",
       "\t<li>597</li>\n",
       "\t<li>599</li>\n",
       "\t<li>602</li>\n",
       "\t<li>603</li>\n",
       "\t<li>612</li>\n",
       "\t<li>613</li>\n",
       "\t<li>614</li>\n",
       "\t<li>630</li>\n",
       "\t<li>634</li>\n",
       "\t<li>640</li>\n",
       "\t<li>644</li>\n",
       "\t<li>649</li>\n",
       "\t<li>651</li>\n",
       "\t<li>654</li>\n",
       "\t<li>657</li>\n",
       "\t<li>668</li>\n",
       "\t<li>670</li>\n",
       "\t<li>675</li>\n",
       "\t<li>681</li>\n",
       "\t<li>693</li>\n",
       "\t<li>698</li>\n",
       "\t<li>710</li>\n",
       "\t<li>712</li>\n",
       "\t<li>719</li>\n",
       "\t<li>728</li>\n",
       "\t<li>733</li>\n",
       "\t<li>739</li>\n",
       "\t<li>740</li>\n",
       "\t<li>741</li>\n",
       "\t<li>761</li>\n",
       "\t<li>767</li>\n",
       "\t<li>769</li>\n",
       "\t<li>774</li>\n",
       "\t<li>777</li>\n",
       "\t<li>779</li>\n",
       "\t<li>784</li>\n",
       "\t<li>791</li>\n",
       "\t<li>793</li>\n",
       "\t<li>794</li>\n",
       "\t<li>816</li>\n",
       "\t<li>826</li>\n",
       "\t<li>827</li>\n",
       "\t<li>829</li>\n",
       "\t<li>833</li>\n",
       "\t<li>838</li>\n",
       "\t<li>840</li>\n",
       "\t<li>847</li>\n",
       "\t<li>850</li>\n",
       "\t<li>860</li>\n",
       "\t<li>864</li>\n",
       "\t<li>869</li>\n",
       "\t<li>879</li>\n",
       "\t<li>889</li>\n",
       "</ol>\n"
      ],
      "text/latex": [
       "\\begin{enumerate*}\n",
       "\\item 6\n",
       "\\item 18\n",
       "\\item 20\n",
       "\\item 27\n",
       "\\item 29\n",
       "\\item 30\n",
       "\\item 32\n",
       "\\item 33\n",
       "\\item 37\n",
       "\\item 43\n",
       "\\item 46\n",
       "\\item 47\n",
       "\\item 48\n",
       "\\item 49\n",
       "\\item 56\n",
       "\\item 65\n",
       "\\item 66\n",
       "\\item 77\n",
       "\\item 78\n",
       "\\item 83\n",
       "\\item 88\n",
       "\\item 96\n",
       "\\item 102\n",
       "\\item 108\n",
       "\\item 110\n",
       "\\item 122\n",
       "\\item 127\n",
       "\\item 129\n",
       "\\item 141\n",
       "\\item 155\n",
       "\\item 159\n",
       "\\item 160\n",
       "\\item 167\n",
       "\\item 169\n",
       "\\item 177\n",
       "\\item 181\n",
       "\\item 182\n",
       "\\item 186\n",
       "\\item 187\n",
       "\\item 197\n",
       "\\item 199\n",
       "\\item 202\n",
       "\\item 215\n",
       "\\item 224\n",
       "\\item 230\n",
       "\\item 236\n",
       "\\item 241\n",
       "\\item 242\n",
       "\\item 251\n",
       "\\item 257\n",
       "\\item 261\n",
       "\\item 265\n",
       "\\item 271\n",
       "\\item 275\n",
       "\\item 278\n",
       "\\item 285\n",
       "\\item 296\n",
       "\\item 299\n",
       "\\item 301\n",
       "\\item 302\n",
       "\\item 304\n",
       "\\item 305\n",
       "\\item 307\n",
       "\\item 325\n",
       "\\item 331\n",
       "\\item 335\n",
       "\\item 336\n",
       "\\item 348\n",
       "\\item 352\n",
       "\\item 355\n",
       "\\item 359\n",
       "\\item 360\n",
       "\\item 365\n",
       "\\item 368\n",
       "\\item 369\n",
       "\\item 376\n",
       "\\item 385\n",
       "\\item 389\n",
       "\\item 410\n",
       "\\item 411\n",
       "\\item 412\n",
       "\\item 414\n",
       "\\item 416\n",
       "\\item 421\n",
       "\\item 426\n",
       "\\item 429\n",
       "\\item 432\n",
       "\\item 445\n",
       "\\item 452\n",
       "\\item 455\n",
       "\\item 458\n",
       "\\item 460\n",
       "\\item 465\n",
       "\\item 467\n",
       "\\item 469\n",
       "\\item 471\n",
       "\\item 476\n",
       "\\item 482\n",
       "\\item 486\n",
       "\\item 491\n",
       "\\item 496\n",
       "\\item 498\n",
       "\\item 503\n",
       "\\item 508\n",
       "\\item 512\n",
       "\\item 518\n",
       "\\item 523\n",
       "\\item 525\n",
       "\\item 528\n",
       "\\item 532\n",
       "\\item 534\n",
       "\\item 539\n",
       "\\item 548\n",
       "\\item 553\n",
       "\\item 558\n",
       "\\item 561\n",
       "\\item 564\n",
       "\\item 565\n",
       "\\item 569\n",
       "\\item 574\n",
       "\\item 579\n",
       "\\item 585\n",
       "\\item 590\n",
       "\\item 594\n",
       "\\item 597\n",
       "\\item 599\n",
       "\\item 602\n",
       "\\item 603\n",
       "\\item 612\n",
       "\\item 613\n",
       "\\item 614\n",
       "\\item 630\n",
       "\\item 634\n",
       "\\item 640\n",
       "\\item 644\n",
       "\\item 649\n",
       "\\item 651\n",
       "\\item 654\n",
       "\\item 657\n",
       "\\item 668\n",
       "\\item 670\n",
       "\\item 675\n",
       "\\item 681\n",
       "\\item 693\n",
       "\\item 698\n",
       "\\item 710\n",
       "\\item 712\n",
       "\\item 719\n",
       "\\item 728\n",
       "\\item 733\n",
       "\\item 739\n",
       "\\item 740\n",
       "\\item 741\n",
       "\\item 761\n",
       "\\item 767\n",
       "\\item 769\n",
       "\\item 774\n",
       "\\item 777\n",
       "\\item 779\n",
       "\\item 784\n",
       "\\item 791\n",
       "\\item 793\n",
       "\\item 794\n",
       "\\item 816\n",
       "\\item 826\n",
       "\\item 827\n",
       "\\item 829\n",
       "\\item 833\n",
       "\\item 838\n",
       "\\item 840\n",
       "\\item 847\n",
       "\\item 850\n",
       "\\item 860\n",
       "\\item 864\n",
       "\\item 869\n",
       "\\item 879\n",
       "\\item 889\n",
       "\\end{enumerate*}\n"
      ],
      "text/markdown": [
       "1. 6\n",
       "2. 18\n",
       "3. 20\n",
       "4. 27\n",
       "5. 29\n",
       "6. 30\n",
       "7. 32\n",
       "8. 33\n",
       "9. 37\n",
       "10. 43\n",
       "11. 46\n",
       "12. 47\n",
       "13. 48\n",
       "14. 49\n",
       "15. 56\n",
       "16. 65\n",
       "17. 66\n",
       "18. 77\n",
       "19. 78\n",
       "20. 83\n",
       "21. 88\n",
       "22. 96\n",
       "23. 102\n",
       "24. 108\n",
       "25. 110\n",
       "26. 122\n",
       "27. 127\n",
       "28. 129\n",
       "29. 141\n",
       "30. 155\n",
       "31. 159\n",
       "32. 160\n",
       "33. 167\n",
       "34. 169\n",
       "35. 177\n",
       "36. 181\n",
       "37. 182\n",
       "38. 186\n",
       "39. 187\n",
       "40. 197\n",
       "41. 199\n",
       "42. 202\n",
       "43. 215\n",
       "44. 224\n",
       "45. 230\n",
       "46. 236\n",
       "47. 241\n",
       "48. 242\n",
       "49. 251\n",
       "50. 257\n",
       "51. 261\n",
       "52. 265\n",
       "53. 271\n",
       "54. 275\n",
       "55. 278\n",
       "56. 285\n",
       "57. 296\n",
       "58. 299\n",
       "59. 301\n",
       "60. 302\n",
       "61. 304\n",
       "62. 305\n",
       "63. 307\n",
       "64. 325\n",
       "65. 331\n",
       "66. 335\n",
       "67. 336\n",
       "68. 348\n",
       "69. 352\n",
       "70. 355\n",
       "71. 359\n",
       "72. 360\n",
       "73. 365\n",
       "74. 368\n",
       "75. 369\n",
       "76. 376\n",
       "77. 385\n",
       "78. 389\n",
       "79. 410\n",
       "80. 411\n",
       "81. 412\n",
       "82. 414\n",
       "83. 416\n",
       "84. 421\n",
       "85. 426\n",
       "86. 429\n",
       "87. 432\n",
       "88. 445\n",
       "89. 452\n",
       "90. 455\n",
       "91. 458\n",
       "92. 460\n",
       "93. 465\n",
       "94. 467\n",
       "95. 469\n",
       "96. 471\n",
       "97. 476\n",
       "98. 482\n",
       "99. 486\n",
       "100. 491\n",
       "101. 496\n",
       "102. 498\n",
       "103. 503\n",
       "104. 508\n",
       "105. 512\n",
       "106. 518\n",
       "107. 523\n",
       "108. 525\n",
       "109. 528\n",
       "110. 532\n",
       "111. 534\n",
       "112. 539\n",
       "113. 548\n",
       "114. 553\n",
       "115. 558\n",
       "116. 561\n",
       "117. 564\n",
       "118. 565\n",
       "119. 569\n",
       "120. 574\n",
       "121. 579\n",
       "122. 585\n",
       "123. 590\n",
       "124. 594\n",
       "125. 597\n",
       "126. 599\n",
       "127. 602\n",
       "128. 603\n",
       "129. 612\n",
       "130. 613\n",
       "131. 614\n",
       "132. 630\n",
       "133. 634\n",
       "134. 640\n",
       "135. 644\n",
       "136. 649\n",
       "137. 651\n",
       "138. 654\n",
       "139. 657\n",
       "140. 668\n",
       "141. 670\n",
       "142. 675\n",
       "143. 681\n",
       "144. 693\n",
       "145. 698\n",
       "146. 710\n",
       "147. 712\n",
       "148. 719\n",
       "149. 728\n",
       "150. 733\n",
       "151. 739\n",
       "152. 740\n",
       "153. 741\n",
       "154. 761\n",
       "155. 767\n",
       "156. 769\n",
       "157. 774\n",
       "158. 777\n",
       "159. 779\n",
       "160. 784\n",
       "161. 791\n",
       "162. 793\n",
       "163. 794\n",
       "164. 816\n",
       "165. 826\n",
       "166. 827\n",
       "167. 829\n",
       "168. 833\n",
       "169. 838\n",
       "170. 840\n",
       "171. 847\n",
       "172. 850\n",
       "173. 860\n",
       "174. 864\n",
       "175. 869\n",
       "176. 879\n",
       "177. 889\n",
       "\n",
       "\n"
      ],
      "text/plain": [
       "  [1]   6  18  20  27  29  30  32  33  37  43  46  47  48  49  56  65  66  77\n",
       " [19]  78  83  88  96 102 108 110 122 127 129 141 155 159 160 167 169 177 181\n",
       " [37] 182 186 187 197 199 202 215 224 230 236 241 242 251 257 261 265 271 275\n",
       " [55] 278 285 296 299 301 302 304 305 307 325 331 335 336 348 352 355 359 360\n",
       " [73] 365 368 369 376 385 389 410 411 412 414 416 421 426 429 432 445 452 455\n",
       " [91] 458 460 465 467 469 471 476 482 486 491 496 498 503 508 512 518 523 525\n",
       "[109] 528 532 534 539 548 553 558 561 564 565 569 574 579 585 590 594 597 599\n",
       "[127] 602 603 612 613 614 630 634 640 644 649 651 654 657 668 670 675 681 693\n",
       "[145] 698 710 712 719 728 733 739 740 741 761 767 769 774 777 779 784 791 793\n",
       "[163] 794 816 826 827 829 833 838 840 847 850 860 864 869 879 889"
      ]
     },
     "metadata": {},
     "output_type": "display_data"
    }
   ],
   "source": [
    "which(is.na(df$Age)) #to show record no. whose null Age"
   ]
  },
  {
   "cell_type": "code",
   "execution_count": 70,
   "id": "c4f2e313",
   "metadata": {},
   "outputs": [],
   "source": [
    "#Replace null values of Age column means of Age\n",
    "df$Age[is.na(df$Age)]=mean(df$Age,na.rm=TRUE)"
   ]
  },
  {
   "cell_type": "code",
   "execution_count": 71,
   "id": "83a10197",
   "metadata": {},
   "outputs": [
    {
     "data": {
      "text/html": [
       "0"
      ],
      "text/latex": [
       "0"
      ],
      "text/markdown": [
       "0"
      ],
      "text/plain": [
       "[1] 0"
      ]
     },
     "metadata": {},
     "output_type": "display_data"
    }
   ],
   "source": [
    "#check\n",
    "sum(is.na(df['Age']))"
   ]
  },
  {
   "cell_type": "code",
   "execution_count": 72,
   "id": "ee433674",
   "metadata": {},
   "outputs": [
    {
     "data": {
      "image/png": "[encoded data removed]",
      "text/plain": [
       "Plot with title \"Histogram of df$Age\""
      ]
     },
     "metadata": {},
     "output_type": "display_data"
    }
   ],
   "source": [
    "#histogram\n",
    "hist(df$Age,col='darkmagenta',border='green',xlab='value of Age',ylab='Frequency')"
   ]
  },
  {
   "cell_type": "code",
   "execution_count": 73,
   "id": "d716073f",
   "metadata": {},
   "outputs": [
    {
     "data": {
      "image/png": "[encoded data removed]",
      "text/plain": [
       "plot without title"
      ]
     },
     "metadata": {},
     "output_type": "display_data"
    }
   ],
   "source": [
    "#bar graph : it is used also known as frequency graph , it is used for categorical type data means charcater type data\n",
    "#how many passenger survied / not\n",
    "ggplot(data=df,aes(x=Survived))+geom_bar(fill='red',color='lightblue')"
   ]
  },
  {
   "cell_type": "code",
   "execution_count": 74,
   "id": "9a3b3510",
   "metadata": {},
   "outputs": [
    {
     "data": {
      "image/png": "[encoded data removed]",
      "text/plain": [
       "plot without title"
      ]
     },
     "metadata": {},
     "output_type": "display_data"
    }
   ],
   "source": [
    "ggplot(data=df,aes(x=Pclass))+geom_bar(fill='red',color='lightblue')"
   ]
  },
  {
   "cell_type": "code",
   "execution_count": 75,
   "id": "40218cf3",
   "metadata": {},
   "outputs": [
    {
     "data": {
      "text/html": [
       "<table>\n",
       "<thead><tr><th scope=col>age</th></tr></thead>\n",
       "<tbody>\n",
       "\t<tr><td> 9</td></tr>\n",
       "\t<tr><td> 9</td></tr>\n",
       "\t<tr><td>10</td></tr>\n",
       "\t<tr><td>10</td></tr>\n",
       "\t<tr><td>10</td></tr>\n",
       "\t<tr><td>11</td></tr>\n",
       "\t<tr><td>12</td></tr>\n",
       "\t<tr><td>36</td></tr>\n",
       "</tbody>\n",
       "</table>\n"
      ],
      "text/latex": [
       "\\begin{tabular}{r|l}\n",
       " age\\\\\n",
       "\\hline\n",
       "\t  9\\\\\n",
       "\t  9\\\\\n",
       "\t 10\\\\\n",
       "\t 10\\\\\n",
       "\t 10\\\\\n",
       "\t 11\\\\\n",
       "\t 12\\\\\n",
       "\t 36\\\\\n",
       "\\end{tabular}\n"
      ],
      "text/markdown": [
       "\n",
       "| age |\n",
       "|---|\n",
       "|  9 |\n",
       "|  9 |\n",
       "| 10 |\n",
       "| 10 |\n",
       "| 10 |\n",
       "| 11 |\n",
       "| 12 |\n",
       "| 36 |\n",
       "\n"
      ],
      "text/plain": [
       "  age\n",
       "1  9 \n",
       "2  9 \n",
       "3 10 \n",
       "4 10 \n",
       "5 10 \n",
       "6 11 \n",
       "7 12 \n",
       "8 36 "
      ]
     },
     "metadata": {},
     "output_type": "display_data"
    }
   ],
   "source": [
    "#boxplot() : use for check outlier in given dataset\n",
    "#for eg:create a data frame with the help of vector\n",
    "age=c(9,9,10,10,10,11,12,36)\n",
    "#convert vector into dataframe\n",
    "df=data.frame(age)\n",
    "df"
   ]
  },
  {
   "cell_type": "code",
   "execution_count": 76,
   "id": "28da1113",
   "metadata": {},
   "outputs": [],
   "source": [
    "#Boxplot\n",
    "library(ggplot2)"
   ]
  },
  {
   "cell_type": "code",
   "execution_count": 77,
   "id": "1f2d491e",
   "metadata": {},
   "outputs": [
    {
     "data": {
      "image/png": "[encoded data removed]",
      "text/plain": [
       "plot without title"
      ]
     },
     "metadata": {},
     "output_type": "display_data"
    }
   ],
   "source": [
    "ggplot(data=df,aes(x=age))+geom_boxplot()"
   ]
  },
  {
   "cell_type": "code",
   "execution_count": 78,
   "id": "7e821ec1",
   "metadata": {},
   "outputs": [
    {
     "data": {
      "text/html": [
       "<table>\n",
       "<thead><tr><th scope=col>age</th></tr></thead>\n",
       "<tbody>\n",
       "\t<tr><td>36</td></tr>\n",
       "</tbody>\n",
       "</table>\n"
      ],
      "text/latex": [
       "\\begin{tabular}{r|l}\n",
       " age\\\\\n",
       "\\hline\n",
       "\t 36\\\\\n",
       "\\end{tabular}\n"
      ],
      "text/markdown": [
       "\n",
       "| age |\n",
       "|---|\n",
       "| 36 |\n",
       "\n"
      ],
      "text/plain": [
       "  age\n",
       "1 36 "
      ]
     },
     "metadata": {},
     "output_type": "display_data"
    }
   ],
   "source": [
    "# to show those record whose age>30\n",
    "library(dplyr)\n",
    "filter(df,age>30)"
   ]
  },
  {
   "cell_type": "code",
   "execution_count": 87,
   "id": "3263e1a1",
   "metadata": {},
   "outputs": [
    {
     "name": "stderr",
     "output_type": "stream",
     "text": [
      "Warning message:\n",
      "\"unable to access index for repository https://cran.r-project.org/src/contrib:\n",
      "  cannot open URL 'https://cran.r-project.org/src/contrib/PACKAGES'\"Warning message:\n",
      "\"package 'plotly' is not available (for R version 3.6.1)\"Warning message:\n",
      "\"unable to access index for repository https://cran.r-project.org/bin/windows/contrib/3.6:\n",
      "  cannot open URL 'https://cran.r-project.org/bin/windows/contrib/3.6/PACKAGES'\""
     ]
    }
   ],
   "source": [
    "#Another package used for visulaisatioin : #plotly :\n",
    "#plotly ibuilt method use for boxplot\n",
    "install.packages('plotly')"
   ]
  },
  {
   "cell_type": "code",
   "execution_count": 88,
   "id": "a644a3e4",
   "metadata": {},
   "outputs": [
    {
     "ename": "ERROR",
     "evalue": "Error in library(plotly): there is no package called 'plotly'\n",
     "output_type": "error",
     "traceback": [
      "Error in library(plotly): there is no package called 'plotly'\nTraceback:\n",
      "1. library(plotly)"
     ]
    }
   ],
   "source": [
    "#call plotply\n",
    "library(plotly)"
   ]
  },
  {
   "cell_type": "code",
   "execution_count": 86,
   "id": "ad794329",
   "metadata": {},
   "outputs": [
    {
     "ename": "ERROR",
     "evalue": "Error in plot_ly(data = df, x = age, type = \"box\"): could not find function \"plot_ly\"\n",
     "output_type": "error",
     "traceback": [
      "Error in plot_ly(data = df, x = age, type = \"box\"): could not find function \"plot_ly\"\nTraceback:\n"
     ]
    }
   ],
   "source": [
    "plot_ly(data=df,x=age,type='box')"
   ]
  },
  {
   "cell_type": "code",
   "execution_count": 89,
   "id": "a9bdf113",
   "metadata": {},
   "outputs": [
    {
     "data": {
      "text/html": [
       "<table>\n",
       "<thead><tr><th scope=col>Area</th><th scope=col>Price</th></tr></thead>\n",
       "<tbody>\n",
       "\t<tr><td>2600  </td><td>550000</td></tr>\n",
       "\t<tr><td>3000  </td><td>565000</td></tr>\n",
       "\t<tr><td>3200  </td><td>610000</td></tr>\n",
       "\t<tr><td>3600  </td><td>680000</td></tr>\n",
       "\t<tr><td>4000  </td><td>725000</td></tr>\n",
       "</tbody>\n",
       "</table>\n"
      ],
      "text/latex": [
       "\\begin{tabular}{r|ll}\n",
       " Area & Price\\\\\n",
       "\\hline\n",
       "\t 2600   & 550000\\\\\n",
       "\t 3000   & 565000\\\\\n",
       "\t 3200   & 610000\\\\\n",
       "\t 3600   & 680000\\\\\n",
       "\t 4000   & 725000\\\\\n",
       "\\end{tabular}\n"
      ],
      "text/markdown": [
       "\n",
       "| Area | Price |\n",
       "|---|---|\n",
       "| 2600   | 550000 |\n",
       "| 3000   | 565000 |\n",
       "| 3200   | 610000 |\n",
       "| 3600   | 680000 |\n",
       "| 4000   | 725000 |\n",
       "\n"
      ],
      "text/plain": [
       "  Area Price \n",
       "1 2600 550000\n",
       "2 3000 565000\n",
       "3 3200 610000\n",
       "4 3600 680000\n",
       "5 4000 725000"
      ]
     },
     "metadata": {},
     "output_type": "display_data"
    }
   ],
   "source": [
    "#to load csv file\n",
    "home=read.csv('homeprices.csv')\n",
    "home"
   ]
  },
  {
   "cell_type": "code",
   "execution_count": 90,
   "id": "6c815ce9",
   "metadata": {},
   "outputs": [
    {
     "ename": "ERROR",
     "evalue": "Error in plot_ly(data = home, x = ~Area, y = ~Price, type = \"scatter\", : could not find function \"plot_ly\"\n",
     "output_type": "error",
     "traceback": [
      "Error in plot_ly(data = home, x = ~Area, y = ~Price, type = \"scatter\", : could not find function \"plot_ly\"\nTraceback:\n"
     ]
    }
   ],
   "source": [
    "plot_ly(data=home,x=~Area,y=~Price,type='scatter',color='red')"
   ]
  },
  {
   "cell_type": "code",
   "execution_count": 91,
   "id": "750d758a",
   "metadata": {},
   "outputs": [
    {
     "data": {
      "text/html": [
       "<table>\n",
       "<thead><tr><th scope=col>Area</th><th scope=col>Price</th></tr></thead>\n",
       "<tbody>\n",
       "\t<tr><td>2600  </td><td>550000</td></tr>\n",
       "\t<tr><td>3000  </td><td>565000</td></tr>\n",
       "\t<tr><td>3200  </td><td>610000</td></tr>\n",
       "\t<tr><td>3600  </td><td>680000</td></tr>\n",
       "\t<tr><td>4000  </td><td>725000</td></tr>\n",
       "</tbody>\n",
       "</table>\n"
      ],
      "text/latex": [
       "\\begin{tabular}{r|ll}\n",
       " Area & Price\\\\\n",
       "\\hline\n",
       "\t 2600   & 550000\\\\\n",
       "\t 3000   & 565000\\\\\n",
       "\t 3200   & 610000\\\\\n",
       "\t 3600   & 680000\\\\\n",
       "\t 4000   & 725000\\\\\n",
       "\\end{tabular}\n"
      ],
      "text/markdown": [
       "\n",
       "| Area | Price |\n",
       "|---|---|\n",
       "| 2600   | 550000 |\n",
       "| 3000   | 565000 |\n",
       "| 3200   | 610000 |\n",
       "| 3600   | 680000 |\n",
       "| 4000   | 725000 |\n",
       "\n"
      ],
      "text/plain": [
       "  Area Price \n",
       "1 2600 550000\n",
       "2 3000 565000\n",
       "3 3200 610000\n",
       "4 3600 680000\n",
       "5 4000 725000"
      ]
     },
     "metadata": {},
     "output_type": "display_data"
    }
   ],
   "source": [
    "#Save the graph in the format .jpeg or gif or .png or bmp (ggplot)\n",
    "home=read.csv('homeprices.csv')\n",
    "home"
   ]
  },
  {
   "cell_type": "code",
   "execution_count": 92,
   "id": "59ad9a67",
   "metadata": {},
   "outputs": [],
   "source": [
    "#scatteplot \n",
    "library(ggplot2)"
   ]
  },
  {
   "cell_type": "code",
   "execution_count": 93,
   "id": "384e7d0a",
   "metadata": {},
   "outputs": [
    {
     "data": {
      "text/html": [
       "<strong>png:</strong> 2"
      ],
      "text/latex": [
       "\\textbf{png:} 2"
      ],
      "text/markdown": [
       "**png:** 2"
      ],
      "text/plain": [
       "png \n",
       "  2 "
      ]
     },
     "metadata": {},
     "output_type": "display_data"
    }
   ],
   "source": [
    "jpeg('house.jpeg') #jpeg means joint picture enchanced graphics\n",
    "#gif :- means graphics interfaces file\n",
    "#bmp :- means bitmap\n",
    "ggplot(data=home,aes(x=Area,y=Price))+geom_point()\n",
    "dev.off()"
   ]
  },
  {
   "cell_type": "code",
   "execution_count": 94,
   "id": "b397ce65",
   "metadata": {},
   "outputs": [
    {
     "data": {
      "text/html": [
       "'C:/Users/Aniket Gawde/Desktop/r'"
      ],
      "text/latex": [
       "'C:/Users/Aniket Gawde/Desktop/r'"
      ],
      "text/markdown": [
       "'C:/Users/Aniket Gawde/Desktop/r'"
      ],
      "text/plain": [
       "[1] \"C:/Users/Aniket Gawde/Desktop/r\""
      ]
     },
     "metadata": {},
     "output_type": "display_data"
    }
   ],
   "source": [
    "getwd()"
   ]
  },
  {
   "cell_type": "code",
   "execution_count": 95,
   "id": "20f965c5",
   "metadata": {},
   "outputs": [],
   "source": [
    "#install.packages('RMySQL')"
   ]
  },
  {
   "cell_type": "code",
   "execution_count": 96,
   "id": "32ac0676",
   "metadata": {},
   "outputs": [
    {
     "name": "stderr",
     "output_type": "stream",
     "text": [
      "Warning message:\n",
      "\"package 'RMySQL' was built under R version 3.6.3\"Loading required package: DBI\n"
     ]
    }
   ],
   "source": [
    "library(RMySQL)"
   ]
  },
  {
   "cell_type": "code",
   "execution_count": 97,
   "id": "43f29d62",
   "metadata": {},
   "outputs": [
    {
     "ename": "ERROR",
     "evalue": "Error in .local(drv, ...): Failed to connect to database: Error: Can't connect to MySQL server on 'localhost' (10061)\n\n",
     "output_type": "error",
     "traceback": [
      "Error in .local(drv, ...): Failed to connect to database: Error: Can't connect to MySQL server on 'localhost' (10061)\n\nTraceback:\n",
      "1. dbConnect(MySQL(), user = \"root\", password = \"\", dbname = \"CMS\", \n .     host = \"localhost\")",
      "2. dbConnect(MySQL(), user = \"root\", password = \"\", dbname = \"CMS\", \n .     host = \"localhost\")",
      "3. .local(drv, ...)"
     ]
    }
   ],
   "source": [
    "#Create a connection object to MySQL database.\n",
    "#we will connect to the sample database name 'CMS' comes with MYSql installation.\n",
    "conn=dbConnect(MySQL(),user='root',password='',dbname='CMS',host='localhost')"
   ]
  },
  {
   "cell_type": "code",
   "execution_count": null,
   "id": "0853d935",
   "metadata": {},
   "outputs": [],
   "source": [
    "#list the tables avaliable in this databases. use inbuilt method\n",
    "#dbListTables\n",
    "dbListTables(conn)"
   ]
  },
  {
   "cell_type": "code",
   "execution_count": null,
   "id": "48627abd",
   "metadata": {},
   "outputs": [],
   "source": [
    "#Inserting data into the tables\n",
    "query=\"insert into student values(110,'Aniket Gawde',26,'Mumbai')\"\n",
    "dbSendQuery(conn,query) #run insert query"
   ]
  },
  {
   "cell_type": "code",
   "execution_count": null,
   "id": "c671384b",
   "metadata": {},
   "outputs": [],
   "source": [
    "#close the coonection\n",
    "dbDisconnect(conn)"
   ]
  },
  {
   "cell_type": "code",
   "execution_count": null,
   "id": "51339063",
   "metadata": {},
   "outputs": [],
   "source": [
    "#Create a function to connect MYSQL with R \n",
    "connection=function()\n",
    "    {\n",
    "    conn=dbConnect(MySQL(),user='root',password='',dbname='CMS',host='localhost')\n",
    "    return(conn)\n",
    "}\n",
    "\n",
    "\n",
    "#create a function to close connection\n",
    "close=function(conn)\n",
    "    {\n",
    "    dbDisconnect(conn)\n",
    "    print('Connection disconnect Successfully')\n",
    "}"
   ]
  },
  {
   "cell_type": "code",
   "execution_count": null,
   "id": "1b2e6edc",
   "metadata": {},
   "outputs": [],
   "source": [
    "# to show all record from atble\n",
    "#first open the connection , then call function connection\n",
    "conn=connection()\n",
    "#fire select query\n",
    "query='select * from student'\n",
    "result=dbSendQuery(conn,query) #run select query\n",
    "df=fetch(result)\n",
    "print(df)\n",
    "#close connection , call close function\n",
    "close(conn)"
   ]
  },
  {
   "cell_type": "code",
   "execution_count": null,
   "id": "21382c99",
   "metadata": {},
   "outputs": [],
   "source": [
    "#create a function to connect MYSQL connection\n",
    "connection1<-function()\n",
    "    {\n",
    "    conn=dbConnect(MySQL(),user='root',password='',dbname='CMS',host='localhost')\n",
    "    return(conn)\n",
    "}\n"
   ]
  },
  {
   "cell_type": "code",
   "execution_count": null,
   "id": "ed8d3a28",
   "metadata": {},
   "outputs": [],
   "source": [
    "#create the function to close connection\n",
    "close=function(conn)\n",
    "    {\n",
    "    dbDisconnect(conn)\n",
    "    print(\"connect disconect successfully\")\n",
    "}"
   ]
  },
  {
   "cell_type": "code",
   "execution_count": null,
   "id": "39dd31c6",
   "metadata": {},
   "outputs": [],
   "source": [
    "#main program\n",
    "#call fucntion to open connection\n",
    "conn=connection()\n",
    "#list the tables avalible in this databases use inbuilt method\n",
    "#dblist tables\n",
    "dbListTables(conn)\n",
    "# to search a particular record from table\n",
    "query=\"select * from student where rollno=110\"\n",
    "#run the query\n",
    "result=dbSendQuery(conn,query) #result user define objet\n",
    "df=fetch(result) #df means user defined data frame\n",
    "print(df)\n",
    "#call function for close the connection\n",
    "close(conn)"
   ]
  },
  {
   "cell_type": "code",
   "execution_count": null,
   "id": "6bbd4c0f",
   "metadata": {},
   "outputs": [],
   "source": [
    "#update the record \n",
    "# to the city with delhi whose rno=110\n",
    "#first open connection\n",
    "conn=connection()\n",
    "query=\"update student set city='delhi' where rollno=110\"\n",
    "#run the query\n",
    "dbSendQuery(conn,query)\n",
    "#close the connection\n",
    "close(conn)"
   ]
  },
  {
   "cell_type": "code",
   "execution_count": null,
   "id": "ac98b056",
   "metadata": {},
   "outputs": [],
   "source": [
    "#to delete a particular record from table\n",
    "#query fire : delete from <tablename>where <condition>\n",
    "#to delete those record whose rollno=110\n",
    "#first open connection\n",
    "conn=connection()\n",
    "query=\"delete from student where rollno=110\"\n",
    "#run query\n",
    "dbSendQuery(conn,query)\n",
    "#close the connection\n",
    "close(conn)"
   ]
  },
  {
   "cell_type": "code",
   "execution_count": 98,
   "id": "f9669c9c",
   "metadata": {},
   "outputs": [
    {
     "name": "stdout",
     "output_type": "stream",
     "text": [
      "  age\n",
      "1   9\n",
      "2   9\n",
      "3  10\n",
      "4  10\n",
      "5  10\n",
      "6  11\n",
      "7  12\n",
      "8  36\n"
     ]
    }
   ],
   "source": [
    "print(df)"
   ]
  },
  {
   "cell_type": "code",
   "execution_count": 99,
   "id": "60533844",
   "metadata": {},
   "outputs": [],
   "source": [
    "library(dplyr)"
   ]
  },
  {
   "cell_type": "code",
   "execution_count": 100,
   "id": "6c7537f0",
   "metadata": {},
   "outputs": [
    {
     "ename": "ERROR",
     "evalue": "Error: Problem with `filter()` input `..1`.\ni Input `..1` is `city == \"Indore\"`.\nx object 'city' not found\n",
     "output_type": "error",
     "traceback": [
      "Error: Problem with `filter()` input `..1`.\ni Input `..1` is `city == \"Indore\"`.\nx object 'city' not found\nTraceback:\n",
      "1. filter(df, city == \"Indore\")",
      "2. filter.data.frame(df, city == \"Indore\")",
      "3. filter_rows(.data, ...)",
      "4. withCallingHandlers({\n .     dots <- new_quosures(flatten(imap(dots, function(dot, index) {\n .         env_filter$current_expression <- index\n .         expand_if_across(dot)\n .     })))\n .     mask$eval_all_filter(dots, env_filter)\n . }, error = function(e) {\n .     local_call_step(dots = dots, .index = env_filter$current_expression, \n .         .fn = \"filter\")\n .     abort(c(cnd_bullet_header(), i = cnd_bullet_input_info(), \n .         x = conditionMessage(e), i = cnd_bullet_cur_group_label()), \n .         class = \"dplyr_error\")\n . })",
      "5. mask$eval_all_filter(dots, env_filter)",
      "6. .handleSimpleError(function (e) \n . {\n .     local_call_step(dots = dots, .index = env_filter$current_expression, \n .         .fn = \"filter\")\n .     abort(c(cnd_bullet_header(), i = cnd_bullet_input_info(), \n .         x = conditionMessage(e), i = cnd_bullet_cur_group_label()), \n .         class = \"dplyr_error\")\n . }, \"object 'city' not found\", base::quote(mask$eval_all_filter(dots, \n .     env_filter)))",
      "7. h(simpleError(msg, call))",
      "8. abort(c(cnd_bullet_header(), i = cnd_bullet_input_info(), x = conditionMessage(e), \n .     i = cnd_bullet_cur_group_label()), class = \"dplyr_error\")",
      "9. signal_abort(cnd)"
     ]
    }
   ],
   "source": [
    "#to show those record whose city=\"indore\"\n",
    "filter(df,city=='Indore')"
   ]
  },
  {
   "cell_type": "code",
   "execution_count": 101,
   "id": "f3fd300d",
   "metadata": {},
   "outputs": [
    {
     "ename": "ERROR",
     "evalue": "Error: Can't subset columns that don't exist.\nx Column `name` doesn't exist.\n",
     "output_type": "error",
     "traceback": [
      "Error: Can't subset columns that don't exist.\nx Column `name` doesn't exist.\nTraceback:\n",
      "1. select(df, name, rollno, age)",
      "2. select.data.frame(df, name, rollno, age)",
      "3. tidyselect::eval_select(expr(c(...)), .data)",
      "4. eval_select_impl(data, names(data), as_quosure(expr, env), include = include, \n .     exclude = exclude, strict = strict, name_spec = name_spec, \n .     allow_rename = allow_rename)",
      "5. with_subscript_errors(vars_select_eval(vars, expr, strict, data = x, \n .     name_spec = name_spec, uniquely_named = uniquely_named, allow_rename = allow_rename, \n .     type = type), type = type)",
      "6. tryCatch(instrument_base_errors(expr), vctrs_error_subscript = function(cnd) {\n .     cnd$subscript_action <- subscript_action(type)\n .     cnd$subscript_elt <- \"column\"\n .     cnd_signal(cnd)\n . })",
      "7. tryCatchList(expr, classes, parentenv, handlers)",
      "8. tryCatchOne(expr, names, parentenv, handlers[[1L]])",
      "9. value[[3L]](cond)",
      "10. cnd_signal(cnd)",
      "11. rlang:::signal_abort(x)"
     ]
    }
   ],
   "source": [
    "select(df,name,rollno,age)"
   ]
  },
  {
   "cell_type": "code",
   "execution_count": null,
   "id": "723d263c",
   "metadata": {},
   "outputs": [],
   "source": [
    "#connectivity between R AND MYSOL server : use inbuilt method dbconnect()\n",
    "# use inbuilt library RMYSQL\n",
    "#close connection : use inbuilt method dbDisconnect()"
   ]
  },
  {
   "cell_type": "code",
   "execution_count": null,
   "id": "c2e72186",
   "metadata": {},
   "outputs": [],
   "source": []
  }
 ],
 "metadata": {
  "kernelspec": {
   "display_name": "R",
   "language": "R",
   "name": "ir"
  },
  "language_info": {
   "codemirror_mode": "r",
   "file_extension": ".r",
   "mimetype": "text/x-r-source",
   "name": "R",
   "pygments_lexer": "r",
   "version": "3.6.1"
  }
 },
 "nbformat": 4,
 "nbformat_minor": 5
}
