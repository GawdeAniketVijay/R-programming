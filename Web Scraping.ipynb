{
 "cells": [
  {
   "cell_type": "markdown",
   "id": "58c9860a",
   "metadata": {},
   "source": [
    "# Web Scraping"
   ]
  },
  {
   "cell_type": "code",
   "execution_count": 1,
   "id": "c1f2635f",
   "metadata": {},
   "outputs": [],
   "source": [
    "#install.packages('rvest')\n",
    "#install.packages('stringr')"
   ]
  },
  {
   "cell_type": "code",
   "execution_count": 2,
   "id": "959c650c",
   "metadata": {},
   "outputs": [
    {
     "name": "stderr",
     "output_type": "stream",
     "text": [
      "Loading required package: xml2\n",
      "Registered S3 method overwritten by 'rvest':\n",
      "  method            from\n",
      "  read_xml.response xml2\n",
      "Warning message:\n",
      "\"package 'stringr' was built under R version 3.6.3\""
     ]
    }
   ],
   "source": [
    "#call library\n",
    "library(rvest)\n",
    "library(stringr)"
   ]
  },
  {
   "cell_type": "code",
   "execution_count": 3,
   "id": "afe48a9b",
   "metadata": {},
   "outputs": [
    {
     "name": "stdout",
     "output_type": "stream",
     "text": [
      "[1] \"        Moto G Power | 2021 | 3-Day battery | Unlocked | Made for US by Motorola | 4/64GB | 48MP Camera | Gray       \"\n",
      "[1] \"$179.99\"     \"$179.99\"     \"Page 1 of 1\" \"Page 1 of 1\" \"Page 1 of 1\"\n"
     ]
    }
   ],
   "source": [
    "url=\"https://www.amazon.com/Power-battery-Unlocked-Motorola-Camera/dp/B08NWBY8YJ/ref=sr_1_1_sspa?crid=3UMUHAL44XDBC&keywords=cellphone&qid=1646737942&sprefix=cellphon%2Caps%2C320&sr=8-1-spons&spLa=ZW5jcnlwdGVkUXVhbGlmaWVyPUExMVdCM0lKQUFKSkdWJmVuY3J5cHRlZElkPUEwNzc3MjU3Mk5HOVVHVFJHOEtDMyZlbmNyeXB0ZWRBZElkPUEwNzEyNDg4WUxPMEJIS1JCWVJRJndpZGdldE5hbWU9c3BfYXRmJmFjdGlvbj1jbGlja1JlZGlyZWN0JmRvTm90TG9nQ2xpY2s9dHJ1ZQ&th=1\"\n",
    "# url user defined variable (uniform resources Locator)\n",
    "webpage=read_html(url) #web page hold html code of given url\n",
    "#print(webpage)\n",
    "pname=html_nodes(webpage,'span#productTitle')\n",
    "pname=html_text(pname)\n",
    "print(pname)\n",
    "price=html_nodes(webpage,\"span.a-offscreen\")\n",
    "price=html_text(price)\n",
    "print(price)"
   ]
  },
  {
   "cell_type": "code",
   "execution_count": 14,
   "id": "c3b20a73",
   "metadata": {},
   "outputs": [
    {
     "name": "stdout",
     "output_type": "stream",
     "text": [
      "{xml_document}\n",
      "<html lang=\"en\">\n",
      "[1] <head>\\n<link href=\"https://rukminim2.flixcart.com\" rel=\"preconnect\">\\n<l ...\n",
      "[2] <body>\\n<div id=\"container\"><div>\\n<div class=\"_1kfTjk\">\\n<div class=\"_1r ...\n"
     ]
    }
   ],
   "source": [
    "url=\"https://www.flipkart.com/redmi-9i-sport-metallic-blue-64-gb/p/itmeb95d0b4616cc?pid=MOBG6WQWQZZMGQCU&lid=LSTMOBG6WQWQZZMGQCUR9J4PR&marketplace=FLIPKART&q=mobile+&store=tyy%2F4io&srno=s_1_1&otracker=search&otracker1=search&fm=Search&iid=35474f44-8774-4c63-8569-b2d2d043cd4f.MOBG6WQWQZZMGQCU.SEARCH&ppt=sp&ppn=sp&ssid=yuim03jkc00000001646819941393&qH=179b063c26bcaa74\"\n",
    "web_page1=read_html(url)\n",
    "print(web_page1)"
   ]
  },
  {
   "cell_type": "code",
   "execution_count": 16,
   "id": "a37b92ac",
   "metadata": {},
   "outputs": [
    {
     "name": "stdout",
     "output_type": "stream",
     "text": [
      "[1] \"REDMI 9i Sport (Metallic Blue, 64 GB)  (4 GB RAM)\"\n"
     ]
    }
   ],
   "source": [
    "#<span class=\"B_NuCI\">REDMI 9i Sport (Metallic Blue, 64 GB)&nbsp;&nbsp;(4 GB RAM)</span>\n",
    "p_name=html_nodes(web_page1,\"span.B_NuCI\")\n",
    "p_name=html_text(p_name)\n",
    "print(p_name)"
   ]
  },
  {
   "cell_type": "code",
   "execution_count": 23,
   "id": "9552f1fb",
   "metadata": {},
   "outputs": [
    {
     "name": "stderr",
     "output_type": "stream",
     "text": [
      "Your code contains a unicode char which cannot be displayed in your\n",
      "current locale and R will silently convert it to an escaped form when the\n",
      "R kernel executes this code. This can lead to subtle errors if you use\n",
      "such chars to do comparisons. For more information, please see\n",
      "https://github.com/IRkernel/repr/wiki/Problems-with-unicode-on-windows"
     ]
    },
    {
     "name": "stdout",
     "output_type": "stream",
     "text": [
      "[1] \"<U+20B9>8,999\"\n"
     ]
    }
   ],
   "source": [
    "#<div class=\"_30jeq3 _16k6d\">₹8,999</div>\n",
    "price=html_nodes(web_page1,'div._30jeq3._16Jk6d')\n",
    "price=html_text(price)\n",
    "print(price)"
   ]
  },
  {
   "cell_type": "code",
   "execution_count": 27,
   "id": "d479252d",
   "metadata": {},
   "outputs": [
    {
     "name": "stdout",
     "output_type": "stream",
     "text": [
      "[1] \"4.4\"\n"
     ]
    }
   ],
   "source": [
    "#rating\n",
    "rating=html_nodes(web_page1,'div._3LWZlK')\n",
    "rating=html_text(rating)\n",
    "rating=rating[1] #indexing\n",
    "print(rating)"
   ]
  },
  {
   "cell_type": "code",
   "execution_count": 31,
   "id": "16cf1f75",
   "metadata": {},
   "outputs": [
    {
     "name": "stdout",
     "output_type": "stream",
     "text": [
      "                                       product_name product_price\n",
      "1 REDMI 9i Sport (Metallic Blue, 64 GB)  (4 GB RAM) <U+20B9>8,999\n",
      "  product_rating\n",
      "1            4.4\n"
     ]
    }
   ],
   "source": [
    "# to store all description of mobile in data frame\n",
    "df=data.frame(product_name=p_name,product_price=price,product_rating=rating)\n",
    "print(df)"
   ]
  },
  {
   "cell_type": "code",
   "execution_count": 32,
   "id": "132e728c",
   "metadata": {},
   "outputs": [],
   "source": [
    "#create a csv file means to converts data frame to csv file\n",
    "write.csv(df,\"mobile.csv\") #write.csv(dataframe name,\"permanent filename\")"
   ]
  },
  {
   "cell_type": "code",
   "execution_count": 33,
   "id": "1a5e2242",
   "metadata": {},
   "outputs": [
    {
     "data": {
      "text/html": [
       "'C:/Users/Aniket Gawde/Desktop/r'"
      ],
      "text/latex": [
       "'C:/Users/Aniket Gawde/Desktop/r'"
      ],
      "text/markdown": [
       "'C:/Users/Aniket Gawde/Desktop/r'"
      ],
      "text/plain": [
       "[1] \"C:/Users/Aniket Gawde/Desktop/r\""
      ]
     },
     "metadata": {},
     "output_type": "display_data"
    }
   ],
   "source": [
    "getwd()"
   ]
  },
  {
   "cell_type": "code",
   "execution_count": 34,
   "id": "12f54faa",
   "metadata": {},
   "outputs": [
    {
     "name": "stdout",
     "output_type": "stream",
     "text": [
      "{xml_document}\n",
      "<html lang=\"en\">\n",
      "[1] <head>\\n<link href=\"https://rukminim2.flixcart.com\" rel=\"preconnect\">\\n<l ...\n",
      "[2] <body>\\n<div id=\"container\"><div>\\n<div class=\"_1kfTjk\">\\n<div class=\"_1r ...\n"
     ]
    }
   ],
   "source": [
    "url1=\"https://www.flipkart.com/search?q=mobile%20&otracker=search&otracker1=search&marketplace=FLIPKART&as-show=on&as=off\"\n",
    "webpage2=read_html(url1)\n",
    "print(webpage2)"
   ]
  },
  {
   "cell_type": "code",
   "execution_count": 71,
   "id": "a90358a8",
   "metadata": {},
   "outputs": [
    {
     "name": "stdout",
     "output_type": "stream",
     "text": [
      " [1] \"REDMI 9i Sport (Metallic Blue, 64 GB)\"  \n",
      " [2] \"realme Narzo 50A (Oxygen Green, 128 GB)\"\n",
      " [3] \"realme Narzo 50A (Oxygen Blue, 64 GB)\"  \n",
      " [4] \"POCO C31 (Royal Blue, 64 GB)\"           \n",
      " [5] \"REDMI 9i Sport (Coral Green, 64 GB)\"    \n",
      " [6] \"Infinix Hot 11S (Polar Black, 64 GB)\"   \n",
      " [7] \"realme Narzo 50A (Oxygen Blue, 128 GB)\" \n",
      " [8] \"realme Narzo 50A (Oxygen Green, 64 GB)\" \n",
      " [9] \"vivo T1 5G (Rainbow Fantasy, 128 GB)\"   \n",
      "[10] \"vivo T1 5G (Starlight Black, 128 GB)\"   \n",
      "[11] \"Infinix Hot 11S (Green Wave, 128 GB)\"   \n",
      "[12] \"Infinix Hot 11S (Green Wave, 64 GB)\"    \n",
      "[13] \"Infinix Hot 11S (Silver Wave, 64 GB)\"   \n",
      "[14] \"realme C20 (Cool Blue, 32 GB)\"          \n",
      "[15] \"realme C20 (Cool Grey, 32 GB)\"          \n",
      "[16] \"Infinix Hot 11S (Polar Black, 128 GB)\"  \n",
      "[17] \"Infinix Hot 11S (Silver Wave, 128 GB)\"  \n",
      "[18] \"Infinix Hot 11S (7° Purple, 128 GB)\"    \n",
      "[19] \"MOTOROLA E7 Power (Tahiti Blue, 64 GB)\" \n",
      "[20] \"POCO C31 (Shadow Gray, 64 GB)\"          \n"
     ]
    }
   ],
   "source": [
    "pname=html_nodes(webpage2,'div._4rR01T')\n",
    "pname=html_text(pname)\n",
    "pname1=pname[1:20] #indexing\n",
    "print(pname1)"
   ]
  },
  {
   "cell_type": "code",
   "execution_count": 61,
   "id": "47f7760a",
   "metadata": {},
   "outputs": [
    {
     "name": "stdout",
     "output_type": "stream",
     "text": [
      " [1] \"<U+20B9>8,999\" \"<U+20B9>12,549\" \"<U+20B9>11,549\" \"<U+20B9>9,499\" \"<U+20B9>8,999\"\n",
      " [6] \"<U+20B9>10,999\" \"<U+20B9>12,549\" \"<U+20B9>11,549\" \"<U+20B9>15,990\" \"<U+20B9>15,990\"\n",
      "[11] \"<U+20B9>11,999\" \"<U+20B9>10,999\" \"<U+20B9>10,999\" \"<U+20B9>7,499\" \"<U+20B9>7,499\"\n",
      "[16] \"<U+20B9>11,999\" \"<U+20B9>11,999\" \"<U+20B9>11,999\" \"<U+20B9>9,049\" \"<U+20B9>9,499\"\n"
     ]
    }
   ],
   "source": [
    "price1=html_nodes(webpage2,'div._30jeq3._1_WHN1')\n",
    "price1=html_text(price1)\n",
    "price1=price1[1:20] #indexing\n",
    "print(price1)"
   ]
  },
  {
   "cell_type": "code",
   "execution_count": 68,
   "id": "e8cf9b59",
   "metadata": {},
   "outputs": [
    {
     "name": "stdout",
     "output_type": "stream",
     "text": [
      " [1] \"4.4\" \"4.4\" \"4.4\" \"4.4\" \"4.4\" \"4.3\" \"4.4\" \"4.4\" \"4.4\" \"4.4\" \"4.3\" \"4.3\"\n",
      "[13] \"4.3\" \"4.4\" \"4.4\" \"4.3\" \"4.3\" \"4.3\" \"4.1\" \"4.4\"\n"
     ]
    }
   ],
   "source": [
    "#rating\n",
    "rating1=html_nodes(webpage2,'div._3LWZlK')\n",
    "rating1=html_text(rating1)\n",
    "rating1=rating1[1:20] #indexing\n",
    "print(rating1)"
   ]
  },
  {
   "cell_type": "code",
   "execution_count": 69,
   "id": "0dc963fb",
   "metadata": {},
   "outputs": [
    {
     "name": "stdout",
     "output_type": "stream",
     "text": [
      "                             product_name1  product_price product_rating\n",
      "1    REDMI 9i Sport (Metallic Blue, 64 GB)  <U+20B9>8,999            4.4\n",
      "2  realme Narzo 50A (Oxygen Green, 128 GB) <U+20B9>12,549            4.4\n",
      "3    realme Narzo 50A (Oxygen Blue, 64 GB) <U+20B9>11,549            4.4\n",
      "4             POCO C31 (Royal Blue, 64 GB)  <U+20B9>9,499            4.4\n",
      "5      REDMI 9i Sport (Coral Green, 64 GB)  <U+20B9>8,999            4.4\n",
      "6     Infinix Hot 11S (Polar Black, 64 GB) <U+20B9>10,999            4.3\n",
      "7   realme Narzo 50A (Oxygen Blue, 128 GB) <U+20B9>12,549            4.4\n",
      "8   realme Narzo 50A (Oxygen Green, 64 GB) <U+20B9>11,549            4.4\n",
      "9     vivo T1 5G (Rainbow Fantasy, 128 GB) <U+20B9>15,990            4.4\n",
      "10    vivo T1 5G (Starlight Black, 128 GB) <U+20B9>15,990            4.4\n",
      "11    Infinix Hot 11S (Green Wave, 128 GB) <U+20B9>11,999            4.3\n",
      "12     Infinix Hot 11S (Green Wave, 64 GB) <U+20B9>10,999            4.3\n",
      "13    Infinix Hot 11S (Silver Wave, 64 GB) <U+20B9>10,999            4.3\n",
      "14           realme C20 (Cool Blue, 32 GB)  <U+20B9>7,499            4.4\n",
      "15           realme C20 (Cool Grey, 32 GB)  <U+20B9>7,499            4.4\n",
      "16   Infinix Hot 11S (Polar Black, 128 GB) <U+20B9>11,999            4.3\n",
      "17   Infinix Hot 11S (Silver Wave, 128 GB) <U+20B9>11,999            4.3\n",
      "18     Infinix Hot 11S (7° Purple, 128 GB) <U+20B9>11,999            4.3\n",
      "19  MOTOROLA E7 Power (Tahiti Blue, 64 GB)  <U+20B9>9,049            4.1\n",
      "20           POCO C31 (Shadow Gray, 64 GB)  <U+20B9>9,499            4.4\n"
     ]
    }
   ],
   "source": [
    "# to store all description of mobile in data frame\n",
    "df=data.frame(product_name1=pname1,product_price=price1,product_rating=rating1)\n",
    "print(df)"
   ]
  },
  {
   "cell_type": "code",
   "execution_count": 64,
   "id": "a2ad3f50",
   "metadata": {},
   "outputs": [],
   "source": [
    "#create a csv file means to converts data frame to csv file\n",
    "write.csv(df,\"mobiledata.csv\") #write.csv(dataframe name,\"permanent filename\")"
   ]
  },
  {
   "cell_type": "code",
   "execution_count": 65,
   "id": "3036b656",
   "metadata": {},
   "outputs": [
    {
     "data": {
      "text/html": [
       "'C:/Users/Aniket Gawde/Desktop/r'"
      ],
      "text/latex": [
       "'C:/Users/Aniket Gawde/Desktop/r'"
      ],
      "text/markdown": [
       "'C:/Users/Aniket Gawde/Desktop/r'"
      ],
      "text/plain": [
       "[1] \"C:/Users/Aniket Gawde/Desktop/r\""
      ]
     },
     "metadata": {},
     "output_type": "display_data"
    }
   ],
   "source": [
    "getwd()"
   ]
  },
  {
   "cell_type": "code",
   "execution_count": null,
   "id": "baf0834f",
   "metadata": {},
   "outputs": [],
   "source": []
  }
 ],
 "metadata": {
  "kernelspec": {
   "display_name": "R",
   "language": "R",
   "name": "ir"
  },
  "language_info": {
   "codemirror_mode": "r",
   "file_extension": ".r",
   "mimetype": "text/x-r-source",
   "name": "R",
   "pygments_lexer": "r",
   "version": "3.6.1"
  }
 },
 "nbformat": 4,
 "nbformat_minor": 5
}
