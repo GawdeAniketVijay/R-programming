{
 "cells": [
  {
   "cell_type": "code",
   "execution_count": 1,
   "id": "d1a506e8",
   "metadata": {},
   "outputs": [],
   "source": [
    "# List in R programming:-\n",
    "# Data structure type datatype :-\n",
    "# 1.vector :1D similar type of data\n",
    "# 2.matrix :2D similar type of data\n",
    "# 3.data.frame :2D\n",
    "# 4.list"
   ]
  },
  {
   "cell_type": "code",
   "execution_count": 2,
   "id": "98697e9b",
   "metadata": {},
   "outputs": [],
   "source": [
    "# list is the collection of different tyoes of adat\n",
    "# means collection of number type data,string type data,vector type data\n",
    "# and another list can also matrix \n",
    "# list is created using list() function"
   ]
  },
  {
   "cell_type": "code",
   "execution_count": 8,
   "id": "f9c88e52",
   "metadata": {},
   "outputs": [
    {
     "name": "stdout",
     "output_type": "stream",
     "text": [
      "[[1]]\n",
      "[1] \"Aniket\"\n",
      "\n",
      "[[2]]\n",
      "[1] \"Gawde\"\n",
      "\n",
      "[[3]]\n",
      "[1] 21 34 56\n",
      "\n",
      "[[4]]\n",
      "[1] TRUE\n",
      "\n",
      "[[5]]\n",
      "[1] 54.78\n",
      "\n",
      "[[6]]\n",
      "[1] 89\n",
      "\n",
      "[[7]]\n",
      "[1] 90\n",
      "\n",
      "[[8]]\n",
      "[1] 34.56\n",
      "\n",
      "[[9]]\n",
      "[1] FALSE\n",
      "\n"
     ]
    }
   ],
   "source": [
    "#Creating the list containing string, numbers, vectors and logical values\n",
    "X=list(\"Aniket\",\"Gawde\",c(21,34,56),TRUE,54.78,89,90,34.56,FALSE)\n",
    "print(X)"
   ]
  },
  {
   "cell_type": "code",
   "execution_count": 11,
   "id": "1659f3c2",
   "metadata": {},
   "outputs": [
    {
     "name": "stdout",
     "output_type": "stream",
     "text": [
      "[[1]]\n",
      "[1] \"Gawde\"\n",
      "\n"
     ]
    }
   ],
   "source": [
    "#Access data frame from list\n",
    "#Access data at 1st index\n",
    "print(X[2])"
   ]
  },
  {
   "cell_type": "code",
   "execution_count": 12,
   "id": "73513989",
   "metadata": {},
   "outputs": [
    {
     "name": "stdout",
     "output_type": "stream",
     "text": [
      "[[1]]\n",
      "[1] 21 34 56\n",
      "\n"
     ]
    }
   ],
   "source": [
    "#Access data at 3rd index\n",
    "print(X[3])"
   ]
  },
  {
   "cell_type": "code",
   "execution_count": 20,
   "id": "f7dedbd7",
   "metadata": {},
   "outputs": [
    {
     "name": "stdout",
     "output_type": "stream",
     "text": [
      "[[1]]\n",
      "[1] \"jan\" \"feb\" \"mar\"\n",
      "\n",
      "[[2]]\n",
      "     [,1] [,2] [,3]\n",
      "[1,]    3    5    2\n",
      "[2,]    9    1    8\n",
      "\n",
      "[[3]]\n",
      "[[3]][[1]]\n",
      "[1] \"green\"\n",
      "\n",
      "[[3]][[2]]\n",
      "[1] 12.3\n",
      "\n",
      "\n",
      "$`First Quarter`\n",
      "[1] \"jan\" \"feb\" \"mar\"\n",
      "\n",
      "$`Matrix A`\n",
      "     [,1] [,2] [,3]\n",
      "[1,]    3    5    2\n",
      "[2,]    9    1    8\n",
      "\n",
      "$`I inner List`\n",
      "$`I inner List`[[1]]\n",
      "[1] \"green\"\n",
      "\n",
      "$`I inner List`[[2]]\n",
      "[1] 12.3\n",
      "\n",
      "\n"
     ]
    }
   ],
   "source": [
    "# Name the list of every element\n",
    "#For eg:- create a list containing a vector, a matrix and a list\n",
    "L=list(c(\"jan\",\"feb\",\"mar\"),matrix(c(3,9,5,1,2,8),nrow=2,ncol=3),list(\"green\",12.3))\n",
    "print(L)\n",
    "\n",
    "#Give the name to the element the list use inbuilt method\n",
    "#names(Listname existing name)\n",
    "names(L)=c(\"First Quarter\",\"Matrix A\",\"I inner List\")\n",
    "#show the list\n",
    "print(L)"
   ]
  },
  {
   "cell_type": "code",
   "execution_count": 21,
   "id": "2da27a89",
   "metadata": {},
   "outputs": [
    {
     "name": "stdout",
     "output_type": "stream",
     "text": [
      "[1] \"jan\" \"feb\" \"mar\"\n"
     ]
    }
   ],
   "source": [
    "#Access the data from the name of list\n",
    "print(L$\"First Quarter\")"
   ]
  },
  {
   "cell_type": "code",
   "execution_count": 23,
   "id": "108114ab",
   "metadata": {},
   "outputs": [
    {
     "data": {
      "text/html": [
       "<strong>$`Matrix A`</strong> = <table>\n",
       "<tbody>\n",
       "\t<tr><td>3</td><td>5</td><td>2</td></tr>\n",
       "\t<tr><td>9</td><td>1</td><td>8</td></tr>\n",
       "</tbody>\n",
       "</table>\n"
      ],
      "text/latex": [
       "\\textbf{\\$`Matrix A`} = \\begin{tabular}{lll}\n",
       "\t 3 & 5 & 2\\\\\n",
       "\t 9 & 1 & 8\\\\\n",
       "\\end{tabular}\n"
      ],
      "text/markdown": [
       "**$`Matrix A`** = \n",
       "| 3 | 5 | 2 |\n",
       "| 9 | 1 | 8 |\n",
       "\n"
      ],
      "text/plain": [
       "$`Matrix A`\n",
       "     [,1] [,2] [,3]\n",
       "[1,]    3    5    2\n",
       "[2,]    9    1    8\n"
      ]
     },
     "metadata": {},
     "output_type": "display_data"
    }
   ],
   "source": [
    "#Accesss the data from index list\n",
    "L[2]"
   ]
  },
  {
   "cell_type": "code",
   "execution_count": 25,
   "id": "868cb6df",
   "metadata": {},
   "outputs": [
    {
     "name": "stdout",
     "output_type": "stream",
     "text": [
      "$`First Quarter`\n",
      "[1] \"jan\" \"feb\" \"mar\"\n",
      "\n",
      "$`Matrix A`\n",
      "     [,1] [,2] [,3]\n",
      "[1,]    3    5    2\n",
      "[2,]    9    1    8\n",
      "\n",
      "$`I inner List`\n",
      "$`I inner List`[[1]]\n",
      "[1] \"green\"\n",
      "\n",
      "$`I inner List`[[2]]\n",
      "[1] 12.3\n",
      "\n",
      "\n",
      "[[4]]\n",
      "[1] \"Andheri\"\n",
      "\n"
     ]
    }
   ],
   "source": [
    "#Manipulate List Element\n",
    "#Add element at the end of the list\n",
    "L[4]=\"Andheri\"\n",
    "print(L)"
   ]
  },
  {
   "cell_type": "code",
   "execution_count": 26,
   "id": "6b67adf1",
   "metadata": {},
   "outputs": [
    {
     "name": "stdout",
     "output_type": "stream",
     "text": [
      "[[1]]\n",
      "[1] \"Andheri\"\n",
      "\n"
     ]
    }
   ],
   "source": [
    "#Access 4 Element\n",
    "print(L[4])"
   ]
  },
  {
   "cell_type": "code",
   "execution_count": 27,
   "id": "a80f7057",
   "metadata": {},
   "outputs": [
    {
     "name": "stdout",
     "output_type": "stream",
     "text": [
      "$<NA>\n",
      "NULL\n",
      "\n"
     ]
    }
   ],
   "source": [
    "#Remove the ladt element from list\n",
    "L[4]=NULL #NULL inbuilt command for null\n",
    "print(L[4])"
   ]
  },
  {
   "cell_type": "code",
   "execution_count": 30,
   "id": "8fb49c20",
   "metadata": {},
   "outputs": [
    {
     "name": "stdout",
     "output_type": "stream",
     "text": [
      "$`First Quarter`\n",
      "[1] \"jan\" \"feb\" \"mar\"\n",
      "\n",
      "$`Matrix A`\n",
      "     [,1] [,2] [,3]\n",
      "[1,]    3    5    2\n",
      "[2,]    9    1    8\n",
      "\n",
      "$`I inner List`\n",
      "[1] \"Aniket Gawde\"\n",
      "\n"
     ]
    }
   ],
   "source": [
    "#update the 3rd element with new value \n",
    "L[3]=\"Aniket Gawde\"\n",
    "print(L)"
   ]
  },
  {
   "cell_type": "code",
   "execution_count": 36,
   "id": "a9e1c3ba",
   "metadata": {},
   "outputs": [
    {
     "name": "stdout",
     "output_type": "stream",
     "text": [
      "[[1]]\n",
      "[1] 1\n",
      "\n",
      "[[2]]\n",
      "[1] 2\n",
      "\n",
      "[[3]]\n",
      "[1] 3\n",
      "\n",
      "[1] \"Second list\"\n",
      "[[1]]\n",
      "[1] \"mon\"\n",
      "\n",
      "[[2]]\n",
      "[1] \"tue\"\n",
      "\n",
      "[[3]]\n",
      "[1] \"wed\"\n",
      "\n"
     ]
    }
   ],
   "source": [
    "#Merge a List : means join 2 or more list\n",
    "#for example : we have 2 List\n",
    "l1=list(1,2,3)\n",
    "l2=list(\"mon\",\"tue\",\"wed\")\n",
    "print(l1)\n",
    "print(\"Second list\")\n",
    "print(l2)"
   ]
  },
  {
   "cell_type": "code",
   "execution_count": 37,
   "id": "5a059f88",
   "metadata": {},
   "outputs": [
    {
     "name": "stdout",
     "output_type": "stream",
     "text": [
      "[[1]]\n",
      "[1] 1\n",
      "\n",
      "[[2]]\n",
      "[1] 2\n",
      "\n",
      "[[3]]\n",
      "[1] 3\n",
      "\n"
     ]
    }
   ],
   "source": [
    "#Merge 2 list l1 and l2 and hold in 3rd list\n",
    "l3=c(l1,l2)\n",
    "print(l1)"
   ]
  },
  {
   "cell_type": "code",
   "execution_count": 39,
   "id": "40b9fb6e",
   "metadata": {},
   "outputs": [
    {
     "name": "stdout",
     "output_type": "stream",
     "text": [
      "[1] \"list\"\n"
     ]
    }
   ],
   "source": [
    "#check the type of l3\n",
    "print(class(l3))"
   ]
  },
  {
   "cell_type": "code",
   "execution_count": 40,
   "id": "51c37a8f",
   "metadata": {},
   "outputs": [
    {
     "name": "stdout",
     "output_type": "stream",
     "text": [
      "[1] \"character\"\n",
      "[1] \"1\"   \"2\"   \"3\"   \"mon\" \"tue\" \"wed\"\n"
     ]
    }
   ],
   "source": [
    "#Convert list into vector : then use inbuilt method unlist()\n",
    "X=unlist(l3)\n",
    "print(class(X))\n",
    "print(X)"
   ]
  },
  {
   "cell_type": "code",
   "execution_count": 41,
   "id": "770a9407",
   "metadata": {},
   "outputs": [],
   "source": [
    "# We can create a vector with C"
   ]
  },
  {
   "cell_type": "code",
   "execution_count": 45,
   "id": "6292989d",
   "metadata": {},
   "outputs": [
    {
     "name": "stdout",
     "output_type": "stream",
     "text": [
      "[[1]]\n",
      "[1] 1 2 3 4 5\n",
      "\n",
      "[[1]]\n",
      "[1] 10 11 12 13 14\n",
      "\n"
     ]
    }
   ],
   "source": [
    "#Suppose we have 2 list \n",
    "X=list(1:5) \n",
    "Y=list(10:14)\n",
    "print(X)\n",
    "print(Y)"
   ]
  },
  {
   "cell_type": "code",
   "execution_count": 47,
   "id": "dc6c7855",
   "metadata": {},
   "outputs": [
    {
     "name": "stdout",
     "output_type": "stream",
     "text": [
      "[1] \"list\"\n",
      "[1] \"list\"\n"
     ]
    }
   ],
   "source": [
    "#check the datatype of list\n",
    "print(class(X))\n",
    "print(class(Y))"
   ]
  },
  {
   "cell_type": "code",
   "execution_count": 49,
   "id": "db03c569",
   "metadata": {},
   "outputs": [
    {
     "name": "stdout",
     "output_type": "stream",
     "text": [
      "[1] \"integer\"\n",
      "[1] \"integer\"\n"
     ]
    },
    {
     "data": {
      "text/html": [
       "<ol class=list-inline>\n",
       "\t<li>11</li>\n",
       "\t<li>13</li>\n",
       "\t<li>15</li>\n",
       "\t<li>17</li>\n",
       "\t<li>19</li>\n",
       "</ol>\n"
      ],
      "text/latex": [
       "\\begin{enumerate*}\n",
       "\\item 11\n",
       "\\item 13\n",
       "\\item 15\n",
       "\\item 17\n",
       "\\item 19\n",
       "\\end{enumerate*}\n"
      ],
      "text/markdown": [
       "1. 11\n",
       "2. 13\n",
       "3. 15\n",
       "4. 17\n",
       "5. 19\n",
       "\n",
       "\n"
      ],
      "text/plain": [
       "[1] 11 13 15 17 19"
      ]
     },
     "metadata": {},
     "output_type": "display_data"
    }
   ],
   "source": [
    "#perform mathematical opertion on both of list means to add value of 2 list\n",
    "#note :no any mathematical operation on list\n",
    "#so we have to change the given loist into vector, use inbuilt method\n",
    "#unlist()\n",
    "A=unlist(X)\n",
    "B=unlist(Y)\n",
    "print(class(A))\n",
    "print(class(B))\n",
    "A+B"
   ]
  },
  {
   "cell_type": "code",
   "execution_count": 50,
   "id": "36d4a52f",
   "metadata": {},
   "outputs": [],
   "source": [
    "# Array in R program : work on 2 Dimension means(matrix)\n",
    "# Array to hold more then 2 matrix\n",
    "#Syntax : array(data,dim=(n,row,ncol,no. of matrix))"
   ]
  },
  {
   "cell_type": "code",
   "execution_count": 56,
   "id": "2b8b8306",
   "metadata": {},
   "outputs": [
    {
     "name": "stdout",
     "output_type": "stream",
     "text": [
      ", , 1\n",
      "\n",
      "     [,1] [,2] [,3]\n",
      "[1,]    5    3   11\n",
      "[2,]    9   10   12\n",
      "\n",
      ", , 2\n",
      "\n",
      "     [,1] [,2] [,3]\n",
      "[1,]   13   15    9\n",
      "[2,]   14    5    3\n",
      "\n"
     ]
    },
    {
     "data": {
      "text/html": [
       "3"
      ],
      "text/latex": [
       "3"
      ],
      "text/markdown": [
       "3"
      ],
      "text/plain": [
       "[1] 3"
      ]
     },
     "metadata": {},
     "output_type": "display_data"
    }
   ],
   "source": [
    "#Create 2 vectors v1 and v2 of different length\n",
    "v1=c(5,9,3)\n",
    "v2=c(10,11,12,13,14,15)\n",
    "result=array(c(v1,v2),dim=c(2,3,2))\n",
    "print(result)\n",
    "result[2,3,2] #index (2nd matrix, 3column, 2nd index )"
   ]
  },
  {
   "cell_type": "code",
   "execution_count": 60,
   "id": "f1bc0a28",
   "metadata": {},
   "outputs": [
    {
     "name": "stdout",
     "output_type": "stream",
     "text": [
      ", , Matrix1\n",
      "\n",
      "     col1 col2 col3\n",
      "row1    5   10   13\n",
      "row2    9   11   14\n",
      "row3    3   12   15\n",
      "\n",
      ", , Matrix2\n",
      "\n",
      "     col1 col2 col3\n",
      "row1    5   10   13\n",
      "row2    9   11   14\n",
      "row3    3   12   15\n",
      "\n"
     ]
    }
   ],
   "source": [
    "# Naming columns and rows and matrix name\n",
    "# Create 2 vectors v1 and v2 of different lenght\n",
    "v1=c(5,9,3)\n",
    "v2=c(10,11,12,13,14,15)\n",
    "colnames=c(\"col1\",\"col2\",\"col3\")\n",
    "rownames=c(\"row1\",\"row2\",\"row3\")\n",
    "matrixname=c(\"Matrix1\",\"Matrix2\")\n",
    "#create a array with 2 matrix\n",
    "result=array(c(v1,v2),dim=c(3,3,2),dimnames=list(rownames,colnames,matrixname))\n",
    "print(result)"
   ]
  },
  {
   "cell_type": "code",
   "execution_count": 67,
   "id": "8d65c2c9",
   "metadata": {},
   "outputs": [
    {
     "name": "stdout",
     "output_type": "stream",
     "text": [
      "     col1 col2 col3\n",
      "row1    5   10   13\n",
      "row2    9   11   14\n",
      "row3    3   12   15\n"
     ]
    }
   ],
   "source": [
    "#Acces data from 2nd matrix all element\n",
    "print(result[,,\"Matrix2\"])"
   ]
  },
  {
   "cell_type": "code",
   "execution_count": 69,
   "id": "5bcbaa24",
   "metadata": {},
   "outputs": [
    {
     "name": "stdout",
     "output_type": "stream",
     "text": [
      "col1 col2 col3 \n",
      "   3   12   15 \n"
     ]
    }
   ],
   "source": [
    "#Print the third row of the second matrix of the array\n",
    "print(result[3,,'Matrix2'])"
   ]
  },
  {
   "cell_type": "code",
   "execution_count": 70,
   "id": "934f0f09",
   "metadata": {},
   "outputs": [
    {
     "name": "stdout",
     "output_type": "stream",
     "text": [
      "[1] 13\n"
     ]
    }
   ],
   "source": [
    "#print the element in the 1st row and 3rd column of the first matrix of array\n",
    "print(result[1,3,1])"
   ]
  },
  {
   "cell_type": "code",
   "execution_count": 78,
   "id": "70928e7d",
   "metadata": {},
   "outputs": [
    {
     "name": "stdout",
     "output_type": "stream",
     "text": [
      "[1] \"A Matrix\"\n",
      "     col1 col2 col3\n",
      "row1    5   10   13\n",
      "row2    9   11   14\n",
      "row3    3   12   15\n",
      "[1] \"B Matrix\"\n",
      "     col1 col2 col3\n",
      "row1    5   10   13\n",
      "row2    9   11   14\n",
      "row3    3   12   15\n",
      "[1] \"Sum of Matrix\"\n",
      "     col1 col2 col3\n",
      "row1   10   20   26\n",
      "row2   18   22   28\n",
      "row3    6   24   30\n"
     ]
    }
   ],
   "source": [
    "# Access all data from matrix1 and hold in A\n",
    "A=result[,,1] #A=result[,,'Matrix1']\n",
    "# Access all data from matrix1 and hold in B\n",
    "B=result[,,2]\n",
    "print(\"A Matrix\")\n",
    "print(A)\n",
    "print(\"B Matrix\")\n",
    "print(B)\n",
    "print(\"Sum of Matrix\")\n",
    "print(A+B)"
   ]
  },
  {
   "cell_type": "code",
   "execution_count": 80,
   "id": "78a48654",
   "metadata": {},
   "outputs": [
    {
     "name": "stdout",
     "output_type": "stream",
     "text": [
      ", , Matrix1\n",
      "\n",
      "     col1 col2 col3\n",
      "row1    5   10   13\n",
      "row2    9   11   14\n",
      "row3    3   12   15\n",
      "\n",
      ", , Matrix2\n",
      "\n",
      "     col1 col2 col3\n",
      "row1    5   10   13\n",
      "row2    9   11   14\n",
      "row3    3   12   15\n",
      "\n"
     ]
    },
    {
     "data": {
      "text/html": [
       "<dl class=dl-horizontal>\n",
       "\t<dt>row1</dt>\n",
       "\t\t<dd>56</dd>\n",
       "\t<dt>row2</dt>\n",
       "\t\t<dd>68</dd>\n",
       "\t<dt>row3</dt>\n",
       "\t\t<dd>60</dd>\n",
       "</dl>\n"
      ],
      "text/latex": [
       "\\begin{description*}\n",
       "\\item[row1] 56\n",
       "\\item[row2] 68\n",
       "\\item[row3] 60\n",
       "\\end{description*}\n"
      ],
      "text/markdown": [
       "row1\n",
       ":   56row2\n",
       ":   68row3\n",
       ":   60\n",
       "\n"
      ],
      "text/plain": [
       "row1 row2 row3 \n",
       "  56   68   60 "
      ]
     },
     "metadata": {},
     "output_type": "display_data"
    }
   ],
   "source": [
    "print(result)\n",
    "apply(result,c(1),sum)"
   ]
  },
  {
   "cell_type": "code",
   "execution_count": 81,
   "id": "146ae199",
   "metadata": {},
   "outputs": [
    {
     "name": "stdout",
     "output_type": "stream",
     "text": [
      "col1 col2 col3 \n",
      "  34   66   84 \n"
     ]
    }
   ],
   "source": [
    "answer=apply(result,c(2),sum) #colwise sum\n",
    "print(answer)"
   ]
  },
  {
   "cell_type": "code",
   "execution_count": 85,
   "id": "2fc94691",
   "metadata": {},
   "outputs": [
    {
     "name": "stdout",
     "output_type": "stream",
     "text": [
      "[1] \"Gawade    \"\n"
     ]
    }
   ],
   "source": [
    "#String formating in R\n",
    "#Placing string in the left side\n",
    "result1 <-format(\"Gawade\", width= 10 ,justify= \"l\")\n",
    "print(result1)"
   ]
  },
  {
   "cell_type": "code",
   "execution_count": 86,
   "id": "ce761e20",
   "metadata": {},
   "outputs": [
    {
     "name": "stdout",
     "output_type": "stream",
     "text": [
      "[1] \"    Aniket\"\n"
     ]
    }
   ],
   "source": [
    "#String formating in R\n",
    "#Placing string in the right side\n",
    "result1 <-format(\"Aniket\", width= 10 ,justify= \"r\")\n",
    "print(result1)"
   ]
  },
  {
   "cell_type": "code",
   "execution_count": 90,
   "id": "3478c332",
   "metadata": {},
   "outputs": [
    {
     "name": "stdout",
     "output_type": "stream",
     "text": [
      "[1] \"  vijay   \"\n"
     ]
    }
   ],
   "source": [
    "#String formating in R\n",
    "#Placing string in the center side\n",
    "result1 <-format(\"vijay\", width= 10 ,justify= \"c\")\n",
    "print(result1)"
   ]
  },
  {
   "cell_type": "code",
   "execution_count": 93,
   "id": "759521b4",
   "metadata": {},
   "outputs": [
    {
     "name": "stdout",
     "output_type": "stream",
     "text": [
      "[1] \"12.346\"\n"
     ]
    }
   ],
   "source": [
    "# Rounding off the specified digits\n",
    "# into 4 digits\n",
    "result21 <-format(12.3456789, digits=5)\n",
    "print(result1)"
   ]
  },
  {
   "cell_type": "code",
   "execution_count": 94,
   "id": "ed22dc26",
   "metadata": {},
   "outputs": [
    {
     "name": "stdout",
     "output_type": "stream",
     "text": [
      "[1] \"12.34568\"\n"
     ]
    }
   ],
   "source": [
    "result2 <-format(12.3456789, nsmall=5) #nsmall means he will take no. after the decimal\n",
    "print(result2)"
   ]
  },
  {
   "cell_type": "code",
   "execution_count": null,
   "id": "cf6a1d69",
   "metadata": {},
   "outputs": [],
   "source": []
  }
 ],
 "metadata": {
  "kernelspec": {
   "display_name": "R",
   "language": "R",
   "name": "ir"
  },
  "language_info": {
   "codemirror_mode": "r",
   "file_extension": ".r",
   "mimetype": "text/x-r-source",
   "name": "R",
   "pygments_lexer": "r",
   "version": "3.6.1"
  }
 },
 "nbformat": 4,
 "nbformat_minor": 5
}
